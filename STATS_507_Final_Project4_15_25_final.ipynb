{
  "nbformat": 4,
  "nbformat_minor": 0,
  "metadata": {
    "colab": {
      "provenance": [],
      "gpuType": "T4"
    },
    "kernelspec": {
      "name": "python3",
      "display_name": "Python 3"
    },
    "language_info": {
      "name": "python"
    },
    "accelerator": "GPU",
    "widgets": {
      "application/vnd.jupyter.widget-state+json": {
        "5d77194aa3e64e1ba6e2c22d835a8bc2": {
          "model_module": "@jupyter-widgets/controls",
          "model_name": "HBoxModel",
          "model_module_version": "1.5.0",
          "state": {
            "_dom_classes": [],
            "_model_module": "@jupyter-widgets/controls",
            "_model_module_version": "1.5.0",
            "_model_name": "HBoxModel",
            "_view_count": null,
            "_view_module": "@jupyter-widgets/controls",
            "_view_module_version": "1.5.0",
            "_view_name": "HBoxView",
            "box_style": "",
            "children": [
              "IPY_MODEL_ee2618b7c019412dbf0e14a09c470f2c",
              "IPY_MODEL_c9edc09cfdbf4b0da07dea3cb33b7434",
              "IPY_MODEL_a2d831b2c24e48148bcac70cb175d6a9"
            ],
            "layout": "IPY_MODEL_d4abb0c11c6e47068b79efa33b9f5fc1"
          }
        },
        "ee2618b7c019412dbf0e14a09c470f2c": {
          "model_module": "@jupyter-widgets/controls",
          "model_name": "HTMLModel",
          "model_module_version": "1.5.0",
          "state": {
            "_dom_classes": [],
            "_model_module": "@jupyter-widgets/controls",
            "_model_module_version": "1.5.0",
            "_model_name": "HTMLModel",
            "_view_count": null,
            "_view_module": "@jupyter-widgets/controls",
            "_view_module_version": "1.5.0",
            "_view_name": "HTMLView",
            "description": "",
            "description_tooltip": null,
            "layout": "IPY_MODEL_bd6cce3f1f504964b0aaf5759d9828b8",
            "placeholder": "​",
            "style": "IPY_MODEL_cf02c238f02c426ab3674dad8820520e",
            "value": "README.md: 100%"
          }
        },
        "c9edc09cfdbf4b0da07dea3cb33b7434": {
          "model_module": "@jupyter-widgets/controls",
          "model_name": "FloatProgressModel",
          "model_module_version": "1.5.0",
          "state": {
            "_dom_classes": [],
            "_model_module": "@jupyter-widgets/controls",
            "_model_module_version": "1.5.0",
            "_model_name": "FloatProgressModel",
            "_view_count": null,
            "_view_module": "@jupyter-widgets/controls",
            "_view_module_version": "1.5.0",
            "_view_name": "ProgressView",
            "bar_style": "success",
            "description": "",
            "description_tooltip": null,
            "layout": "IPY_MODEL_3933c6593dfd4bf5a4290cb97683217a",
            "max": 577,
            "min": 0,
            "orientation": "horizontal",
            "style": "IPY_MODEL_55fac80ed550434894c919dd1854471b",
            "value": 577
          }
        },
        "a2d831b2c24e48148bcac70cb175d6a9": {
          "model_module": "@jupyter-widgets/controls",
          "model_name": "HTMLModel",
          "model_module_version": "1.5.0",
          "state": {
            "_dom_classes": [],
            "_model_module": "@jupyter-widgets/controls",
            "_model_module_version": "1.5.0",
            "_model_name": "HTMLModel",
            "_view_count": null,
            "_view_module": "@jupyter-widgets/controls",
            "_view_module_version": "1.5.0",
            "_view_name": "HTMLView",
            "description": "",
            "description_tooltip": null,
            "layout": "IPY_MODEL_96b351d7f8a74a85ac522149d090117e",
            "placeholder": "​",
            "style": "IPY_MODEL_fb7dc53643ed4606b1f831b83eddfcb7",
            "value": " 577/577 [00:00&lt;00:00, 60.4kB/s]"
          }
        },
        "d4abb0c11c6e47068b79efa33b9f5fc1": {
          "model_module": "@jupyter-widgets/base",
          "model_name": "LayoutModel",
          "model_module_version": "1.2.0",
          "state": {
            "_model_module": "@jupyter-widgets/base",
            "_model_module_version": "1.2.0",
            "_model_name": "LayoutModel",
            "_view_count": null,
            "_view_module": "@jupyter-widgets/base",
            "_view_module_version": "1.2.0",
            "_view_name": "LayoutView",
            "align_content": null,
            "align_items": null,
            "align_self": null,
            "border": null,
            "bottom": null,
            "display": null,
            "flex": null,
            "flex_flow": null,
            "grid_area": null,
            "grid_auto_columns": null,
            "grid_auto_flow": null,
            "grid_auto_rows": null,
            "grid_column": null,
            "grid_gap": null,
            "grid_row": null,
            "grid_template_areas": null,
            "grid_template_columns": null,
            "grid_template_rows": null,
            "height": null,
            "justify_content": null,
            "justify_items": null,
            "left": null,
            "margin": null,
            "max_height": null,
            "max_width": null,
            "min_height": null,
            "min_width": null,
            "object_fit": null,
            "object_position": null,
            "order": null,
            "overflow": null,
            "overflow_x": null,
            "overflow_y": null,
            "padding": null,
            "right": null,
            "top": null,
            "visibility": null,
            "width": null
          }
        },
        "bd6cce3f1f504964b0aaf5759d9828b8": {
          "model_module": "@jupyter-widgets/base",
          "model_name": "LayoutModel",
          "model_module_version": "1.2.0",
          "state": {
            "_model_module": "@jupyter-widgets/base",
            "_model_module_version": "1.2.0",
            "_model_name": "LayoutModel",
            "_view_count": null,
            "_view_module": "@jupyter-widgets/base",
            "_view_module_version": "1.2.0",
            "_view_name": "LayoutView",
            "align_content": null,
            "align_items": null,
            "align_self": null,
            "border": null,
            "bottom": null,
            "display": null,
            "flex": null,
            "flex_flow": null,
            "grid_area": null,
            "grid_auto_columns": null,
            "grid_auto_flow": null,
            "grid_auto_rows": null,
            "grid_column": null,
            "grid_gap": null,
            "grid_row": null,
            "grid_template_areas": null,
            "grid_template_columns": null,
            "grid_template_rows": null,
            "height": null,
            "justify_content": null,
            "justify_items": null,
            "left": null,
            "margin": null,
            "max_height": null,
            "max_width": null,
            "min_height": null,
            "min_width": null,
            "object_fit": null,
            "object_position": null,
            "order": null,
            "overflow": null,
            "overflow_x": null,
            "overflow_y": null,
            "padding": null,
            "right": null,
            "top": null,
            "visibility": null,
            "width": null
          }
        },
        "cf02c238f02c426ab3674dad8820520e": {
          "model_module": "@jupyter-widgets/controls",
          "model_name": "DescriptionStyleModel",
          "model_module_version": "1.5.0",
          "state": {
            "_model_module": "@jupyter-widgets/controls",
            "_model_module_version": "1.5.0",
            "_model_name": "DescriptionStyleModel",
            "_view_count": null,
            "_view_module": "@jupyter-widgets/base",
            "_view_module_version": "1.2.0",
            "_view_name": "StyleView",
            "description_width": ""
          }
        },
        "3933c6593dfd4bf5a4290cb97683217a": {
          "model_module": "@jupyter-widgets/base",
          "model_name": "LayoutModel",
          "model_module_version": "1.2.0",
          "state": {
            "_model_module": "@jupyter-widgets/base",
            "_model_module_version": "1.2.0",
            "_model_name": "LayoutModel",
            "_view_count": null,
            "_view_module": "@jupyter-widgets/base",
            "_view_module_version": "1.2.0",
            "_view_name": "LayoutView",
            "align_content": null,
            "align_items": null,
            "align_self": null,
            "border": null,
            "bottom": null,
            "display": null,
            "flex": null,
            "flex_flow": null,
            "grid_area": null,
            "grid_auto_columns": null,
            "grid_auto_flow": null,
            "grid_auto_rows": null,
            "grid_column": null,
            "grid_gap": null,
            "grid_row": null,
            "grid_template_areas": null,
            "grid_template_columns": null,
            "grid_template_rows": null,
            "height": null,
            "justify_content": null,
            "justify_items": null,
            "left": null,
            "margin": null,
            "max_height": null,
            "max_width": null,
            "min_height": null,
            "min_width": null,
            "object_fit": null,
            "object_position": null,
            "order": null,
            "overflow": null,
            "overflow_x": null,
            "overflow_y": null,
            "padding": null,
            "right": null,
            "top": null,
            "visibility": null,
            "width": null
          }
        },
        "55fac80ed550434894c919dd1854471b": {
          "model_module": "@jupyter-widgets/controls",
          "model_name": "ProgressStyleModel",
          "model_module_version": "1.5.0",
          "state": {
            "_model_module": "@jupyter-widgets/controls",
            "_model_module_version": "1.5.0",
            "_model_name": "ProgressStyleModel",
            "_view_count": null,
            "_view_module": "@jupyter-widgets/base",
            "_view_module_version": "1.2.0",
            "_view_name": "StyleView",
            "bar_color": null,
            "description_width": ""
          }
        },
        "96b351d7f8a74a85ac522149d090117e": {
          "model_module": "@jupyter-widgets/base",
          "model_name": "LayoutModel",
          "model_module_version": "1.2.0",
          "state": {
            "_model_module": "@jupyter-widgets/base",
            "_model_module_version": "1.2.0",
            "_model_name": "LayoutModel",
            "_view_count": null,
            "_view_module": "@jupyter-widgets/base",
            "_view_module_version": "1.2.0",
            "_view_name": "LayoutView",
            "align_content": null,
            "align_items": null,
            "align_self": null,
            "border": null,
            "bottom": null,
            "display": null,
            "flex": null,
            "flex_flow": null,
            "grid_area": null,
            "grid_auto_columns": null,
            "grid_auto_flow": null,
            "grid_auto_rows": null,
            "grid_column": null,
            "grid_gap": null,
            "grid_row": null,
            "grid_template_areas": null,
            "grid_template_columns": null,
            "grid_template_rows": null,
            "height": null,
            "justify_content": null,
            "justify_items": null,
            "left": null,
            "margin": null,
            "max_height": null,
            "max_width": null,
            "min_height": null,
            "min_width": null,
            "object_fit": null,
            "object_position": null,
            "order": null,
            "overflow": null,
            "overflow_x": null,
            "overflow_y": null,
            "padding": null,
            "right": null,
            "top": null,
            "visibility": null,
            "width": null
          }
        },
        "fb7dc53643ed4606b1f831b83eddfcb7": {
          "model_module": "@jupyter-widgets/controls",
          "model_name": "DescriptionStyleModel",
          "model_module_version": "1.5.0",
          "state": {
            "_model_module": "@jupyter-widgets/controls",
            "_model_module_version": "1.5.0",
            "_model_name": "DescriptionStyleModel",
            "_view_count": null,
            "_view_module": "@jupyter-widgets/base",
            "_view_module_version": "1.2.0",
            "_view_name": "StyleView",
            "description_width": ""
          }
        },
        "7557dae5b587490caa29bd9abf83940a": {
          "model_module": "@jupyter-widgets/controls",
          "model_name": "HBoxModel",
          "model_module_version": "1.5.0",
          "state": {
            "_dom_classes": [],
            "_model_module": "@jupyter-widgets/controls",
            "_model_module_version": "1.5.0",
            "_model_name": "HBoxModel",
            "_view_count": null,
            "_view_module": "@jupyter-widgets/controls",
            "_view_module_version": "1.5.0",
            "_view_name": "HBoxView",
            "box_style": "",
            "children": [
              "IPY_MODEL_5c5a0bb228d34322bb4544aa776c53b7",
              "IPY_MODEL_9afe49b2126341099ff4e29364b4014f",
              "IPY_MODEL_b1a4cb3713634f65921469a902da17d8"
            ],
            "layout": "IPY_MODEL_46524e4d97614de6bb5f1f6c24719bfa"
          }
        },
        "5c5a0bb228d34322bb4544aa776c53b7": {
          "model_module": "@jupyter-widgets/controls",
          "model_name": "HTMLModel",
          "model_module_version": "1.5.0",
          "state": {
            "_dom_classes": [],
            "_model_module": "@jupyter-widgets/controls",
            "_model_module_version": "1.5.0",
            "_model_name": "HTMLModel",
            "_view_count": null,
            "_view_module": "@jupyter-widgets/controls",
            "_view_module_version": "1.5.0",
            "_view_name": "HTMLView",
            "description": "",
            "description_tooltip": null,
            "layout": "IPY_MODEL_5c8eef64c1aa4cd9901ea9f048d1b8ea",
            "placeholder": "​",
            "style": "IPY_MODEL_a5695bd649614a9999bab78ef82ade73",
            "value": "(…)-00000-of-00001-01148daec2698532.parquet: 100%"
          }
        },
        "9afe49b2126341099ff4e29364b4014f": {
          "model_module": "@jupyter-widgets/controls",
          "model_name": "FloatProgressModel",
          "model_module_version": "1.5.0",
          "state": {
            "_dom_classes": [],
            "_model_module": "@jupyter-widgets/controls",
            "_model_module_version": "1.5.0",
            "_model_name": "FloatProgressModel",
            "_view_count": null,
            "_view_module": "@jupyter-widgets/controls",
            "_view_module_version": "1.5.0",
            "_view_name": "ProgressView",
            "bar_style": "success",
            "description": "",
            "description_tooltip": null,
            "layout": "IPY_MODEL_67bdb187f48c41b783d079f467fbb299",
            "max": 69940509,
            "min": 0,
            "orientation": "horizontal",
            "style": "IPY_MODEL_b04cc9dd0ecf428b9c9d1860742a7315",
            "value": 69940509
          }
        },
        "b1a4cb3713634f65921469a902da17d8": {
          "model_module": "@jupyter-widgets/controls",
          "model_name": "HTMLModel",
          "model_module_version": "1.5.0",
          "state": {
            "_dom_classes": [],
            "_model_module": "@jupyter-widgets/controls",
            "_model_module_version": "1.5.0",
            "_model_name": "HTMLModel",
            "_view_count": null,
            "_view_module": "@jupyter-widgets/controls",
            "_view_module_version": "1.5.0",
            "_view_name": "HTMLView",
            "description": "",
            "description_tooltip": null,
            "layout": "IPY_MODEL_765b03fba00e45aba15b77c8f17967f6",
            "placeholder": "​",
            "style": "IPY_MODEL_0c113b8f42c347b8b29e296f5fce42e1",
            "value": " 69.9M/69.9M [00:00&lt;00:00, 110MB/s]"
          }
        },
        "46524e4d97614de6bb5f1f6c24719bfa": {
          "model_module": "@jupyter-widgets/base",
          "model_name": "LayoutModel",
          "model_module_version": "1.2.0",
          "state": {
            "_model_module": "@jupyter-widgets/base",
            "_model_module_version": "1.2.0",
            "_model_name": "LayoutModel",
            "_view_count": null,
            "_view_module": "@jupyter-widgets/base",
            "_view_module_version": "1.2.0",
            "_view_name": "LayoutView",
            "align_content": null,
            "align_items": null,
            "align_self": null,
            "border": null,
            "bottom": null,
            "display": null,
            "flex": null,
            "flex_flow": null,
            "grid_area": null,
            "grid_auto_columns": null,
            "grid_auto_flow": null,
            "grid_auto_rows": null,
            "grid_column": null,
            "grid_gap": null,
            "grid_row": null,
            "grid_template_areas": null,
            "grid_template_columns": null,
            "grid_template_rows": null,
            "height": null,
            "justify_content": null,
            "justify_items": null,
            "left": null,
            "margin": null,
            "max_height": null,
            "max_width": null,
            "min_height": null,
            "min_width": null,
            "object_fit": null,
            "object_position": null,
            "order": null,
            "overflow": null,
            "overflow_x": null,
            "overflow_y": null,
            "padding": null,
            "right": null,
            "top": null,
            "visibility": null,
            "width": null
          }
        },
        "5c8eef64c1aa4cd9901ea9f048d1b8ea": {
          "model_module": "@jupyter-widgets/base",
          "model_name": "LayoutModel",
          "model_module_version": "1.2.0",
          "state": {
            "_model_module": "@jupyter-widgets/base",
            "_model_module_version": "1.2.0",
            "_model_name": "LayoutModel",
            "_view_count": null,
            "_view_module": "@jupyter-widgets/base",
            "_view_module_version": "1.2.0",
            "_view_name": "LayoutView",
            "align_content": null,
            "align_items": null,
            "align_self": null,
            "border": null,
            "bottom": null,
            "display": null,
            "flex": null,
            "flex_flow": null,
            "grid_area": null,
            "grid_auto_columns": null,
            "grid_auto_flow": null,
            "grid_auto_rows": null,
            "grid_column": null,
            "grid_gap": null,
            "grid_row": null,
            "grid_template_areas": null,
            "grid_template_columns": null,
            "grid_template_rows": null,
            "height": null,
            "justify_content": null,
            "justify_items": null,
            "left": null,
            "margin": null,
            "max_height": null,
            "max_width": null,
            "min_height": null,
            "min_width": null,
            "object_fit": null,
            "object_position": null,
            "order": null,
            "overflow": null,
            "overflow_x": null,
            "overflow_y": null,
            "padding": null,
            "right": null,
            "top": null,
            "visibility": null,
            "width": null
          }
        },
        "a5695bd649614a9999bab78ef82ade73": {
          "model_module": "@jupyter-widgets/controls",
          "model_name": "DescriptionStyleModel",
          "model_module_version": "1.5.0",
          "state": {
            "_model_module": "@jupyter-widgets/controls",
            "_model_module_version": "1.5.0",
            "_model_name": "DescriptionStyleModel",
            "_view_count": null,
            "_view_module": "@jupyter-widgets/base",
            "_view_module_version": "1.2.0",
            "_view_name": "StyleView",
            "description_width": ""
          }
        },
        "67bdb187f48c41b783d079f467fbb299": {
          "model_module": "@jupyter-widgets/base",
          "model_name": "LayoutModel",
          "model_module_version": "1.2.0",
          "state": {
            "_model_module": "@jupyter-widgets/base",
            "_model_module_version": "1.2.0",
            "_model_name": "LayoutModel",
            "_view_count": null,
            "_view_module": "@jupyter-widgets/base",
            "_view_module_version": "1.2.0",
            "_view_name": "LayoutView",
            "align_content": null,
            "align_items": null,
            "align_self": null,
            "border": null,
            "bottom": null,
            "display": null,
            "flex": null,
            "flex_flow": null,
            "grid_area": null,
            "grid_auto_columns": null,
            "grid_auto_flow": null,
            "grid_auto_rows": null,
            "grid_column": null,
            "grid_gap": null,
            "grid_row": null,
            "grid_template_areas": null,
            "grid_template_columns": null,
            "grid_template_rows": null,
            "height": null,
            "justify_content": null,
            "justify_items": null,
            "left": null,
            "margin": null,
            "max_height": null,
            "max_width": null,
            "min_height": null,
            "min_width": null,
            "object_fit": null,
            "object_position": null,
            "order": null,
            "overflow": null,
            "overflow_x": null,
            "overflow_y": null,
            "padding": null,
            "right": null,
            "top": null,
            "visibility": null,
            "width": null
          }
        },
        "b04cc9dd0ecf428b9c9d1860742a7315": {
          "model_module": "@jupyter-widgets/controls",
          "model_name": "ProgressStyleModel",
          "model_module_version": "1.5.0",
          "state": {
            "_model_module": "@jupyter-widgets/controls",
            "_model_module_version": "1.5.0",
            "_model_name": "ProgressStyleModel",
            "_view_count": null,
            "_view_module": "@jupyter-widgets/base",
            "_view_module_version": "1.2.0",
            "_view_name": "StyleView",
            "bar_color": null,
            "description_width": ""
          }
        },
        "765b03fba00e45aba15b77c8f17967f6": {
          "model_module": "@jupyter-widgets/base",
          "model_name": "LayoutModel",
          "model_module_version": "1.2.0",
          "state": {
            "_model_module": "@jupyter-widgets/base",
            "_model_module_version": "1.2.0",
            "_model_name": "LayoutModel",
            "_view_count": null,
            "_view_module": "@jupyter-widgets/base",
            "_view_module_version": "1.2.0",
            "_view_name": "LayoutView",
            "align_content": null,
            "align_items": null,
            "align_self": null,
            "border": null,
            "bottom": null,
            "display": null,
            "flex": null,
            "flex_flow": null,
            "grid_area": null,
            "grid_auto_columns": null,
            "grid_auto_flow": null,
            "grid_auto_rows": null,
            "grid_column": null,
            "grid_gap": null,
            "grid_row": null,
            "grid_template_areas": null,
            "grid_template_columns": null,
            "grid_template_rows": null,
            "height": null,
            "justify_content": null,
            "justify_items": null,
            "left": null,
            "margin": null,
            "max_height": null,
            "max_width": null,
            "min_height": null,
            "min_width": null,
            "object_fit": null,
            "object_position": null,
            "order": null,
            "overflow": null,
            "overflow_x": null,
            "overflow_y": null,
            "padding": null,
            "right": null,
            "top": null,
            "visibility": null,
            "width": null
          }
        },
        "0c113b8f42c347b8b29e296f5fce42e1": {
          "model_module": "@jupyter-widgets/controls",
          "model_name": "DescriptionStyleModel",
          "model_module_version": "1.5.0",
          "state": {
            "_model_module": "@jupyter-widgets/controls",
            "_model_module_version": "1.5.0",
            "_model_name": "DescriptionStyleModel",
            "_view_count": null,
            "_view_module": "@jupyter-widgets/base",
            "_view_module_version": "1.2.0",
            "_view_name": "StyleView",
            "description_width": ""
          }
        },
        "3396872aca99497b8af5b7ed3523e287": {
          "model_module": "@jupyter-widgets/controls",
          "model_name": "HBoxModel",
          "model_module_version": "1.5.0",
          "state": {
            "_dom_classes": [],
            "_model_module": "@jupyter-widgets/controls",
            "_model_module_version": "1.5.0",
            "_model_name": "HBoxModel",
            "_view_count": null,
            "_view_module": "@jupyter-widgets/controls",
            "_view_module_version": "1.5.0",
            "_view_name": "HBoxView",
            "box_style": "",
            "children": [
              "IPY_MODEL_d2a9e865d4e446b8bd884367db1bed9b",
              "IPY_MODEL_b17a078308b54336908dc2296514d71a",
              "IPY_MODEL_ee358fe058ab4dc8be9384185d21043c"
            ],
            "layout": "IPY_MODEL_139f9b6aa89a4d3cb504c49b6c88e9c1"
          }
        },
        "d2a9e865d4e446b8bd884367db1bed9b": {
          "model_module": "@jupyter-widgets/controls",
          "model_name": "HTMLModel",
          "model_module_version": "1.5.0",
          "state": {
            "_dom_classes": [],
            "_model_module": "@jupyter-widgets/controls",
            "_model_module_version": "1.5.0",
            "_model_name": "HTMLModel",
            "_view_count": null,
            "_view_module": "@jupyter-widgets/controls",
            "_view_module_version": "1.5.0",
            "_view_name": "HTMLView",
            "description": "",
            "description_tooltip": null,
            "layout": "IPY_MODEL_ad8dd12b97694562b94817708273e2ef",
            "placeholder": "​",
            "style": "IPY_MODEL_11da2236ac214aa4a3debda09f7fd5e7",
            "value": "Generating train split: 100%"
          }
        },
        "b17a078308b54336908dc2296514d71a": {
          "model_module": "@jupyter-widgets/controls",
          "model_name": "FloatProgressModel",
          "model_module_version": "1.5.0",
          "state": {
            "_dom_classes": [],
            "_model_module": "@jupyter-widgets/controls",
            "_model_module_version": "1.5.0",
            "_model_name": "FloatProgressModel",
            "_view_count": null,
            "_view_module": "@jupyter-widgets/controls",
            "_view_module_version": "1.5.0",
            "_view_name": "ProgressView",
            "bar_style": "success",
            "description": "",
            "description_tooltip": null,
            "layout": "IPY_MODEL_0a175d98762542ddbf037147f82e4371",
            "max": 11879,
            "min": 0,
            "orientation": "horizontal",
            "style": "IPY_MODEL_0a6119a010ce4818a67a1218dcbb0773",
            "value": 11879
          }
        },
        "ee358fe058ab4dc8be9384185d21043c": {
          "model_module": "@jupyter-widgets/controls",
          "model_name": "HTMLModel",
          "model_module_version": "1.5.0",
          "state": {
            "_dom_classes": [],
            "_model_module": "@jupyter-widgets/controls",
            "_model_module_version": "1.5.0",
            "_model_name": "HTMLModel",
            "_view_count": null,
            "_view_module": "@jupyter-widgets/controls",
            "_view_module_version": "1.5.0",
            "_view_name": "HTMLView",
            "description": "",
            "description_tooltip": null,
            "layout": "IPY_MODEL_69d07645331743f2bc24c69623fb13c5",
            "placeholder": "​",
            "style": "IPY_MODEL_62aadf4731d8411bbc3279773e9db1cb",
            "value": " 11879/11879 [00:00&lt;00:00, 19326.04 examples/s]"
          }
        },
        "139f9b6aa89a4d3cb504c49b6c88e9c1": {
          "model_module": "@jupyter-widgets/base",
          "model_name": "LayoutModel",
          "model_module_version": "1.2.0",
          "state": {
            "_model_module": "@jupyter-widgets/base",
            "_model_module_version": "1.2.0",
            "_model_name": "LayoutModel",
            "_view_count": null,
            "_view_module": "@jupyter-widgets/base",
            "_view_module_version": "1.2.0",
            "_view_name": "LayoutView",
            "align_content": null,
            "align_items": null,
            "align_self": null,
            "border": null,
            "bottom": null,
            "display": null,
            "flex": null,
            "flex_flow": null,
            "grid_area": null,
            "grid_auto_columns": null,
            "grid_auto_flow": null,
            "grid_auto_rows": null,
            "grid_column": null,
            "grid_gap": null,
            "grid_row": null,
            "grid_template_areas": null,
            "grid_template_columns": null,
            "grid_template_rows": null,
            "height": null,
            "justify_content": null,
            "justify_items": null,
            "left": null,
            "margin": null,
            "max_height": null,
            "max_width": null,
            "min_height": null,
            "min_width": null,
            "object_fit": null,
            "object_position": null,
            "order": null,
            "overflow": null,
            "overflow_x": null,
            "overflow_y": null,
            "padding": null,
            "right": null,
            "top": null,
            "visibility": null,
            "width": null
          }
        },
        "ad8dd12b97694562b94817708273e2ef": {
          "model_module": "@jupyter-widgets/base",
          "model_name": "LayoutModel",
          "model_module_version": "1.2.0",
          "state": {
            "_model_module": "@jupyter-widgets/base",
            "_model_module_version": "1.2.0",
            "_model_name": "LayoutModel",
            "_view_count": null,
            "_view_module": "@jupyter-widgets/base",
            "_view_module_version": "1.2.0",
            "_view_name": "LayoutView",
            "align_content": null,
            "align_items": null,
            "align_self": null,
            "border": null,
            "bottom": null,
            "display": null,
            "flex": null,
            "flex_flow": null,
            "grid_area": null,
            "grid_auto_columns": null,
            "grid_auto_flow": null,
            "grid_auto_rows": null,
            "grid_column": null,
            "grid_gap": null,
            "grid_row": null,
            "grid_template_areas": null,
            "grid_template_columns": null,
            "grid_template_rows": null,
            "height": null,
            "justify_content": null,
            "justify_items": null,
            "left": null,
            "margin": null,
            "max_height": null,
            "max_width": null,
            "min_height": null,
            "min_width": null,
            "object_fit": null,
            "object_position": null,
            "order": null,
            "overflow": null,
            "overflow_x": null,
            "overflow_y": null,
            "padding": null,
            "right": null,
            "top": null,
            "visibility": null,
            "width": null
          }
        },
        "11da2236ac214aa4a3debda09f7fd5e7": {
          "model_module": "@jupyter-widgets/controls",
          "model_name": "DescriptionStyleModel",
          "model_module_version": "1.5.0",
          "state": {
            "_model_module": "@jupyter-widgets/controls",
            "_model_module_version": "1.5.0",
            "_model_name": "DescriptionStyleModel",
            "_view_count": null,
            "_view_module": "@jupyter-widgets/base",
            "_view_module_version": "1.2.0",
            "_view_name": "StyleView",
            "description_width": ""
          }
        },
        "0a175d98762542ddbf037147f82e4371": {
          "model_module": "@jupyter-widgets/base",
          "model_name": "LayoutModel",
          "model_module_version": "1.2.0",
          "state": {
            "_model_module": "@jupyter-widgets/base",
            "_model_module_version": "1.2.0",
            "_model_name": "LayoutModel",
            "_view_count": null,
            "_view_module": "@jupyter-widgets/base",
            "_view_module_version": "1.2.0",
            "_view_name": "LayoutView",
            "align_content": null,
            "align_items": null,
            "align_self": null,
            "border": null,
            "bottom": null,
            "display": null,
            "flex": null,
            "flex_flow": null,
            "grid_area": null,
            "grid_auto_columns": null,
            "grid_auto_flow": null,
            "grid_auto_rows": null,
            "grid_column": null,
            "grid_gap": null,
            "grid_row": null,
            "grid_template_areas": null,
            "grid_template_columns": null,
            "grid_template_rows": null,
            "height": null,
            "justify_content": null,
            "justify_items": null,
            "left": null,
            "margin": null,
            "max_height": null,
            "max_width": null,
            "min_height": null,
            "min_width": null,
            "object_fit": null,
            "object_position": null,
            "order": null,
            "overflow": null,
            "overflow_x": null,
            "overflow_y": null,
            "padding": null,
            "right": null,
            "top": null,
            "visibility": null,
            "width": null
          }
        },
        "0a6119a010ce4818a67a1218dcbb0773": {
          "model_module": "@jupyter-widgets/controls",
          "model_name": "ProgressStyleModel",
          "model_module_version": "1.5.0",
          "state": {
            "_model_module": "@jupyter-widgets/controls",
            "_model_module_version": "1.5.0",
            "_model_name": "ProgressStyleModel",
            "_view_count": null,
            "_view_module": "@jupyter-widgets/base",
            "_view_module_version": "1.2.0",
            "_view_name": "StyleView",
            "bar_color": null,
            "description_width": ""
          }
        },
        "69d07645331743f2bc24c69623fb13c5": {
          "model_module": "@jupyter-widgets/base",
          "model_name": "LayoutModel",
          "model_module_version": "1.2.0",
          "state": {
            "_model_module": "@jupyter-widgets/base",
            "_model_module_version": "1.2.0",
            "_model_name": "LayoutModel",
            "_view_count": null,
            "_view_module": "@jupyter-widgets/base",
            "_view_module_version": "1.2.0",
            "_view_name": "LayoutView",
            "align_content": null,
            "align_items": null,
            "align_self": null,
            "border": null,
            "bottom": null,
            "display": null,
            "flex": null,
            "flex_flow": null,
            "grid_area": null,
            "grid_auto_columns": null,
            "grid_auto_flow": null,
            "grid_auto_rows": null,
            "grid_column": null,
            "grid_gap": null,
            "grid_row": null,
            "grid_template_areas": null,
            "grid_template_columns": null,
            "grid_template_rows": null,
            "height": null,
            "justify_content": null,
            "justify_items": null,
            "left": null,
            "margin": null,
            "max_height": null,
            "max_width": null,
            "min_height": null,
            "min_width": null,
            "object_fit": null,
            "object_position": null,
            "order": null,
            "overflow": null,
            "overflow_x": null,
            "overflow_y": null,
            "padding": null,
            "right": null,
            "top": null,
            "visibility": null,
            "width": null
          }
        },
        "62aadf4731d8411bbc3279773e9db1cb": {
          "model_module": "@jupyter-widgets/controls",
          "model_name": "DescriptionStyleModel",
          "model_module_version": "1.5.0",
          "state": {
            "_model_module": "@jupyter-widgets/controls",
            "_model_module_version": "1.5.0",
            "_model_name": "DescriptionStyleModel",
            "_view_count": null,
            "_view_module": "@jupyter-widgets/base",
            "_view_module_version": "1.2.0",
            "_view_name": "StyleView",
            "description_width": ""
          }
        },
        "8f9f14f3e53f40baa6013c0ed3651c05": {
          "model_module": "@jupyter-widgets/controls",
          "model_name": "HBoxModel",
          "model_module_version": "1.5.0",
          "state": {
            "_dom_classes": [],
            "_model_module": "@jupyter-widgets/controls",
            "_model_module_version": "1.5.0",
            "_model_name": "HBoxModel",
            "_view_count": null,
            "_view_module": "@jupyter-widgets/controls",
            "_view_module_version": "1.5.0",
            "_view_name": "HBoxView",
            "box_style": "",
            "children": [
              "IPY_MODEL_4bdd997a855b4246ba39876c9fccd710",
              "IPY_MODEL_bdec5704b7684a998896ef3a96405b03",
              "IPY_MODEL_5fe0576af9e44d6fbe5aa811dd54e53d"
            ],
            "layout": "IPY_MODEL_e0f26bf8c4f54422818d081ef064caa6"
          }
        },
        "4bdd997a855b4246ba39876c9fccd710": {
          "model_module": "@jupyter-widgets/controls",
          "model_name": "HTMLModel",
          "model_module_version": "1.5.0",
          "state": {
            "_dom_classes": [],
            "_model_module": "@jupyter-widgets/controls",
            "_model_module_version": "1.5.0",
            "_model_name": "HTMLModel",
            "_view_count": null,
            "_view_module": "@jupyter-widgets/controls",
            "_view_module_version": "1.5.0",
            "_view_name": "HTMLView",
            "description": "",
            "description_tooltip": null,
            "layout": "IPY_MODEL_65beed8741d94f2593ba6967c13fcb0f",
            "placeholder": "​",
            "style": "IPY_MODEL_2ceb618ba28943cebfb85959940bd26f",
            "value": "config.json: 100%"
          }
        },
        "bdec5704b7684a998896ef3a96405b03": {
          "model_module": "@jupyter-widgets/controls",
          "model_name": "FloatProgressModel",
          "model_module_version": "1.5.0",
          "state": {
            "_dom_classes": [],
            "_model_module": "@jupyter-widgets/controls",
            "_model_module_version": "1.5.0",
            "_model_name": "FloatProgressModel",
            "_view_count": null,
            "_view_module": "@jupyter-widgets/controls",
            "_view_module_version": "1.5.0",
            "_view_name": "ProgressView",
            "bar_style": "success",
            "description": "",
            "description_tooltip": null,
            "layout": "IPY_MODEL_c7ff8b678ebb4ae484c71387878d7a8d",
            "max": 70183,
            "min": 0,
            "orientation": "horizontal",
            "style": "IPY_MODEL_546cf80778814e10bd3401b701c91708",
            "value": 70183
          }
        },
        "5fe0576af9e44d6fbe5aa811dd54e53d": {
          "model_module": "@jupyter-widgets/controls",
          "model_name": "HTMLModel",
          "model_module_version": "1.5.0",
          "state": {
            "_dom_classes": [],
            "_model_module": "@jupyter-widgets/controls",
            "_model_module_version": "1.5.0",
            "_model_name": "HTMLModel",
            "_view_count": null,
            "_view_module": "@jupyter-widgets/controls",
            "_view_module_version": "1.5.0",
            "_view_name": "HTMLView",
            "description": "",
            "description_tooltip": null,
            "layout": "IPY_MODEL_5324daec5b20477280446dc6af5415dc",
            "placeholder": "​",
            "style": "IPY_MODEL_e68578ab53414ebbbeaa93d42f6d92e9",
            "value": " 70.2k/70.2k [00:00&lt;00:00, 1.02MB/s]"
          }
        },
        "e0f26bf8c4f54422818d081ef064caa6": {
          "model_module": "@jupyter-widgets/base",
          "model_name": "LayoutModel",
          "model_module_version": "1.2.0",
          "state": {
            "_model_module": "@jupyter-widgets/base",
            "_model_module_version": "1.2.0",
            "_model_name": "LayoutModel",
            "_view_count": null,
            "_view_module": "@jupyter-widgets/base",
            "_view_module_version": "1.2.0",
            "_view_name": "LayoutView",
            "align_content": null,
            "align_items": null,
            "align_self": null,
            "border": null,
            "bottom": null,
            "display": null,
            "flex": null,
            "flex_flow": null,
            "grid_area": null,
            "grid_auto_columns": null,
            "grid_auto_flow": null,
            "grid_auto_rows": null,
            "grid_column": null,
            "grid_gap": null,
            "grid_row": null,
            "grid_template_areas": null,
            "grid_template_columns": null,
            "grid_template_rows": null,
            "height": null,
            "justify_content": null,
            "justify_items": null,
            "left": null,
            "margin": null,
            "max_height": null,
            "max_width": null,
            "min_height": null,
            "min_width": null,
            "object_fit": null,
            "object_position": null,
            "order": null,
            "overflow": null,
            "overflow_x": null,
            "overflow_y": null,
            "padding": null,
            "right": null,
            "top": null,
            "visibility": null,
            "width": null
          }
        },
        "65beed8741d94f2593ba6967c13fcb0f": {
          "model_module": "@jupyter-widgets/base",
          "model_name": "LayoutModel",
          "model_module_version": "1.2.0",
          "state": {
            "_model_module": "@jupyter-widgets/base",
            "_model_module_version": "1.2.0",
            "_model_name": "LayoutModel",
            "_view_count": null,
            "_view_module": "@jupyter-widgets/base",
            "_view_module_version": "1.2.0",
            "_view_name": "LayoutView",
            "align_content": null,
            "align_items": null,
            "align_self": null,
            "border": null,
            "bottom": null,
            "display": null,
            "flex": null,
            "flex_flow": null,
            "grid_area": null,
            "grid_auto_columns": null,
            "grid_auto_flow": null,
            "grid_auto_rows": null,
            "grid_column": null,
            "grid_gap": null,
            "grid_row": null,
            "grid_template_areas": null,
            "grid_template_columns": null,
            "grid_template_rows": null,
            "height": null,
            "justify_content": null,
            "justify_items": null,
            "left": null,
            "margin": null,
            "max_height": null,
            "max_width": null,
            "min_height": null,
            "min_width": null,
            "object_fit": null,
            "object_position": null,
            "order": null,
            "overflow": null,
            "overflow_x": null,
            "overflow_y": null,
            "padding": null,
            "right": null,
            "top": null,
            "visibility": null,
            "width": null
          }
        },
        "2ceb618ba28943cebfb85959940bd26f": {
          "model_module": "@jupyter-widgets/controls",
          "model_name": "DescriptionStyleModel",
          "model_module_version": "1.5.0",
          "state": {
            "_model_module": "@jupyter-widgets/controls",
            "_model_module_version": "1.5.0",
            "_model_name": "DescriptionStyleModel",
            "_view_count": null,
            "_view_module": "@jupyter-widgets/base",
            "_view_module_version": "1.2.0",
            "_view_name": "StyleView",
            "description_width": ""
          }
        },
        "c7ff8b678ebb4ae484c71387878d7a8d": {
          "model_module": "@jupyter-widgets/base",
          "model_name": "LayoutModel",
          "model_module_version": "1.2.0",
          "state": {
            "_model_module": "@jupyter-widgets/base",
            "_model_module_version": "1.2.0",
            "_model_name": "LayoutModel",
            "_view_count": null,
            "_view_module": "@jupyter-widgets/base",
            "_view_module_version": "1.2.0",
            "_view_name": "LayoutView",
            "align_content": null,
            "align_items": null,
            "align_self": null,
            "border": null,
            "bottom": null,
            "display": null,
            "flex": null,
            "flex_flow": null,
            "grid_area": null,
            "grid_auto_columns": null,
            "grid_auto_flow": null,
            "grid_auto_rows": null,
            "grid_column": null,
            "grid_gap": null,
            "grid_row": null,
            "grid_template_areas": null,
            "grid_template_columns": null,
            "grid_template_rows": null,
            "height": null,
            "justify_content": null,
            "justify_items": null,
            "left": null,
            "margin": null,
            "max_height": null,
            "max_width": null,
            "min_height": null,
            "min_width": null,
            "object_fit": null,
            "object_position": null,
            "order": null,
            "overflow": null,
            "overflow_x": null,
            "overflow_y": null,
            "padding": null,
            "right": null,
            "top": null,
            "visibility": null,
            "width": null
          }
        },
        "546cf80778814e10bd3401b701c91708": {
          "model_module": "@jupyter-widgets/controls",
          "model_name": "ProgressStyleModel",
          "model_module_version": "1.5.0",
          "state": {
            "_model_module": "@jupyter-widgets/controls",
            "_model_module_version": "1.5.0",
            "_model_name": "ProgressStyleModel",
            "_view_count": null,
            "_view_module": "@jupyter-widgets/base",
            "_view_module_version": "1.2.0",
            "_view_name": "StyleView",
            "bar_color": null,
            "description_width": ""
          }
        },
        "5324daec5b20477280446dc6af5415dc": {
          "model_module": "@jupyter-widgets/base",
          "model_name": "LayoutModel",
          "model_module_version": "1.2.0",
          "state": {
            "_model_module": "@jupyter-widgets/base",
            "_model_module_version": "1.2.0",
            "_model_name": "LayoutModel",
            "_view_count": null,
            "_view_module": "@jupyter-widgets/base",
            "_view_module_version": "1.2.0",
            "_view_name": "LayoutView",
            "align_content": null,
            "align_items": null,
            "align_self": null,
            "border": null,
            "bottom": null,
            "display": null,
            "flex": null,
            "flex_flow": null,
            "grid_area": null,
            "grid_auto_columns": null,
            "grid_auto_flow": null,
            "grid_auto_rows": null,
            "grid_column": null,
            "grid_gap": null,
            "grid_row": null,
            "grid_template_areas": null,
            "grid_template_columns": null,
            "grid_template_rows": null,
            "height": null,
            "justify_content": null,
            "justify_items": null,
            "left": null,
            "margin": null,
            "max_height": null,
            "max_width": null,
            "min_height": null,
            "min_width": null,
            "object_fit": null,
            "object_position": null,
            "order": null,
            "overflow": null,
            "overflow_x": null,
            "overflow_y": null,
            "padding": null,
            "right": null,
            "top": null,
            "visibility": null,
            "width": null
          }
        },
        "e68578ab53414ebbbeaa93d42f6d92e9": {
          "model_module": "@jupyter-widgets/controls",
          "model_name": "DescriptionStyleModel",
          "model_module_version": "1.5.0",
          "state": {
            "_model_module": "@jupyter-widgets/controls",
            "_model_module_version": "1.5.0",
            "_model_name": "DescriptionStyleModel",
            "_view_count": null,
            "_view_module": "@jupyter-widgets/base",
            "_view_module_version": "1.2.0",
            "_view_name": "StyleView",
            "description_width": ""
          }
        },
        "066e1539356e47e19e6a5b812cdbf365": {
          "model_module": "@jupyter-widgets/controls",
          "model_name": "HBoxModel",
          "model_module_version": "1.5.0",
          "state": {
            "_dom_classes": [],
            "_model_module": "@jupyter-widgets/controls",
            "_model_module_version": "1.5.0",
            "_model_name": "HBoxModel",
            "_view_count": null,
            "_view_module": "@jupyter-widgets/controls",
            "_view_module_version": "1.5.0",
            "_view_name": "HBoxView",
            "box_style": "",
            "children": [
              "IPY_MODEL_30690a7db107483a8c7e51381b50e83a",
              "IPY_MODEL_9b4f305824b2466b97e534ee3172aa00",
              "IPY_MODEL_d788281af4f44f9ebc0241f5076d02fe"
            ],
            "layout": "IPY_MODEL_29d2738d58eb44b5b6685812f586f0e8"
          }
        },
        "30690a7db107483a8c7e51381b50e83a": {
          "model_module": "@jupyter-widgets/controls",
          "model_name": "HTMLModel",
          "model_module_version": "1.5.0",
          "state": {
            "_dom_classes": [],
            "_model_module": "@jupyter-widgets/controls",
            "_model_module_version": "1.5.0",
            "_model_name": "HTMLModel",
            "_view_count": null,
            "_view_module": "@jupyter-widgets/controls",
            "_view_module_version": "1.5.0",
            "_view_name": "HTMLView",
            "description": "",
            "description_tooltip": null,
            "layout": "IPY_MODEL_2961a7fdba0546e9b8c5e67a3391b5a0",
            "placeholder": "​",
            "style": "IPY_MODEL_d5410fdf5cd44d0789390f1517d087d6",
            "value": "pytorch_model.bin: 100%"
          }
        },
        "9b4f305824b2466b97e534ee3172aa00": {
          "model_module": "@jupyter-widgets/controls",
          "model_name": "FloatProgressModel",
          "model_module_version": "1.5.0",
          "state": {
            "_dom_classes": [],
            "_model_module": "@jupyter-widgets/controls",
            "_model_module_version": "1.5.0",
            "_model_name": "FloatProgressModel",
            "_view_count": null,
            "_view_module": "@jupyter-widgets/controls",
            "_view_module_version": "1.5.0",
            "_view_name": "ProgressView",
            "bar_style": "success",
            "description": "",
            "description_tooltip": null,
            "layout": "IPY_MODEL_4d314fa256144653a759c4bf6f06e743",
            "max": 267046421,
            "min": 0,
            "orientation": "horizontal",
            "style": "IPY_MODEL_0cc1ed31f6b949fa9f171857b6ebbce5",
            "value": 267046421
          }
        },
        "d788281af4f44f9ebc0241f5076d02fe": {
          "model_module": "@jupyter-widgets/controls",
          "model_name": "HTMLModel",
          "model_module_version": "1.5.0",
          "state": {
            "_dom_classes": [],
            "_model_module": "@jupyter-widgets/controls",
            "_model_module_version": "1.5.0",
            "_model_name": "HTMLModel",
            "_view_count": null,
            "_view_module": "@jupyter-widgets/controls",
            "_view_module_version": "1.5.0",
            "_view_name": "HTMLView",
            "description": "",
            "description_tooltip": null,
            "layout": "IPY_MODEL_90c56da9833a4ade948e64f541c6429e",
            "placeholder": "​",
            "style": "IPY_MODEL_c2f13f82e15b475c8de6ef52148d0ffe",
            "value": " 267M/267M [00:01&lt;00:00, 181MB/s]"
          }
        },
        "29d2738d58eb44b5b6685812f586f0e8": {
          "model_module": "@jupyter-widgets/base",
          "model_name": "LayoutModel",
          "model_module_version": "1.2.0",
          "state": {
            "_model_module": "@jupyter-widgets/base",
            "_model_module_version": "1.2.0",
            "_model_name": "LayoutModel",
            "_view_count": null,
            "_view_module": "@jupyter-widgets/base",
            "_view_module_version": "1.2.0",
            "_view_name": "LayoutView",
            "align_content": null,
            "align_items": null,
            "align_self": null,
            "border": null,
            "bottom": null,
            "display": null,
            "flex": null,
            "flex_flow": null,
            "grid_area": null,
            "grid_auto_columns": null,
            "grid_auto_flow": null,
            "grid_auto_rows": null,
            "grid_column": null,
            "grid_gap": null,
            "grid_row": null,
            "grid_template_areas": null,
            "grid_template_columns": null,
            "grid_template_rows": null,
            "height": null,
            "justify_content": null,
            "justify_items": null,
            "left": null,
            "margin": null,
            "max_height": null,
            "max_width": null,
            "min_height": null,
            "min_width": null,
            "object_fit": null,
            "object_position": null,
            "order": null,
            "overflow": null,
            "overflow_x": null,
            "overflow_y": null,
            "padding": null,
            "right": null,
            "top": null,
            "visibility": null,
            "width": null
          }
        },
        "2961a7fdba0546e9b8c5e67a3391b5a0": {
          "model_module": "@jupyter-widgets/base",
          "model_name": "LayoutModel",
          "model_module_version": "1.2.0",
          "state": {
            "_model_module": "@jupyter-widgets/base",
            "_model_module_version": "1.2.0",
            "_model_name": "LayoutModel",
            "_view_count": null,
            "_view_module": "@jupyter-widgets/base",
            "_view_module_version": "1.2.0",
            "_view_name": "LayoutView",
            "align_content": null,
            "align_items": null,
            "align_self": null,
            "border": null,
            "bottom": null,
            "display": null,
            "flex": null,
            "flex_flow": null,
            "grid_area": null,
            "grid_auto_columns": null,
            "grid_auto_flow": null,
            "grid_auto_rows": null,
            "grid_column": null,
            "grid_gap": null,
            "grid_row": null,
            "grid_template_areas": null,
            "grid_template_columns": null,
            "grid_template_rows": null,
            "height": null,
            "justify_content": null,
            "justify_items": null,
            "left": null,
            "margin": null,
            "max_height": null,
            "max_width": null,
            "min_height": null,
            "min_width": null,
            "object_fit": null,
            "object_position": null,
            "order": null,
            "overflow": null,
            "overflow_x": null,
            "overflow_y": null,
            "padding": null,
            "right": null,
            "top": null,
            "visibility": null,
            "width": null
          }
        },
        "d5410fdf5cd44d0789390f1517d087d6": {
          "model_module": "@jupyter-widgets/controls",
          "model_name": "DescriptionStyleModel",
          "model_module_version": "1.5.0",
          "state": {
            "_model_module": "@jupyter-widgets/controls",
            "_model_module_version": "1.5.0",
            "_model_name": "DescriptionStyleModel",
            "_view_count": null,
            "_view_module": "@jupyter-widgets/base",
            "_view_module_version": "1.2.0",
            "_view_name": "StyleView",
            "description_width": ""
          }
        },
        "4d314fa256144653a759c4bf6f06e743": {
          "model_module": "@jupyter-widgets/base",
          "model_name": "LayoutModel",
          "model_module_version": "1.2.0",
          "state": {
            "_model_module": "@jupyter-widgets/base",
            "_model_module_version": "1.2.0",
            "_model_name": "LayoutModel",
            "_view_count": null,
            "_view_module": "@jupyter-widgets/base",
            "_view_module_version": "1.2.0",
            "_view_name": "LayoutView",
            "align_content": null,
            "align_items": null,
            "align_self": null,
            "border": null,
            "bottom": null,
            "display": null,
            "flex": null,
            "flex_flow": null,
            "grid_area": null,
            "grid_auto_columns": null,
            "grid_auto_flow": null,
            "grid_auto_rows": null,
            "grid_column": null,
            "grid_gap": null,
            "grid_row": null,
            "grid_template_areas": null,
            "grid_template_columns": null,
            "grid_template_rows": null,
            "height": null,
            "justify_content": null,
            "justify_items": null,
            "left": null,
            "margin": null,
            "max_height": null,
            "max_width": null,
            "min_height": null,
            "min_width": null,
            "object_fit": null,
            "object_position": null,
            "order": null,
            "overflow": null,
            "overflow_x": null,
            "overflow_y": null,
            "padding": null,
            "right": null,
            "top": null,
            "visibility": null,
            "width": null
          }
        },
        "0cc1ed31f6b949fa9f171857b6ebbce5": {
          "model_module": "@jupyter-widgets/controls",
          "model_name": "ProgressStyleModel",
          "model_module_version": "1.5.0",
          "state": {
            "_model_module": "@jupyter-widgets/controls",
            "_model_module_version": "1.5.0",
            "_model_name": "ProgressStyleModel",
            "_view_count": null,
            "_view_module": "@jupyter-widgets/base",
            "_view_module_version": "1.2.0",
            "_view_name": "StyleView",
            "bar_color": null,
            "description_width": ""
          }
        },
        "90c56da9833a4ade948e64f541c6429e": {
          "model_module": "@jupyter-widgets/base",
          "model_name": "LayoutModel",
          "model_module_version": "1.2.0",
          "state": {
            "_model_module": "@jupyter-widgets/base",
            "_model_module_version": "1.2.0",
            "_model_name": "LayoutModel",
            "_view_count": null,
            "_view_module": "@jupyter-widgets/base",
            "_view_module_version": "1.2.0",
            "_view_name": "LayoutView",
            "align_content": null,
            "align_items": null,
            "align_self": null,
            "border": null,
            "bottom": null,
            "display": null,
            "flex": null,
            "flex_flow": null,
            "grid_area": null,
            "grid_auto_columns": null,
            "grid_auto_flow": null,
            "grid_auto_rows": null,
            "grid_column": null,
            "grid_gap": null,
            "grid_row": null,
            "grid_template_areas": null,
            "grid_template_columns": null,
            "grid_template_rows": null,
            "height": null,
            "justify_content": null,
            "justify_items": null,
            "left": null,
            "margin": null,
            "max_height": null,
            "max_width": null,
            "min_height": null,
            "min_width": null,
            "object_fit": null,
            "object_position": null,
            "order": null,
            "overflow": null,
            "overflow_x": null,
            "overflow_y": null,
            "padding": null,
            "right": null,
            "top": null,
            "visibility": null,
            "width": null
          }
        },
        "c2f13f82e15b475c8de6ef52148d0ffe": {
          "model_module": "@jupyter-widgets/controls",
          "model_name": "DescriptionStyleModel",
          "model_module_version": "1.5.0",
          "state": {
            "_model_module": "@jupyter-widgets/controls",
            "_model_module_version": "1.5.0",
            "_model_name": "DescriptionStyleModel",
            "_view_count": null,
            "_view_module": "@jupyter-widgets/base",
            "_view_module_version": "1.2.0",
            "_view_name": "StyleView",
            "description_width": ""
          }
        },
        "8ba3739619ee400d892912c760ffd430": {
          "model_module": "@jupyter-widgets/controls",
          "model_name": "HBoxModel",
          "model_module_version": "1.5.0",
          "state": {
            "_dom_classes": [],
            "_model_module": "@jupyter-widgets/controls",
            "_model_module_version": "1.5.0",
            "_model_name": "HBoxModel",
            "_view_count": null,
            "_view_module": "@jupyter-widgets/controls",
            "_view_module_version": "1.5.0",
            "_view_name": "HBoxView",
            "box_style": "",
            "children": [
              "IPY_MODEL_b8cb1047dcd74a69b7596facef00e243",
              "IPY_MODEL_7003b248044e4c249471fb2599e58cdb",
              "IPY_MODEL_0cbc30f91a7747f0b10f2eaeae779c41"
            ],
            "layout": "IPY_MODEL_d7458083b2684a74ab844349d1c41343"
          }
        },
        "b8cb1047dcd74a69b7596facef00e243": {
          "model_module": "@jupyter-widgets/controls",
          "model_name": "HTMLModel",
          "model_module_version": "1.5.0",
          "state": {
            "_dom_classes": [],
            "_model_module": "@jupyter-widgets/controls",
            "_model_module_version": "1.5.0",
            "_model_name": "HTMLModel",
            "_view_count": null,
            "_view_module": "@jupyter-widgets/controls",
            "_view_module_version": "1.5.0",
            "_view_name": "HTMLView",
            "description": "",
            "description_tooltip": null,
            "layout": "IPY_MODEL_5bf6d31977ed49dfbcdb0633314d52fc",
            "placeholder": "​",
            "style": "IPY_MODEL_0617ec4d7a27484ba143371d8ac91b05",
            "value": "model.safetensors: 100%"
          }
        },
        "7003b248044e4c249471fb2599e58cdb": {
          "model_module": "@jupyter-widgets/controls",
          "model_name": "FloatProgressModel",
          "model_module_version": "1.5.0",
          "state": {
            "_dom_classes": [],
            "_model_module": "@jupyter-widgets/controls",
            "_model_module_version": "1.5.0",
            "_model_name": "FloatProgressModel",
            "_view_count": null,
            "_view_module": "@jupyter-widgets/controls",
            "_view_module_version": "1.5.0",
            "_view_name": "ProgressView",
            "bar_style": "success",
            "description": "",
            "description_tooltip": null,
            "layout": "IPY_MODEL_f1f8ec5d17cb4fd8aeae3094327a1b2a",
            "max": 266794238,
            "min": 0,
            "orientation": "horizontal",
            "style": "IPY_MODEL_5cc00af700bb47a9bb7ad7a5d6b3176c",
            "value": 266794238
          }
        },
        "0cbc30f91a7747f0b10f2eaeae779c41": {
          "model_module": "@jupyter-widgets/controls",
          "model_name": "HTMLModel",
          "model_module_version": "1.5.0",
          "state": {
            "_dom_classes": [],
            "_model_module": "@jupyter-widgets/controls",
            "_model_module_version": "1.5.0",
            "_model_name": "HTMLModel",
            "_view_count": null,
            "_view_module": "@jupyter-widgets/controls",
            "_view_module_version": "1.5.0",
            "_view_name": "HTMLView",
            "description": "",
            "description_tooltip": null,
            "layout": "IPY_MODEL_e4ded7d6967041cfb86502915525efda",
            "placeholder": "​",
            "style": "IPY_MODEL_edc2352448a2417b9c206415e0955589",
            "value": " 267M/267M [00:02&lt;00:00, 157MB/s]"
          }
        },
        "d7458083b2684a74ab844349d1c41343": {
          "model_module": "@jupyter-widgets/base",
          "model_name": "LayoutModel",
          "model_module_version": "1.2.0",
          "state": {
            "_model_module": "@jupyter-widgets/base",
            "_model_module_version": "1.2.0",
            "_model_name": "LayoutModel",
            "_view_count": null,
            "_view_module": "@jupyter-widgets/base",
            "_view_module_version": "1.2.0",
            "_view_name": "LayoutView",
            "align_content": null,
            "align_items": null,
            "align_self": null,
            "border": null,
            "bottom": null,
            "display": null,
            "flex": null,
            "flex_flow": null,
            "grid_area": null,
            "grid_auto_columns": null,
            "grid_auto_flow": null,
            "grid_auto_rows": null,
            "grid_column": null,
            "grid_gap": null,
            "grid_row": null,
            "grid_template_areas": null,
            "grid_template_columns": null,
            "grid_template_rows": null,
            "height": null,
            "justify_content": null,
            "justify_items": null,
            "left": null,
            "margin": null,
            "max_height": null,
            "max_width": null,
            "min_height": null,
            "min_width": null,
            "object_fit": null,
            "object_position": null,
            "order": null,
            "overflow": null,
            "overflow_x": null,
            "overflow_y": null,
            "padding": null,
            "right": null,
            "top": null,
            "visibility": null,
            "width": null
          }
        },
        "5bf6d31977ed49dfbcdb0633314d52fc": {
          "model_module": "@jupyter-widgets/base",
          "model_name": "LayoutModel",
          "model_module_version": "1.2.0",
          "state": {
            "_model_module": "@jupyter-widgets/base",
            "_model_module_version": "1.2.0",
            "_model_name": "LayoutModel",
            "_view_count": null,
            "_view_module": "@jupyter-widgets/base",
            "_view_module_version": "1.2.0",
            "_view_name": "LayoutView",
            "align_content": null,
            "align_items": null,
            "align_self": null,
            "border": null,
            "bottom": null,
            "display": null,
            "flex": null,
            "flex_flow": null,
            "grid_area": null,
            "grid_auto_columns": null,
            "grid_auto_flow": null,
            "grid_auto_rows": null,
            "grid_column": null,
            "grid_gap": null,
            "grid_row": null,
            "grid_template_areas": null,
            "grid_template_columns": null,
            "grid_template_rows": null,
            "height": null,
            "justify_content": null,
            "justify_items": null,
            "left": null,
            "margin": null,
            "max_height": null,
            "max_width": null,
            "min_height": null,
            "min_width": null,
            "object_fit": null,
            "object_position": null,
            "order": null,
            "overflow": null,
            "overflow_x": null,
            "overflow_y": null,
            "padding": null,
            "right": null,
            "top": null,
            "visibility": null,
            "width": null
          }
        },
        "0617ec4d7a27484ba143371d8ac91b05": {
          "model_module": "@jupyter-widgets/controls",
          "model_name": "DescriptionStyleModel",
          "model_module_version": "1.5.0",
          "state": {
            "_model_module": "@jupyter-widgets/controls",
            "_model_module_version": "1.5.0",
            "_model_name": "DescriptionStyleModel",
            "_view_count": null,
            "_view_module": "@jupyter-widgets/base",
            "_view_module_version": "1.2.0",
            "_view_name": "StyleView",
            "description_width": ""
          }
        },
        "f1f8ec5d17cb4fd8aeae3094327a1b2a": {
          "model_module": "@jupyter-widgets/base",
          "model_name": "LayoutModel",
          "model_module_version": "1.2.0",
          "state": {
            "_model_module": "@jupyter-widgets/base",
            "_model_module_version": "1.2.0",
            "_model_name": "LayoutModel",
            "_view_count": null,
            "_view_module": "@jupyter-widgets/base",
            "_view_module_version": "1.2.0",
            "_view_name": "LayoutView",
            "align_content": null,
            "align_items": null,
            "align_self": null,
            "border": null,
            "bottom": null,
            "display": null,
            "flex": null,
            "flex_flow": null,
            "grid_area": null,
            "grid_auto_columns": null,
            "grid_auto_flow": null,
            "grid_auto_rows": null,
            "grid_column": null,
            "grid_gap": null,
            "grid_row": null,
            "grid_template_areas": null,
            "grid_template_columns": null,
            "grid_template_rows": null,
            "height": null,
            "justify_content": null,
            "justify_items": null,
            "left": null,
            "margin": null,
            "max_height": null,
            "max_width": null,
            "min_height": null,
            "min_width": null,
            "object_fit": null,
            "object_position": null,
            "order": null,
            "overflow": null,
            "overflow_x": null,
            "overflow_y": null,
            "padding": null,
            "right": null,
            "top": null,
            "visibility": null,
            "width": null
          }
        },
        "5cc00af700bb47a9bb7ad7a5d6b3176c": {
          "model_module": "@jupyter-widgets/controls",
          "model_name": "ProgressStyleModel",
          "model_module_version": "1.5.0",
          "state": {
            "_model_module": "@jupyter-widgets/controls",
            "_model_module_version": "1.5.0",
            "_model_name": "ProgressStyleModel",
            "_view_count": null,
            "_view_module": "@jupyter-widgets/base",
            "_view_module_version": "1.2.0",
            "_view_name": "StyleView",
            "bar_color": null,
            "description_width": ""
          }
        },
        "e4ded7d6967041cfb86502915525efda": {
          "model_module": "@jupyter-widgets/base",
          "model_name": "LayoutModel",
          "model_module_version": "1.2.0",
          "state": {
            "_model_module": "@jupyter-widgets/base",
            "_model_module_version": "1.2.0",
            "_model_name": "LayoutModel",
            "_view_count": null,
            "_view_module": "@jupyter-widgets/base",
            "_view_module_version": "1.2.0",
            "_view_name": "LayoutView",
            "align_content": null,
            "align_items": null,
            "align_self": null,
            "border": null,
            "bottom": null,
            "display": null,
            "flex": null,
            "flex_flow": null,
            "grid_area": null,
            "grid_auto_columns": null,
            "grid_auto_flow": null,
            "grid_auto_rows": null,
            "grid_column": null,
            "grid_gap": null,
            "grid_row": null,
            "grid_template_areas": null,
            "grid_template_columns": null,
            "grid_template_rows": null,
            "height": null,
            "justify_content": null,
            "justify_items": null,
            "left": null,
            "margin": null,
            "max_height": null,
            "max_width": null,
            "min_height": null,
            "min_width": null,
            "object_fit": null,
            "object_position": null,
            "order": null,
            "overflow": null,
            "overflow_x": null,
            "overflow_y": null,
            "padding": null,
            "right": null,
            "top": null,
            "visibility": null,
            "width": null
          }
        },
        "edc2352448a2417b9c206415e0955589": {
          "model_module": "@jupyter-widgets/controls",
          "model_name": "DescriptionStyleModel",
          "model_module_version": "1.5.0",
          "state": {
            "_model_module": "@jupyter-widgets/controls",
            "_model_module_version": "1.5.0",
            "_model_name": "DescriptionStyleModel",
            "_view_count": null,
            "_view_module": "@jupyter-widgets/base",
            "_view_module_version": "1.2.0",
            "_view_name": "StyleView",
            "description_width": ""
          }
        },
        "c25c003d6c4041ca90c7f0a16bf621c7": {
          "model_module": "@jupyter-widgets/controls",
          "model_name": "HBoxModel",
          "model_module_version": "1.5.0",
          "state": {
            "_dom_classes": [],
            "_model_module": "@jupyter-widgets/controls",
            "_model_module_version": "1.5.0",
            "_model_name": "HBoxModel",
            "_view_count": null,
            "_view_module": "@jupyter-widgets/controls",
            "_view_module_version": "1.5.0",
            "_view_name": "HBoxView",
            "box_style": "",
            "children": [
              "IPY_MODEL_fe757accb73d4375810ceabdfb891294",
              "IPY_MODEL_dde1ba3caf6d498dbf4f2583335dd687",
              "IPY_MODEL_dbd51b8796d6430d9f2950aa43da5109"
            ],
            "layout": "IPY_MODEL_fce32f966e41498b8abfa892a4c7b122"
          }
        },
        "fe757accb73d4375810ceabdfb891294": {
          "model_module": "@jupyter-widgets/controls",
          "model_name": "HTMLModel",
          "model_module_version": "1.5.0",
          "state": {
            "_dom_classes": [],
            "_model_module": "@jupyter-widgets/controls",
            "_model_module_version": "1.5.0",
            "_model_name": "HTMLModel",
            "_view_count": null,
            "_view_module": "@jupyter-widgets/controls",
            "_view_module_version": "1.5.0",
            "_view_name": "HTMLView",
            "description": "",
            "description_tooltip": null,
            "layout": "IPY_MODEL_8dccf0b8dc4e4d1faef785247345fe94",
            "placeholder": "​",
            "style": "IPY_MODEL_24b0b0f7aec8493d8deb056aec00520c",
            "value": "preprocessor_config.json: 100%"
          }
        },
        "dde1ba3caf6d498dbf4f2583335dd687": {
          "model_module": "@jupyter-widgets/controls",
          "model_name": "FloatProgressModel",
          "model_module_version": "1.5.0",
          "state": {
            "_dom_classes": [],
            "_model_module": "@jupyter-widgets/controls",
            "_model_module_version": "1.5.0",
            "_model_name": "FloatProgressModel",
            "_view_count": null,
            "_view_module": "@jupyter-widgets/controls",
            "_view_module_version": "1.5.0",
            "_view_name": "ProgressView",
            "bar_style": "success",
            "description": "",
            "description_tooltip": null,
            "layout": "IPY_MODEL_f53009f23c58488b80f9deb11afbaac3",
            "max": 495,
            "min": 0,
            "orientation": "horizontal",
            "style": "IPY_MODEL_1c7609ed25b149d790782293e156c643",
            "value": 495
          }
        },
        "dbd51b8796d6430d9f2950aa43da5109": {
          "model_module": "@jupyter-widgets/controls",
          "model_name": "HTMLModel",
          "model_module_version": "1.5.0",
          "state": {
            "_dom_classes": [],
            "_model_module": "@jupyter-widgets/controls",
            "_model_module_version": "1.5.0",
            "_model_name": "HTMLModel",
            "_view_count": null,
            "_view_module": "@jupyter-widgets/controls",
            "_view_module_version": "1.5.0",
            "_view_name": "HTMLView",
            "description": "",
            "description_tooltip": null,
            "layout": "IPY_MODEL_4552736919ae40529eb8e736e30f343e",
            "placeholder": "​",
            "style": "IPY_MODEL_7a2be215dc604aea91ffced052050af4",
            "value": " 495/495 [00:00&lt;00:00, 34.7kB/s]"
          }
        },
        "fce32f966e41498b8abfa892a4c7b122": {
          "model_module": "@jupyter-widgets/base",
          "model_name": "LayoutModel",
          "model_module_version": "1.2.0",
          "state": {
            "_model_module": "@jupyter-widgets/base",
            "_model_module_version": "1.2.0",
            "_model_name": "LayoutModel",
            "_view_count": null,
            "_view_module": "@jupyter-widgets/base",
            "_view_module_version": "1.2.0",
            "_view_name": "LayoutView",
            "align_content": null,
            "align_items": null,
            "align_self": null,
            "border": null,
            "bottom": null,
            "display": null,
            "flex": null,
            "flex_flow": null,
            "grid_area": null,
            "grid_auto_columns": null,
            "grid_auto_flow": null,
            "grid_auto_rows": null,
            "grid_column": null,
            "grid_gap": null,
            "grid_row": null,
            "grid_template_areas": null,
            "grid_template_columns": null,
            "grid_template_rows": null,
            "height": null,
            "justify_content": null,
            "justify_items": null,
            "left": null,
            "margin": null,
            "max_height": null,
            "max_width": null,
            "min_height": null,
            "min_width": null,
            "object_fit": null,
            "object_position": null,
            "order": null,
            "overflow": null,
            "overflow_x": null,
            "overflow_y": null,
            "padding": null,
            "right": null,
            "top": null,
            "visibility": null,
            "width": null
          }
        },
        "8dccf0b8dc4e4d1faef785247345fe94": {
          "model_module": "@jupyter-widgets/base",
          "model_name": "LayoutModel",
          "model_module_version": "1.2.0",
          "state": {
            "_model_module": "@jupyter-widgets/base",
            "_model_module_version": "1.2.0",
            "_model_name": "LayoutModel",
            "_view_count": null,
            "_view_module": "@jupyter-widgets/base",
            "_view_module_version": "1.2.0",
            "_view_name": "LayoutView",
            "align_content": null,
            "align_items": null,
            "align_self": null,
            "border": null,
            "bottom": null,
            "display": null,
            "flex": null,
            "flex_flow": null,
            "grid_area": null,
            "grid_auto_columns": null,
            "grid_auto_flow": null,
            "grid_auto_rows": null,
            "grid_column": null,
            "grid_gap": null,
            "grid_row": null,
            "grid_template_areas": null,
            "grid_template_columns": null,
            "grid_template_rows": null,
            "height": null,
            "justify_content": null,
            "justify_items": null,
            "left": null,
            "margin": null,
            "max_height": null,
            "max_width": null,
            "min_height": null,
            "min_width": null,
            "object_fit": null,
            "object_position": null,
            "order": null,
            "overflow": null,
            "overflow_x": null,
            "overflow_y": null,
            "padding": null,
            "right": null,
            "top": null,
            "visibility": null,
            "width": null
          }
        },
        "24b0b0f7aec8493d8deb056aec00520c": {
          "model_module": "@jupyter-widgets/controls",
          "model_name": "DescriptionStyleModel",
          "model_module_version": "1.5.0",
          "state": {
            "_model_module": "@jupyter-widgets/controls",
            "_model_module_version": "1.5.0",
            "_model_name": "DescriptionStyleModel",
            "_view_count": null,
            "_view_module": "@jupyter-widgets/base",
            "_view_module_version": "1.2.0",
            "_view_name": "StyleView",
            "description_width": ""
          }
        },
        "f53009f23c58488b80f9deb11afbaac3": {
          "model_module": "@jupyter-widgets/base",
          "model_name": "LayoutModel",
          "model_module_version": "1.2.0",
          "state": {
            "_model_module": "@jupyter-widgets/base",
            "_model_module_version": "1.2.0",
            "_model_name": "LayoutModel",
            "_view_count": null,
            "_view_module": "@jupyter-widgets/base",
            "_view_module_version": "1.2.0",
            "_view_name": "LayoutView",
            "align_content": null,
            "align_items": null,
            "align_self": null,
            "border": null,
            "bottom": null,
            "display": null,
            "flex": null,
            "flex_flow": null,
            "grid_area": null,
            "grid_auto_columns": null,
            "grid_auto_flow": null,
            "grid_auto_rows": null,
            "grid_column": null,
            "grid_gap": null,
            "grid_row": null,
            "grid_template_areas": null,
            "grid_template_columns": null,
            "grid_template_rows": null,
            "height": null,
            "justify_content": null,
            "justify_items": null,
            "left": null,
            "margin": null,
            "max_height": null,
            "max_width": null,
            "min_height": null,
            "min_width": null,
            "object_fit": null,
            "object_position": null,
            "order": null,
            "overflow": null,
            "overflow_x": null,
            "overflow_y": null,
            "padding": null,
            "right": null,
            "top": null,
            "visibility": null,
            "width": null
          }
        },
        "1c7609ed25b149d790782293e156c643": {
          "model_module": "@jupyter-widgets/controls",
          "model_name": "ProgressStyleModel",
          "model_module_version": "1.5.0",
          "state": {
            "_model_module": "@jupyter-widgets/controls",
            "_model_module_version": "1.5.0",
            "_model_name": "ProgressStyleModel",
            "_view_count": null,
            "_view_module": "@jupyter-widgets/base",
            "_view_module_version": "1.2.0",
            "_view_name": "StyleView",
            "bar_color": null,
            "description_width": ""
          }
        },
        "4552736919ae40529eb8e736e30f343e": {
          "model_module": "@jupyter-widgets/base",
          "model_name": "LayoutModel",
          "model_module_version": "1.2.0",
          "state": {
            "_model_module": "@jupyter-widgets/base",
            "_model_module_version": "1.2.0",
            "_model_name": "LayoutModel",
            "_view_count": null,
            "_view_module": "@jupyter-widgets/base",
            "_view_module_version": "1.2.0",
            "_view_name": "LayoutView",
            "align_content": null,
            "align_items": null,
            "align_self": null,
            "border": null,
            "bottom": null,
            "display": null,
            "flex": null,
            "flex_flow": null,
            "grid_area": null,
            "grid_auto_columns": null,
            "grid_auto_flow": null,
            "grid_auto_rows": null,
            "grid_column": null,
            "grid_gap": null,
            "grid_row": null,
            "grid_template_areas": null,
            "grid_template_columns": null,
            "grid_template_rows": null,
            "height": null,
            "justify_content": null,
            "justify_items": null,
            "left": null,
            "margin": null,
            "max_height": null,
            "max_width": null,
            "min_height": null,
            "min_width": null,
            "object_fit": null,
            "object_position": null,
            "order": null,
            "overflow": null,
            "overflow_x": null,
            "overflow_y": null,
            "padding": null,
            "right": null,
            "top": null,
            "visibility": null,
            "width": null
          }
        },
        "7a2be215dc604aea91ffced052050af4": {
          "model_module": "@jupyter-widgets/controls",
          "model_name": "DescriptionStyleModel",
          "model_module_version": "1.5.0",
          "state": {
            "_model_module": "@jupyter-widgets/controls",
            "_model_module_version": "1.5.0",
            "_model_name": "DescriptionStyleModel",
            "_view_count": null,
            "_view_module": "@jupyter-widgets/base",
            "_view_module_version": "1.2.0",
            "_view_name": "StyleView",
            "description_width": ""
          }
        }
      }
    }
  },
  "cells": [
    {
      "cell_type": "code",
      "execution_count": null,
      "metadata": {
        "colab": {
          "base_uri": "https://localhost:8080/"
        },
        "id": "DwaiV0GXgDtk",
        "outputId": "74a66182-0ba0-40a5-a257-52377acce70e",
        "collapsed": true
      },
      "outputs": [
        {
          "output_type": "stream",
          "name": "stdout",
          "text": [
            "Collecting datasets\n",
            "  Downloading datasets-3.5.0-py3-none-any.whl.metadata (19 kB)\n",
            "Requirement already satisfied: filelock in /usr/local/lib/python3.11/dist-packages (from datasets) (3.18.0)\n",
            "Requirement already satisfied: numpy>=1.17 in /usr/local/lib/python3.11/dist-packages (from datasets) (2.0.2)\n",
            "Requirement already satisfied: pyarrow>=15.0.0 in /usr/local/lib/python3.11/dist-packages (from datasets) (18.1.0)\n",
            "Collecting dill<0.3.9,>=0.3.0 (from datasets)\n",
            "  Downloading dill-0.3.8-py3-none-any.whl.metadata (10 kB)\n",
            "Requirement already satisfied: pandas in /usr/local/lib/python3.11/dist-packages (from datasets) (2.2.2)\n",
            "Requirement already satisfied: requests>=2.32.2 in /usr/local/lib/python3.11/dist-packages (from datasets) (2.32.3)\n",
            "Requirement already satisfied: tqdm>=4.66.3 in /usr/local/lib/python3.11/dist-packages (from datasets) (4.67.1)\n",
            "Collecting xxhash (from datasets)\n",
            "  Downloading xxhash-3.5.0-cp311-cp311-manylinux_2_17_x86_64.manylinux2014_x86_64.whl.metadata (12 kB)\n",
            "Collecting multiprocess<0.70.17 (from datasets)\n",
            "  Downloading multiprocess-0.70.16-py311-none-any.whl.metadata (7.2 kB)\n",
            "Collecting fsspec<=2024.12.0,>=2023.1.0 (from fsspec[http]<=2024.12.0,>=2023.1.0->datasets)\n",
            "  Downloading fsspec-2024.12.0-py3-none-any.whl.metadata (11 kB)\n",
            "Requirement already satisfied: aiohttp in /usr/local/lib/python3.11/dist-packages (from datasets) (3.11.15)\n",
            "Requirement already satisfied: huggingface-hub>=0.24.0 in /usr/local/lib/python3.11/dist-packages (from datasets) (0.30.2)\n",
            "Requirement already satisfied: packaging in /usr/local/lib/python3.11/dist-packages (from datasets) (24.2)\n",
            "Requirement already satisfied: pyyaml>=5.1 in /usr/local/lib/python3.11/dist-packages (from datasets) (6.0.2)\n",
            "Requirement already satisfied: aiohappyeyeballs>=2.3.0 in /usr/local/lib/python3.11/dist-packages (from aiohttp->datasets) (2.6.1)\n",
            "Requirement already satisfied: aiosignal>=1.1.2 in /usr/local/lib/python3.11/dist-packages (from aiohttp->datasets) (1.3.2)\n",
            "Requirement already satisfied: attrs>=17.3.0 in /usr/local/lib/python3.11/dist-packages (from aiohttp->datasets) (25.3.0)\n",
            "Requirement already satisfied: frozenlist>=1.1.1 in /usr/local/lib/python3.11/dist-packages (from aiohttp->datasets) (1.5.0)\n",
            "Requirement already satisfied: multidict<7.0,>=4.5 in /usr/local/lib/python3.11/dist-packages (from aiohttp->datasets) (6.4.2)\n",
            "Requirement already satisfied: propcache>=0.2.0 in /usr/local/lib/python3.11/dist-packages (from aiohttp->datasets) (0.3.1)\n",
            "Requirement already satisfied: yarl<2.0,>=1.17.0 in /usr/local/lib/python3.11/dist-packages (from aiohttp->datasets) (1.19.0)\n",
            "Requirement already satisfied: typing-extensions>=3.7.4.3 in /usr/local/lib/python3.11/dist-packages (from huggingface-hub>=0.24.0->datasets) (4.13.1)\n",
            "Requirement already satisfied: charset-normalizer<4,>=2 in /usr/local/lib/python3.11/dist-packages (from requests>=2.32.2->datasets) (3.4.1)\n",
            "Requirement already satisfied: idna<4,>=2.5 in /usr/local/lib/python3.11/dist-packages (from requests>=2.32.2->datasets) (3.10)\n",
            "Requirement already satisfied: urllib3<3,>=1.21.1 in /usr/local/lib/python3.11/dist-packages (from requests>=2.32.2->datasets) (2.3.0)\n",
            "Requirement already satisfied: certifi>=2017.4.17 in /usr/local/lib/python3.11/dist-packages (from requests>=2.32.2->datasets) (2025.1.31)\n",
            "Requirement already satisfied: python-dateutil>=2.8.2 in /usr/local/lib/python3.11/dist-packages (from pandas->datasets) (2.8.2)\n",
            "Requirement already satisfied: pytz>=2020.1 in /usr/local/lib/python3.11/dist-packages (from pandas->datasets) (2025.2)\n",
            "Requirement already satisfied: tzdata>=2022.7 in /usr/local/lib/python3.11/dist-packages (from pandas->datasets) (2025.2)\n",
            "Requirement already satisfied: six>=1.5 in /usr/local/lib/python3.11/dist-packages (from python-dateutil>=2.8.2->pandas->datasets) (1.17.0)\n",
            "Downloading datasets-3.5.0-py3-none-any.whl (491 kB)\n",
            "\u001b[2K   \u001b[90m━━━━━━━━━━━━━━━━━━━━━━━━━━━━━━━━━━━━━━━━\u001b[0m \u001b[32m491.2/491.2 kB\u001b[0m \u001b[31m8.8 MB/s\u001b[0m eta \u001b[36m0:00:00\u001b[0m\n",
            "\u001b[?25hDownloading dill-0.3.8-py3-none-any.whl (116 kB)\n",
            "\u001b[2K   \u001b[90m━━━━━━━━━━━━━━━━━━━━━━━━━━━━━━━━━━━━━━━━\u001b[0m \u001b[32m116.3/116.3 kB\u001b[0m \u001b[31m3.4 MB/s\u001b[0m eta \u001b[36m0:00:00\u001b[0m\n",
            "\u001b[?25hDownloading fsspec-2024.12.0-py3-none-any.whl (183 kB)\n",
            "\u001b[2K   \u001b[90m━━━━━━━━━━━━━━━━━━━━━━━━━━━━━━━━━━━━━━━━\u001b[0m \u001b[32m183.9/183.9 kB\u001b[0m \u001b[31m8.5 MB/s\u001b[0m eta \u001b[36m0:00:00\u001b[0m\n",
            "\u001b[?25hDownloading multiprocess-0.70.16-py311-none-any.whl (143 kB)\n",
            "\u001b[2K   \u001b[90m━━━━━━━━━━━━━━━━━━━━━━━━━━━━━━━━━━━━━━━━\u001b[0m \u001b[32m143.5/143.5 kB\u001b[0m \u001b[31m6.5 MB/s\u001b[0m eta \u001b[36m0:00:00\u001b[0m\n",
            "\u001b[?25hDownloading xxhash-3.5.0-cp311-cp311-manylinux_2_17_x86_64.manylinux2014_x86_64.whl (194 kB)\n",
            "\u001b[2K   \u001b[90m━━━━━━━━━━━━━━━━━━━━━━━━━━━━━━━━━━━━━━━━\u001b[0m \u001b[32m194.8/194.8 kB\u001b[0m \u001b[31m12.9 MB/s\u001b[0m eta \u001b[36m0:00:00\u001b[0m\n",
            "\u001b[?25hInstalling collected packages: xxhash, fsspec, dill, multiprocess, datasets\n",
            "  Attempting uninstall: fsspec\n",
            "    Found existing installation: fsspec 2025.3.2\n",
            "    Uninstalling fsspec-2025.3.2:\n",
            "      Successfully uninstalled fsspec-2025.3.2\n",
            "\u001b[31mERROR: pip's dependency resolver does not currently take into account all the packages that are installed. This behaviour is the source of the following dependency conflicts.\n",
            "gcsfs 2025.3.2 requires fsspec==2025.3.2, but you have fsspec 2024.12.0 which is incompatible.\n",
            "torch 2.6.0+cu124 requires nvidia-cublas-cu12==12.4.5.8; platform_system == \"Linux\" and platform_machine == \"x86_64\", but you have nvidia-cublas-cu12 12.5.3.2 which is incompatible.\n",
            "torch 2.6.0+cu124 requires nvidia-cuda-cupti-cu12==12.4.127; platform_system == \"Linux\" and platform_machine == \"x86_64\", but you have nvidia-cuda-cupti-cu12 12.5.82 which is incompatible.\n",
            "torch 2.6.0+cu124 requires nvidia-cuda-nvrtc-cu12==12.4.127; platform_system == \"Linux\" and platform_machine == \"x86_64\", but you have nvidia-cuda-nvrtc-cu12 12.5.82 which is incompatible.\n",
            "torch 2.6.0+cu124 requires nvidia-cuda-runtime-cu12==12.4.127; platform_system == \"Linux\" and platform_machine == \"x86_64\", but you have nvidia-cuda-runtime-cu12 12.5.82 which is incompatible.\n",
            "torch 2.6.0+cu124 requires nvidia-cudnn-cu12==9.1.0.70; platform_system == \"Linux\" and platform_machine == \"x86_64\", but you have nvidia-cudnn-cu12 9.3.0.75 which is incompatible.\n",
            "torch 2.6.0+cu124 requires nvidia-cufft-cu12==11.2.1.3; platform_system == \"Linux\" and platform_machine == \"x86_64\", but you have nvidia-cufft-cu12 11.2.3.61 which is incompatible.\n",
            "torch 2.6.0+cu124 requires nvidia-curand-cu12==10.3.5.147; platform_system == \"Linux\" and platform_machine == \"x86_64\", but you have nvidia-curand-cu12 10.3.6.82 which is incompatible.\n",
            "torch 2.6.0+cu124 requires nvidia-cusolver-cu12==11.6.1.9; platform_system == \"Linux\" and platform_machine == \"x86_64\", but you have nvidia-cusolver-cu12 11.6.3.83 which is incompatible.\n",
            "torch 2.6.0+cu124 requires nvidia-cusparse-cu12==12.3.1.170; platform_system == \"Linux\" and platform_machine == \"x86_64\", but you have nvidia-cusparse-cu12 12.5.1.3 which is incompatible.\n",
            "torch 2.6.0+cu124 requires nvidia-nvjitlink-cu12==12.4.127; platform_system == \"Linux\" and platform_machine == \"x86_64\", but you have nvidia-nvjitlink-cu12 12.5.82 which is incompatible.\u001b[0m\u001b[31m\n",
            "\u001b[0mSuccessfully installed datasets-3.5.0 dill-0.3.8 fsspec-2024.12.0 multiprocess-0.70.16 xxhash-3.5.0\n",
            "Requirement already satisfied: transformers in /usr/local/lib/python3.11/dist-packages (4.51.1)\n",
            "Requirement already satisfied: filelock in /usr/local/lib/python3.11/dist-packages (from transformers) (3.18.0)\n",
            "Requirement already satisfied: huggingface-hub<1.0,>=0.30.0 in /usr/local/lib/python3.11/dist-packages (from transformers) (0.30.2)\n",
            "Requirement already satisfied: numpy>=1.17 in /usr/local/lib/python3.11/dist-packages (from transformers) (2.0.2)\n",
            "Requirement already satisfied: packaging>=20.0 in /usr/local/lib/python3.11/dist-packages (from transformers) (24.2)\n",
            "Requirement already satisfied: pyyaml>=5.1 in /usr/local/lib/python3.11/dist-packages (from transformers) (6.0.2)\n",
            "Requirement already satisfied: regex!=2019.12.17 in /usr/local/lib/python3.11/dist-packages (from transformers) (2024.11.6)\n",
            "Requirement already satisfied: requests in /usr/local/lib/python3.11/dist-packages (from transformers) (2.32.3)\n",
            "Requirement already satisfied: tokenizers<0.22,>=0.21 in /usr/local/lib/python3.11/dist-packages (from transformers) (0.21.1)\n",
            "Requirement already satisfied: safetensors>=0.4.3 in /usr/local/lib/python3.11/dist-packages (from transformers) (0.5.3)\n",
            "Requirement already satisfied: tqdm>=4.27 in /usr/local/lib/python3.11/dist-packages (from transformers) (4.67.1)\n",
            "Requirement already satisfied: fsspec>=2023.5.0 in /usr/local/lib/python3.11/dist-packages (from huggingface-hub<1.0,>=0.30.0->transformers) (2024.12.0)\n",
            "Requirement already satisfied: typing-extensions>=3.7.4.3 in /usr/local/lib/python3.11/dist-packages (from huggingface-hub<1.0,>=0.30.0->transformers) (4.13.1)\n",
            "Requirement already satisfied: charset-normalizer<4,>=2 in /usr/local/lib/python3.11/dist-packages (from requests->transformers) (3.4.1)\n",
            "Requirement already satisfied: idna<4,>=2.5 in /usr/local/lib/python3.11/dist-packages (from requests->transformers) (3.10)\n",
            "Requirement already satisfied: urllib3<3,>=1.21.1 in /usr/local/lib/python3.11/dist-packages (from requests->transformers) (2.3.0)\n",
            "Requirement already satisfied: certifi>=2017.4.17 in /usr/local/lib/python3.11/dist-packages (from requests->transformers) (2025.1.31)\n",
            "Requirement already satisfied: torch in /usr/local/lib/python3.11/dist-packages (2.6.0+cu124)\n",
            "Requirement already satisfied: filelock in /usr/local/lib/python3.11/dist-packages (from torch) (3.18.0)\n",
            "Requirement already satisfied: typing-extensions>=4.10.0 in /usr/local/lib/python3.11/dist-packages (from torch) (4.13.1)\n",
            "Requirement already satisfied: networkx in /usr/local/lib/python3.11/dist-packages (from torch) (3.4.2)\n",
            "Requirement already satisfied: jinja2 in /usr/local/lib/python3.11/dist-packages (from torch) (3.1.6)\n",
            "Requirement already satisfied: fsspec in /usr/local/lib/python3.11/dist-packages (from torch) (2024.12.0)\n",
            "Collecting nvidia-cuda-nvrtc-cu12==12.4.127 (from torch)\n",
            "  Downloading nvidia_cuda_nvrtc_cu12-12.4.127-py3-none-manylinux2014_x86_64.whl.metadata (1.5 kB)\n",
            "Collecting nvidia-cuda-runtime-cu12==12.4.127 (from torch)\n",
            "  Downloading nvidia_cuda_runtime_cu12-12.4.127-py3-none-manylinux2014_x86_64.whl.metadata (1.5 kB)\n",
            "Collecting nvidia-cuda-cupti-cu12==12.4.127 (from torch)\n",
            "  Downloading nvidia_cuda_cupti_cu12-12.4.127-py3-none-manylinux2014_x86_64.whl.metadata (1.6 kB)\n",
            "Collecting nvidia-cudnn-cu12==9.1.0.70 (from torch)\n",
            "  Downloading nvidia_cudnn_cu12-9.1.0.70-py3-none-manylinux2014_x86_64.whl.metadata (1.6 kB)\n",
            "Collecting nvidia-cublas-cu12==12.4.5.8 (from torch)\n",
            "  Downloading nvidia_cublas_cu12-12.4.5.8-py3-none-manylinux2014_x86_64.whl.metadata (1.5 kB)\n",
            "Collecting nvidia-cufft-cu12==11.2.1.3 (from torch)\n",
            "  Downloading nvidia_cufft_cu12-11.2.1.3-py3-none-manylinux2014_x86_64.whl.metadata (1.5 kB)\n",
            "Collecting nvidia-curand-cu12==10.3.5.147 (from torch)\n",
            "  Downloading nvidia_curand_cu12-10.3.5.147-py3-none-manylinux2014_x86_64.whl.metadata (1.5 kB)\n",
            "Collecting nvidia-cusolver-cu12==11.6.1.9 (from torch)\n",
            "  Downloading nvidia_cusolver_cu12-11.6.1.9-py3-none-manylinux2014_x86_64.whl.metadata (1.6 kB)\n",
            "Collecting nvidia-cusparse-cu12==12.3.1.170 (from torch)\n",
            "  Downloading nvidia_cusparse_cu12-12.3.1.170-py3-none-manylinux2014_x86_64.whl.metadata (1.6 kB)\n",
            "Requirement already satisfied: nvidia-cusparselt-cu12==0.6.2 in /usr/local/lib/python3.11/dist-packages (from torch) (0.6.2)\n",
            "Requirement already satisfied: nvidia-nccl-cu12==2.21.5 in /usr/local/lib/python3.11/dist-packages (from torch) (2.21.5)\n",
            "Requirement already satisfied: nvidia-nvtx-cu12==12.4.127 in /usr/local/lib/python3.11/dist-packages (from torch) (12.4.127)\n",
            "Collecting nvidia-nvjitlink-cu12==12.4.127 (from torch)\n",
            "  Downloading nvidia_nvjitlink_cu12-12.4.127-py3-none-manylinux2014_x86_64.whl.metadata (1.5 kB)\n",
            "Requirement already satisfied: triton==3.2.0 in /usr/local/lib/python3.11/dist-packages (from torch) (3.2.0)\n",
            "Requirement already satisfied: sympy==1.13.1 in /usr/local/lib/python3.11/dist-packages (from torch) (1.13.1)\n",
            "Requirement already satisfied: mpmath<1.4,>=1.1.0 in /usr/local/lib/python3.11/dist-packages (from sympy==1.13.1->torch) (1.3.0)\n",
            "Requirement already satisfied: MarkupSafe>=2.0 in /usr/local/lib/python3.11/dist-packages (from jinja2->torch) (3.0.2)\n",
            "Downloading nvidia_cublas_cu12-12.4.5.8-py3-none-manylinux2014_x86_64.whl (363.4 MB)\n",
            "\u001b[2K   \u001b[90m━━━━━━━━━━━━━━━━━━━━━━━━━━━━━━━━━━━━━━━━\u001b[0m \u001b[32m363.4/363.4 MB\u001b[0m \u001b[31m4.5 MB/s\u001b[0m eta \u001b[36m0:00:00\u001b[0m\n",
            "\u001b[?25hDownloading nvidia_cuda_cupti_cu12-12.4.127-py3-none-manylinux2014_x86_64.whl (13.8 MB)\n",
            "\u001b[2K   \u001b[90m━━━━━━━━━━━━━━━━━━━━━━━━━━━━━━━━━━━━━━━━\u001b[0m \u001b[32m13.8/13.8 MB\u001b[0m \u001b[31m114.0 MB/s\u001b[0m eta \u001b[36m0:00:00\u001b[0m\n",
            "\u001b[?25hDownloading nvidia_cuda_nvrtc_cu12-12.4.127-py3-none-manylinux2014_x86_64.whl (24.6 MB)\n",
            "\u001b[2K   \u001b[90m━━━━━━━━━━━━━━━━━━━━━━━━━━━━━━━━━━━━━━━━\u001b[0m \u001b[32m24.6/24.6 MB\u001b[0m \u001b[31m87.0 MB/s\u001b[0m eta \u001b[36m0:00:00\u001b[0m\n",
            "\u001b[?25hDownloading nvidia_cuda_runtime_cu12-12.4.127-py3-none-manylinux2014_x86_64.whl (883 kB)\n",
            "\u001b[2K   \u001b[90m━━━━━━━━━━━━━━━━━━━━━━━━━━━━━━━━━━━━━━━━\u001b[0m \u001b[32m883.7/883.7 kB\u001b[0m \u001b[31m59.0 MB/s\u001b[0m eta \u001b[36m0:00:00\u001b[0m\n",
            "\u001b[?25hDownloading nvidia_cudnn_cu12-9.1.0.70-py3-none-manylinux2014_x86_64.whl (664.8 MB)\n",
            "\u001b[2K   \u001b[90m━━━━━━━━━━━━━━━━━━━━━━━━━━━━━━━━━━━━━━━━\u001b[0m \u001b[32m664.8/664.8 MB\u001b[0m \u001b[31m1.4 MB/s\u001b[0m eta \u001b[36m0:00:00\u001b[0m\n",
            "\u001b[?25hDownloading nvidia_cufft_cu12-11.2.1.3-py3-none-manylinux2014_x86_64.whl (211.5 MB)\n",
            "\u001b[2K   \u001b[90m━━━━━━━━━━━━━━━━━━━━━━━━━━━━━━━━━━━━━━━━\u001b[0m \u001b[32m211.5/211.5 MB\u001b[0m \u001b[31m5.6 MB/s\u001b[0m eta \u001b[36m0:00:00\u001b[0m\n",
            "\u001b[?25hDownloading nvidia_curand_cu12-10.3.5.147-py3-none-manylinux2014_x86_64.whl (56.3 MB)\n",
            "\u001b[2K   \u001b[90m━━━━━━━━━━━━━━━━━━━━━━━━━━━━━━━━━━━━━━━━\u001b[0m \u001b[32m56.3/56.3 MB\u001b[0m \u001b[31m13.6 MB/s\u001b[0m eta \u001b[36m0:00:00\u001b[0m\n",
            "\u001b[?25hDownloading nvidia_cusolver_cu12-11.6.1.9-py3-none-manylinux2014_x86_64.whl (127.9 MB)\n",
            "\u001b[2K   \u001b[90m━━━━━━━━━━━━━━━━━━━━━━━━━━━━━━━━━━━━━━━━\u001b[0m \u001b[32m127.9/127.9 MB\u001b[0m \u001b[31m8.2 MB/s\u001b[0m eta \u001b[36m0:00:00\u001b[0m\n",
            "\u001b[?25hDownloading nvidia_cusparse_cu12-12.3.1.170-py3-none-manylinux2014_x86_64.whl (207.5 MB)\n",
            "\u001b[2K   \u001b[90m━━━━━━━━━━━━━━━━━━━━━━━━━━━━━━━━━━━━━━━━\u001b[0m \u001b[32m207.5/207.5 MB\u001b[0m \u001b[31m5.8 MB/s\u001b[0m eta \u001b[36m0:00:00\u001b[0m\n",
            "\u001b[?25hDownloading nvidia_nvjitlink_cu12-12.4.127-py3-none-manylinux2014_x86_64.whl (21.1 MB)\n",
            "\u001b[2K   \u001b[90m━━━━━━━━━━━━━━━━━━━━━━━━━━━━━━━━━━━━━━━━\u001b[0m \u001b[32m21.1/21.1 MB\u001b[0m \u001b[31m93.9 MB/s\u001b[0m eta \u001b[36m0:00:00\u001b[0m\n",
            "\u001b[?25hInstalling collected packages: nvidia-nvjitlink-cu12, nvidia-curand-cu12, nvidia-cufft-cu12, nvidia-cuda-runtime-cu12, nvidia-cuda-nvrtc-cu12, nvidia-cuda-cupti-cu12, nvidia-cublas-cu12, nvidia-cusparse-cu12, nvidia-cudnn-cu12, nvidia-cusolver-cu12\n",
            "  Attempting uninstall: nvidia-nvjitlink-cu12\n",
            "    Found existing installation: nvidia-nvjitlink-cu12 12.5.82\n",
            "    Uninstalling nvidia-nvjitlink-cu12-12.5.82:\n",
            "      Successfully uninstalled nvidia-nvjitlink-cu12-12.5.82\n",
            "  Attempting uninstall: nvidia-curand-cu12\n",
            "    Found existing installation: nvidia-curand-cu12 10.3.6.82\n",
            "    Uninstalling nvidia-curand-cu12-10.3.6.82:\n",
            "      Successfully uninstalled nvidia-curand-cu12-10.3.6.82\n",
            "  Attempting uninstall: nvidia-cufft-cu12\n",
            "    Found existing installation: nvidia-cufft-cu12 11.2.3.61\n",
            "    Uninstalling nvidia-cufft-cu12-11.2.3.61:\n",
            "      Successfully uninstalled nvidia-cufft-cu12-11.2.3.61\n",
            "  Attempting uninstall: nvidia-cuda-runtime-cu12\n",
            "    Found existing installation: nvidia-cuda-runtime-cu12 12.5.82\n",
            "    Uninstalling nvidia-cuda-runtime-cu12-12.5.82:\n",
            "      Successfully uninstalled nvidia-cuda-runtime-cu12-12.5.82\n",
            "  Attempting uninstall: nvidia-cuda-nvrtc-cu12\n",
            "    Found existing installation: nvidia-cuda-nvrtc-cu12 12.5.82\n",
            "    Uninstalling nvidia-cuda-nvrtc-cu12-12.5.82:\n",
            "      Successfully uninstalled nvidia-cuda-nvrtc-cu12-12.5.82\n",
            "  Attempting uninstall: nvidia-cuda-cupti-cu12\n",
            "    Found existing installation: nvidia-cuda-cupti-cu12 12.5.82\n",
            "    Uninstalling nvidia-cuda-cupti-cu12-12.5.82:\n",
            "      Successfully uninstalled nvidia-cuda-cupti-cu12-12.5.82\n",
            "  Attempting uninstall: nvidia-cublas-cu12\n",
            "    Found existing installation: nvidia-cublas-cu12 12.5.3.2\n",
            "    Uninstalling nvidia-cublas-cu12-12.5.3.2:\n",
            "      Successfully uninstalled nvidia-cublas-cu12-12.5.3.2\n",
            "  Attempting uninstall: nvidia-cusparse-cu12\n",
            "    Found existing installation: nvidia-cusparse-cu12 12.5.1.3\n",
            "    Uninstalling nvidia-cusparse-cu12-12.5.1.3:\n",
            "      Successfully uninstalled nvidia-cusparse-cu12-12.5.1.3\n",
            "  Attempting uninstall: nvidia-cudnn-cu12\n",
            "    Found existing installation: nvidia-cudnn-cu12 9.3.0.75\n",
            "    Uninstalling nvidia-cudnn-cu12-9.3.0.75:\n",
            "      Successfully uninstalled nvidia-cudnn-cu12-9.3.0.75\n",
            "  Attempting uninstall: nvidia-cusolver-cu12\n",
            "    Found existing installation: nvidia-cusolver-cu12 11.6.3.83\n",
            "    Uninstalling nvidia-cusolver-cu12-11.6.3.83:\n",
            "      Successfully uninstalled nvidia-cusolver-cu12-11.6.3.83\n",
            "Successfully installed nvidia-cublas-cu12-12.4.5.8 nvidia-cuda-cupti-cu12-12.4.127 nvidia-cuda-nvrtc-cu12-12.4.127 nvidia-cuda-runtime-cu12-12.4.127 nvidia-cudnn-cu12-9.1.0.70 nvidia-cufft-cu12-11.2.1.3 nvidia-curand-cu12-10.3.5.147 nvidia-cusolver-cu12-11.6.1.9 nvidia-cusparse-cu12-12.3.1.170 nvidia-nvjitlink-cu12-12.4.127\n"
          ]
        }
      ],
      "source": [
        "import pandas as pd\n",
        "import numpy as np\n",
        "import matplotlib.pyplot as plt\n",
        "import seaborn as sns\n",
        "%pip install datasets\n",
        "%pip install transformers\n",
        "%pip install torch\n",
        "\n",
        "from datasets import load_dataset, Dataset"
      ]
    },
    {
      "cell_type": "markdown",
      "source": [
        "Loading in Dataset\n"
      ],
      "metadata": {
        "id": "t3QWNMHmgJlg"
      }
    },
    {
      "cell_type": "code",
      "source": [
        "ds = load_dataset(\"Hemg/Melanoma-Cancer-Image-Dataset\")\n",
        "ds = ds.shuffle()\n",
        "\n",
        "ds_train= ds['train'][:7520]\n",
        "ds_train = Dataset.from_dict(ds_train)\n",
        "\n",
        "ds_test3 = ds['train'][7520:8520]\n",
        "ds_test3 = Dataset.from_dict(ds_test3)\n",
        "\n",
        "ds_test2= ds['train'][8520:9520]\n",
        "ds_test2 = Dataset.from_dict(ds_test2)\n",
        "\n",
        "ds_test= ds['train'][9520:10710]\n",
        "ds_test = Dataset.from_dict(ds_test)\n",
        "\n",
        "ds_val= ds['train'][10710:]\n",
        "ds_val = Dataset.from_dict(ds_val)\n",
        "\n",
        "\n"
      ],
      "metadata": {
        "id": "QCLxU4wZgLwE",
        "colab": {
          "base_uri": "https://localhost:8080/",
          "height": 268,
          "referenced_widgets": [
            "5d77194aa3e64e1ba6e2c22d835a8bc2",
            "ee2618b7c019412dbf0e14a09c470f2c",
            "c9edc09cfdbf4b0da07dea3cb33b7434",
            "a2d831b2c24e48148bcac70cb175d6a9",
            "d4abb0c11c6e47068b79efa33b9f5fc1",
            "bd6cce3f1f504964b0aaf5759d9828b8",
            "cf02c238f02c426ab3674dad8820520e",
            "3933c6593dfd4bf5a4290cb97683217a",
            "55fac80ed550434894c919dd1854471b",
            "96b351d7f8a74a85ac522149d090117e",
            "fb7dc53643ed4606b1f831b83eddfcb7",
            "7557dae5b587490caa29bd9abf83940a",
            "5c5a0bb228d34322bb4544aa776c53b7",
            "9afe49b2126341099ff4e29364b4014f",
            "b1a4cb3713634f65921469a902da17d8",
            "46524e4d97614de6bb5f1f6c24719bfa",
            "5c8eef64c1aa4cd9901ea9f048d1b8ea",
            "a5695bd649614a9999bab78ef82ade73",
            "67bdb187f48c41b783d079f467fbb299",
            "b04cc9dd0ecf428b9c9d1860742a7315",
            "765b03fba00e45aba15b77c8f17967f6",
            "0c113b8f42c347b8b29e296f5fce42e1",
            "3396872aca99497b8af5b7ed3523e287",
            "d2a9e865d4e446b8bd884367db1bed9b",
            "b17a078308b54336908dc2296514d71a",
            "ee358fe058ab4dc8be9384185d21043c",
            "139f9b6aa89a4d3cb504c49b6c88e9c1",
            "ad8dd12b97694562b94817708273e2ef",
            "11da2236ac214aa4a3debda09f7fd5e7",
            "0a175d98762542ddbf037147f82e4371",
            "0a6119a010ce4818a67a1218dcbb0773",
            "69d07645331743f2bc24c69623fb13c5",
            "62aadf4731d8411bbc3279773e9db1cb"
          ]
        },
        "outputId": "4954ac49-ab9b-470c-a2c0-5e96d3cdadb9"
      },
      "execution_count": null,
      "outputs": [
        {
          "output_type": "stream",
          "name": "stderr",
          "text": [
            "/usr/local/lib/python3.11/dist-packages/huggingface_hub/utils/_auth.py:94: UserWarning: \n",
            "The secret `HF_TOKEN` does not exist in your Colab secrets.\n",
            "To authenticate with the Hugging Face Hub, create a token in your settings tab (https://huggingface.co/settings/tokens), set it as secret in your Google Colab and restart your session.\n",
            "You will be able to reuse this secret in all of your notebooks.\n",
            "Please note that authentication is recommended but still optional to access public models or datasets.\n",
            "  warnings.warn(\n"
          ]
        },
        {
          "output_type": "display_data",
          "data": {
            "text/plain": [
              "README.md:   0%|          | 0.00/577 [00:00<?, ?B/s]"
            ],
            "application/vnd.jupyter.widget-view+json": {
              "version_major": 2,
              "version_minor": 0,
              "model_id": "5d77194aa3e64e1ba6e2c22d835a8bc2"
            }
          },
          "metadata": {}
        },
        {
          "output_type": "display_data",
          "data": {
            "text/plain": [
              "(…)-00000-of-00001-01148daec2698532.parquet:   0%|          | 0.00/69.9M [00:00<?, ?B/s]"
            ],
            "application/vnd.jupyter.widget-view+json": {
              "version_major": 2,
              "version_minor": 0,
              "model_id": "7557dae5b587490caa29bd9abf83940a"
            }
          },
          "metadata": {}
        },
        {
          "output_type": "display_data",
          "data": {
            "text/plain": [
              "Generating train split:   0%|          | 0/11879 [00:00<?, ? examples/s]"
            ],
            "application/vnd.jupyter.widget-view+json": {
              "version_major": 2,
              "version_minor": 0,
              "model_id": "3396872aca99497b8af5b7ed3523e287"
            }
          },
          "metadata": {}
        }
      ]
    },
    {
      "cell_type": "markdown",
      "source": [
        "Loading in EfficientNet-B0 Configuration\n"
      ],
      "metadata": {
        "id": "XUDwubpEgNxj"
      }
    },
    {
      "cell_type": "code",
      "source": [
        "from transformers import EfficientNetConfig, EfficientNetForImageClassification\n",
        "import torch\n",
        "\n",
        "# Initializing a EfficientNet efficientnet-b7 style configuration\n",
        "configuration = EfficientNetConfig()\n",
        "\n",
        "#Storing model in GPU\n",
        "device = torch.device(\"cuda\")\n",
        "\n",
        "# Initializing a model (with random weights) from the efficientnet-b7 style configuration\n",
        "model = EfficientNetForImageClassification.from_pretrained(\"google/efficientnet-b7\")\n",
        "model = model.to(device)\n",
        "\n",
        "\n"
      ],
      "metadata": {
        "id": "So44zpr1gPDF",
        "colab": {
          "base_uri": "https://localhost:8080/",
          "height": 113,
          "referenced_widgets": [
            "8f9f14f3e53f40baa6013c0ed3651c05",
            "4bdd997a855b4246ba39876c9fccd710",
            "bdec5704b7684a998896ef3a96405b03",
            "5fe0576af9e44d6fbe5aa811dd54e53d",
            "e0f26bf8c4f54422818d081ef064caa6",
            "65beed8741d94f2593ba6967c13fcb0f",
            "2ceb618ba28943cebfb85959940bd26f",
            "c7ff8b678ebb4ae484c71387878d7a8d",
            "546cf80778814e10bd3401b701c91708",
            "5324daec5b20477280446dc6af5415dc",
            "e68578ab53414ebbbeaa93d42f6d92e9",
            "066e1539356e47e19e6a5b812cdbf365",
            "30690a7db107483a8c7e51381b50e83a",
            "9b4f305824b2466b97e534ee3172aa00",
            "d788281af4f44f9ebc0241f5076d02fe",
            "29d2738d58eb44b5b6685812f586f0e8",
            "2961a7fdba0546e9b8c5e67a3391b5a0",
            "d5410fdf5cd44d0789390f1517d087d6",
            "4d314fa256144653a759c4bf6f06e743",
            "0cc1ed31f6b949fa9f171857b6ebbce5",
            "90c56da9833a4ade948e64f541c6429e",
            "c2f13f82e15b475c8de6ef52148d0ffe",
            "8ba3739619ee400d892912c760ffd430",
            "b8cb1047dcd74a69b7596facef00e243",
            "7003b248044e4c249471fb2599e58cdb",
            "0cbc30f91a7747f0b10f2eaeae779c41",
            "d7458083b2684a74ab844349d1c41343",
            "5bf6d31977ed49dfbcdb0633314d52fc",
            "0617ec4d7a27484ba143371d8ac91b05",
            "f1f8ec5d17cb4fd8aeae3094327a1b2a",
            "5cc00af700bb47a9bb7ad7a5d6b3176c",
            "e4ded7d6967041cfb86502915525efda",
            "edc2352448a2417b9c206415e0955589"
          ]
        },
        "outputId": "c347fb36-8795-422e-d8d3-b4b8bdca0fc6"
      },
      "execution_count": null,
      "outputs": [
        {
          "output_type": "display_data",
          "data": {
            "text/plain": [
              "config.json:   0%|          | 0.00/70.2k [00:00<?, ?B/s]"
            ],
            "application/vnd.jupyter.widget-view+json": {
              "version_major": 2,
              "version_minor": 0,
              "model_id": "8f9f14f3e53f40baa6013c0ed3651c05"
            }
          },
          "metadata": {}
        },
        {
          "output_type": "display_data",
          "data": {
            "text/plain": [
              "pytorch_model.bin:   0%|          | 0.00/267M [00:00<?, ?B/s]"
            ],
            "application/vnd.jupyter.widget-view+json": {
              "version_major": 2,
              "version_minor": 0,
              "model_id": "066e1539356e47e19e6a5b812cdbf365"
            }
          },
          "metadata": {}
        },
        {
          "output_type": "display_data",
          "data": {
            "text/plain": [
              "model.safetensors:   0%|          | 0.00/267M [00:00<?, ?B/s]"
            ],
            "application/vnd.jupyter.widget-view+json": {
              "version_major": 2,
              "version_minor": 0,
              "model_id": "8ba3739619ee400d892912c760ffd430"
            }
          },
          "metadata": {}
        }
      ]
    },
    {
      "cell_type": "markdown",
      "source": [
        "Constructing EfficientNet image processor to be used through data loader"
      ],
      "metadata": {
        "id": "ugw_4D8uLtk2"
      }
    },
    {
      "cell_type": "code",
      "source": [
        "from torch.utils.data import DataLoader\n",
        "from datasets import Dataset\n",
        "from transformers import AutoImageProcessor, EfficientNetForImageClassification\n",
        "from tqdm import tqdm\n",
        "\n",
        "\n",
        "image_processor = AutoImageProcessor.from_pretrained(\"google/efficientnet-b7\")\n",
        "images = list(ds_val['image'])\n",
        "labels = list(ds_val['label'])\n",
        "class CustomDataset(Dataset):\n",
        "    def __init__(self, images, labels,processor):\n",
        "        self.images = images\n",
        "        self.labels = labels\n",
        "        self.processor = processor\n",
        "\n",
        "    def __len__(self):\n",
        "        return len(self.images)\n",
        "\n",
        "    def __getitem__(self, idx):\n",
        "        if isinstance(idx, list):\n",
        "            images = [self.images[i] for i in idx]\n",
        "            labels = [self.labels[i] for i in idx]\n",
        "        else:\n",
        "            images = [self.images[idx]]\n",
        "            labels = [self.labels[idx]]\n",
        "        # Preprocess the image and return as tensor\n",
        "        processed = self.processor(images=images, return_tensors=\"pt\", padding=True)\n",
        "        pixel_values = processed[\"pixel_values\"]\n",
        "        return{ \"pixel_values\":processed[\"pixel_values\"].squeeze(0), \"labels\": torch.tensor(labels, dtype=torch.long)\n",
        "}\n",
        "\n",
        "\n",
        "dataset = CustomDataset(images, labels, image_processor)\n",
        "data_loader = DataLoader(dataset, batch_size=32, shuffle=True, num_workers=0)\n"
      ],
      "metadata": {
        "id": "dWlcPRbNCpRg",
        "colab": {
          "base_uri": "https://localhost:8080/",
          "height": 87,
          "referenced_widgets": [
            "c25c003d6c4041ca90c7f0a16bf621c7",
            "fe757accb73d4375810ceabdfb891294",
            "dde1ba3caf6d498dbf4f2583335dd687",
            "dbd51b8796d6430d9f2950aa43da5109",
            "fce32f966e41498b8abfa892a4c7b122",
            "8dccf0b8dc4e4d1faef785247345fe94",
            "24b0b0f7aec8493d8deb056aec00520c",
            "f53009f23c58488b80f9deb11afbaac3",
            "1c7609ed25b149d790782293e156c643",
            "4552736919ae40529eb8e736e30f343e",
            "7a2be215dc604aea91ffced052050af4"
          ]
        },
        "outputId": "191d1c34-fa73-407d-8550-c9327a77e0e4"
      },
      "execution_count": null,
      "outputs": [
        {
          "output_type": "display_data",
          "data": {
            "text/plain": [
              "preprocessor_config.json:   0%|          | 0.00/495 [00:00<?, ?B/s]"
            ],
            "application/vnd.jupyter.widget-view+json": {
              "version_major": 2,
              "version_minor": 0,
              "model_id": "c25c003d6c4041ca90c7f0a16bf621c7"
            }
          },
          "metadata": {}
        },
        {
          "output_type": "stream",
          "name": "stderr",
          "text": [
            "Using a slow image processor as `use_fast` is unset and a slow processor was saved with this model. `use_fast=True` will be the default behavior in v4.52, even if the model was saved with a slow processor. This will result in minor differences in outputs. You'll still be able to use a slow processor with `use_fast=False`.\n"
          ]
        }
      ]
    },
    {
      "cell_type": "markdown",
      "source": [
        "\n",
        "[link text](https://)"
      ],
      "metadata": {
        "id": "LW5eiupjgQxP"
      }
    },
    {
      "cell_type": "markdown",
      "source": [
        "Loading in EfficientNetModel for Image Classification Model\n"
      ],
      "metadata": {
        "id": "Oa1YLmMngVDr"
      }
    },
    {
      "cell_type": "code",
      "source": [
        "from sklearn.metrics import confusion_matrix\n",
        "from transformers import AutoImageProcessor, EfficientNetForImageClassification\n",
        "import torch.nn as nn\n",
        "from tqdm import tqdm\n",
        "from torch import nn, optim\n",
        "\n",
        "\n",
        "device = torch.device(\"cuda\")\n",
        "print(f\"Using device: {device}\")\n",
        "\n",
        "\n",
        "# Freeze all layers except the classifier\n",
        "for param in model.parameters():\n",
        "    param.requires_grad = False\n",
        "\n",
        "#Using sigmoid activation for final layer as this dataset is binary classification\n",
        "model.classifier = nn.Sequential(\n",
        "    nn.Linear(2560, 1),  # 2560 is the size of the output from EfficientNet-B7\n",
        "    nn.Sigmoid()         # Sigmoid activation for binary classification\n",
        ")\n",
        "model.config.num_labels = 2  # Binary classification: 2 labels (0 and 1)\n",
        "model.config.id2label = {0: \"negative\", 1: \"positive\"}  # Custom labels for binary classification\n",
        "#Defining loss function and optimizer\n",
        "loss_fn = torch.nn.BCEWithLogitsLoss()\n",
        "optimizer = optim.Adam(model.parameters(), lr=1e-4)\n",
        "num_epochs = 10\n",
        "model = model.to(device)\n",
        "\n",
        "#Saving Base model on GPU\n",
        "model_base = model\n",
        "model_base = model_base.to(device)\n"
      ],
      "metadata": {
        "id": "K0PHS-D5gWlk",
        "collapsed": true,
        "colab": {
          "base_uri": "https://localhost:8080/",
          "height": 35
        },
        "outputId": "52b0ddf8-9d0c-4e70-c750-108e2fcb2e50"
      },
      "execution_count": null,
      "outputs": [
        {
          "output_type": "stream",
          "name": "stdout",
          "text": [
            "Using device: cuda\n"
          ]
        }
      ]
    },
    {
      "cell_type": "markdown",
      "source": [
        "Training Model"
      ],
      "metadata": {
        "id": "cOdllSmsf9G7"
      }
    },
    {
      "cell_type": "code",
      "source": [
        "for epoch in range(num_epochs):\n",
        "    model.train()  # Set model to training mode\n",
        "    running_loss = 0.0\n",
        "    for batch in tqdm(data_loader, desc=f\"Epoch {epoch+1}/{num_epochs}\", leave=False):\n",
        "      pixel_values =batch[\"pixel_values\"].to(device)\n",
        "\n",
        "      true_labels = batch[\"labels\"].to(device)\n",
        "      true_labels = true_labels.float()\n",
        "      inputs = {\"pixel_values\": pixel_values}\n",
        "\n",
        "      optimizer.zero_grad()\n",
        "      outputs = model(**inputs)\n",
        "      logits = outputs.logits.squeeze(1)\n",
        "      loss = loss_fn(logits, true_labels)\n",
        "      loss.backward()\n",
        "      optimizer.step()\n",
        "      running_loss += loss.item()\n",
        "    avg_loss = running_loss / len(data_loader)\n",
        "    print(f\"Epoch {epoch+1}/{num_epochs}, Loss: {avg_loss:.4f}\")\n",
        "\n"
      ],
      "metadata": {
        "colab": {
          "base_uri": "https://localhost:8080/",
          "height": 948
        },
        "id": "1bVhYYw0QShL",
        "outputId": "a20679a4-3589-457b-f277-1f804efbe4c7"
      },
      "execution_count": null,
      "outputs": [
        {
          "output_type": "stream",
          "name": "stderr",
          "text": [
            "\n",
            "Epoch 1/10:   0%|          | 0/37 [00:00<?, ?it/s]\u001b[A/usr/local/lib/python3.11/dist-packages/transformers/image_processing_utils.py:42: UserWarning: The following named arguments are not valid for `EfficientNetImageProcessor.preprocess` and were ignored: 'padding'\n",
            "  return self.preprocess(images, **kwargs)\n",
            "\n",
            "Epoch 1/10:   3%|▎         | 1/37 [00:03<02:10,  3.62s/it]\u001b[A\n",
            "Epoch 1/10:   5%|▌         | 2/37 [00:06<01:48,  3.10s/it]\u001b[A\n",
            "Epoch 1/10:   8%|▊         | 3/37 [00:09<01:42,  3.01s/it]\u001b[A\n",
            "Epoch 1/10:  11%|█         | 4/37 [00:12<01:36,  2.91s/it]\u001b[A\n",
            "Epoch 1/10:  14%|█▎        | 5/37 [00:14<01:31,  2.86s/it]\u001b[A\n",
            "Epoch 1/10:  16%|█▌        | 6/37 [00:17<01:27,  2.83s/it]\u001b[A\n",
            "Epoch 1/10:  19%|█▉        | 7/37 [00:20<01:26,  2.90s/it]\u001b[A\n",
            "Epoch 1/10:  22%|██▏       | 8/37 [00:23<01:22,  2.86s/it]\u001b[A\n",
            "Epoch 1/10:  24%|██▍       | 9/37 [00:26<01:19,  2.83s/it]\u001b[A\n",
            "Epoch 1/10:  27%|██▋       | 10/37 [00:28<01:15,  2.81s/it]\u001b[A\n",
            "Epoch 1/10:  30%|██▉       | 11/37 [00:31<01:14,  2.87s/it]\u001b[A\n",
            "Epoch 1/10:  32%|███▏      | 12/37 [00:34<01:11,  2.84s/it]\u001b[A\n",
            "Epoch 1/10:  35%|███▌      | 13/37 [00:37<01:07,  2.82s/it]\u001b[A\n",
            "Epoch 1/10:  38%|███▊      | 14/37 [00:40<01:04,  2.81s/it]\u001b[A\n",
            "Epoch 1/10:  41%|████      | 15/37 [00:43<01:01,  2.81s/it]\u001b[A\n",
            "Epoch 1/10:  43%|████▎     | 16/37 [00:45<00:59,  2.81s/it]\u001b[A\n",
            "Epoch 1/10:  46%|████▌     | 17/37 [00:48<00:56,  2.81s/it]\u001b[A\n",
            "Epoch 1/10:  49%|████▊     | 18/37 [00:51<00:53,  2.81s/it]\u001b[A\n",
            "Epoch 1/10:  51%|█████▏    | 19/37 [00:54<00:50,  2.81s/it]\u001b[A\n",
            "Epoch 1/10:  54%|█████▍    | 20/37 [00:57<00:48,  2.88s/it]\u001b[A\n",
            "Epoch 1/10:  57%|█████▋    | 21/37 [01:00<00:45,  2.86s/it]\u001b[A\n",
            "Epoch 1/10:  59%|█████▉    | 22/37 [01:02<00:42,  2.84s/it]\u001b[A\n",
            "Epoch 1/10:  62%|██████▏   | 23/37 [01:05<00:39,  2.84s/it]\u001b[A\n",
            "Epoch 1/10:  65%|██████▍   | 24/37 [01:08<00:37,  2.91s/it]\u001b[A\n",
            "Epoch 1/10:  68%|██████▊   | 25/37 [01:12<00:36,  3.01s/it]\u001b[A\n",
            "Epoch 1/10:  70%|███████   | 26/37 [01:14<00:32,  2.96s/it]\u001b[A\n",
            "Epoch 1/10:  73%|███████▎  | 27/37 [01:17<00:29,  2.93s/it]\u001b[A\n",
            "Epoch 1/10:  76%|███████▌  | 28/37 [01:20<00:26,  2.98s/it]\u001b[A\n",
            "Epoch 1/10:  78%|███████▊  | 29/37 [01:23<00:23,  2.94s/it]\u001b[A\n",
            "Epoch 1/10:  81%|████████  | 30/37 [01:26<00:20,  2.91s/it]\u001b[A\n",
            "Epoch 1/10:  84%|████████▍ | 31/37 [01:29<00:17,  2.88s/it]\u001b[A\n",
            "Epoch 1/10:  86%|████████▋ | 32/37 [01:32<00:14,  2.92s/it]\u001b[A\n",
            "Epoch 1/10:  89%|████████▉ | 33/37 [01:35<00:11,  2.90s/it]\u001b[A\n",
            "Epoch 1/10:  92%|█████████▏| 34/37 [01:38<00:08,  2.89s/it]\u001b[A\n",
            "Epoch 1/10:  95%|█████████▍| 35/37 [01:41<00:05,  2.89s/it]\u001b[A\n",
            "Epoch 1/10:  97%|█████████▋| 36/37 [01:43<00:02,  2.87s/it]\u001b[A\n",
            "Epoch 1/10: 100%|██████████| 37/37 [01:45<00:00,  2.47s/it]\u001b[A\n",
            "                                                           \u001b[A"
          ]
        },
        {
          "output_type": "stream",
          "name": "stdout",
          "text": [
            "Epoch 1/10, Loss: 0.7266\n"
          ]
        },
        {
          "output_type": "stream",
          "name": "stderr",
          "text": []
        },
        {
          "output_type": "stream",
          "name": "stdout",
          "text": [
            "Epoch 2/10, Loss: 0.7210\n"
          ]
        },
        {
          "output_type": "stream",
          "name": "stderr",
          "text": []
        },
        {
          "output_type": "stream",
          "name": "stdout",
          "text": [
            "Epoch 3/10, Loss: 0.7125\n"
          ]
        },
        {
          "output_type": "stream",
          "name": "stderr",
          "text": []
        },
        {
          "output_type": "stream",
          "name": "stdout",
          "text": [
            "Epoch 4/10, Loss: 0.7062\n"
          ]
        },
        {
          "output_type": "stream",
          "name": "stderr",
          "text": []
        },
        {
          "output_type": "stream",
          "name": "stdout",
          "text": [
            "Epoch 5/10, Loss: 0.6996\n"
          ]
        },
        {
          "output_type": "stream",
          "name": "stderr",
          "text": []
        },
        {
          "output_type": "stream",
          "name": "stdout",
          "text": [
            "Epoch 6/10, Loss: 0.6931\n"
          ]
        },
        {
          "output_type": "stream",
          "name": "stderr",
          "text": []
        },
        {
          "output_type": "stream",
          "name": "stdout",
          "text": [
            "Epoch 7/10, Loss: 0.6886\n"
          ]
        },
        {
          "output_type": "stream",
          "name": "stderr",
          "text": []
        },
        {
          "output_type": "stream",
          "name": "stdout",
          "text": [
            "Epoch 8/10, Loss: 0.6816\n"
          ]
        },
        {
          "output_type": "stream",
          "name": "stderr",
          "text": []
        },
        {
          "output_type": "stream",
          "name": "stdout",
          "text": [
            "Epoch 9/10, Loss: 0.6789\n"
          ]
        },
        {
          "output_type": "stream",
          "name": "stderr",
          "text": [
            "                                                            "
          ]
        },
        {
          "output_type": "stream",
          "name": "stdout",
          "text": [
            "Epoch 10/10, Loss: 0.6751\n"
          ]
        },
        {
          "output_type": "stream",
          "name": "stderr",
          "text": [
            "\r"
          ]
        }
      ]
    },
    {
      "cell_type": "markdown",
      "source": [
        "We can observe that the loss still falling after 10 epochs"
      ],
      "metadata": {
        "id": "PaGbr1vdrxFM"
      }
    },
    {
      "cell_type": "code",
      "source": [
        "# Save the model state\n",
        "torch.save(model, \"efficientnet_full_model3.pth\")\n",
        "print(\"Model saved to efficientnet_full_model3.pth\")\n",
        "from google.colab import files\n",
        "files.download(\"efficientnet_full_model3.pth\")\n"
      ],
      "metadata": {
        "colab": {
          "base_uri": "https://localhost:8080/",
          "height": 35
        },
        "id": "moPtKpmX_FAS",
        "outputId": "6f247d0c-68ef-4319-9054-8d12b3910c6e"
      },
      "execution_count": null,
      "outputs": [
        {
          "output_type": "stream",
          "name": "stdout",
          "text": [
            "Model saved to efficientnet_full_model3.pth\n"
          ]
        },
        {
          "output_type": "display_data",
          "data": {
            "text/plain": [
              "<IPython.core.display.Javascript object>"
            ],
            "application/javascript": [
              "\n",
              "    async function download(id, filename, size) {\n",
              "      if (!google.colab.kernel.accessAllowed) {\n",
              "        return;\n",
              "      }\n",
              "      const div = document.createElement('div');\n",
              "      const label = document.createElement('label');\n",
              "      label.textContent = `Downloading \"${filename}\": `;\n",
              "      div.appendChild(label);\n",
              "      const progress = document.createElement('progress');\n",
              "      progress.max = size;\n",
              "      div.appendChild(progress);\n",
              "      document.body.appendChild(div);\n",
              "\n",
              "      const buffers = [];\n",
              "      let downloaded = 0;\n",
              "\n",
              "      const channel = await google.colab.kernel.comms.open(id);\n",
              "      // Send a message to notify the kernel that we're ready.\n",
              "      channel.send({})\n",
              "\n",
              "      for await (const message of channel.messages) {\n",
              "        // Send a message to notify the kernel that we're ready.\n",
              "        channel.send({})\n",
              "        if (message.buffers) {\n",
              "          for (const buffer of message.buffers) {\n",
              "            buffers.push(buffer);\n",
              "            downloaded += buffer.byteLength;\n",
              "            progress.value = downloaded;\n",
              "          }\n",
              "        }\n",
              "      }\n",
              "      const blob = new Blob(buffers, {type: 'application/binary'});\n",
              "      const a = document.createElement('a');\n",
              "      a.href = window.URL.createObjectURL(blob);\n",
              "      a.download = filename;\n",
              "      div.appendChild(a);\n",
              "      a.click();\n",
              "      div.remove();\n",
              "    }\n",
              "  "
            ]
          },
          "metadata": {}
        },
        {
          "output_type": "display_data",
          "data": {
            "text/plain": [
              "<IPython.core.display.Javascript object>"
            ],
            "application/javascript": [
              "download(\"download_b8c797fc-6ad8-4893-8d3a-27b55439f7ce\", \"efficientnet_full_model3.pth\", 257040846)"
            ]
          },
          "metadata": {}
        }
      ]
    },
    {
      "cell_type": "markdown",
      "source": [
        "Setting up to load model to make predictions"
      ],
      "metadata": {
        "id": "t-vT2Y5I-IOB"
      }
    },
    {
      "cell_type": "markdown",
      "source": [
        "Loading Model to make Predictions"
      ],
      "metadata": {
        "id": "741jcB5Dkd70"
      }
    },
    {
      "cell_type": "code",
      "source": [
        "from transformers import AutoImageProcessor, AutoModelForImageClassification\n",
        "import torch\n",
        "device = torch.device(\"cuda\")\n",
        "\n",
        "model = torch.load(\"sample_data/efficientnet_full_model3.pth\", map_location=device, weights_only=False)\n",
        "model.to(device)\n",
        "model.eval()\n",
        "\n",
        "model.config\n",
        "\n"
      ],
      "metadata": {
        "id": "JRLv4rrF-Jkb",
        "colab": {
          "base_uri": "https://localhost:8080/"
        },
        "outputId": "7bf3ca41-294a-42c4-a0f0-fc8b6411edb8",
        "collapsed": true
      },
      "execution_count": null,
      "outputs": [
        {
          "output_type": "execute_result",
          "data": {
            "text/plain": [
              "EfficientNetConfig {\n",
              "  \"_attn_implementation_autoset\": true,\n",
              "  \"architectures\": [\n",
              "    \"EfficientNetForImageClassification\"\n",
              "  ],\n",
              "  \"batch_norm_eps\": 0.001,\n",
              "  \"batch_norm_momentum\": 0.99,\n",
              "  \"depth_coefficient\": 3.1,\n",
              "  \"depth_divisor\": 8,\n",
              "  \"depthwise_padding\": [\n",
              "    18\n",
              "  ],\n",
              "  \"drop_connect_rate\": 0.2,\n",
              "  \"dropout_rate\": 0.5,\n",
              "  \"expand_ratios\": [\n",
              "    1,\n",
              "    6,\n",
              "    6,\n",
              "    6,\n",
              "    6,\n",
              "    6,\n",
              "    6\n",
              "  ],\n",
              "  \"hidden_act\": \"swish\",\n",
              "  \"hidden_dim\": 2560,\n",
              "  \"id2label\": {\n",
              "    \"0\": \"negative\",\n",
              "    \"1\": \"positive\"\n",
              "  },\n",
              "  \"image_size\": 600,\n",
              "  \"in_channels\": [\n",
              "    32,\n",
              "    16,\n",
              "    24,\n",
              "    40,\n",
              "    80,\n",
              "    112,\n",
              "    192\n",
              "  ],\n",
              "  \"initializer_range\": 0.02,\n",
              "  \"kernel_sizes\": [\n",
              "    3,\n",
              "    3,\n",
              "    5,\n",
              "    3,\n",
              "    5,\n",
              "    5,\n",
              "    3\n",
              "  ],\n",
              "  \"model_type\": \"efficientnet\",\n",
              "  \"num_block_repeats\": [\n",
              "    1,\n",
              "    2,\n",
              "    2,\n",
              "    3,\n",
              "    3,\n",
              "    4,\n",
              "    1\n",
              "  ],\n",
              "  \"num_channels\": 3,\n",
              "  \"num_hidden_layers\": 64,\n",
              "  \"out_channels\": [\n",
              "    16,\n",
              "    24,\n",
              "    40,\n",
              "    80,\n",
              "    112,\n",
              "    192,\n",
              "    320\n",
              "  ],\n",
              "  \"pooling_type\": \"mean\",\n",
              "  \"squeeze_expansion_ratio\": 0.25,\n",
              "  \"strides\": [\n",
              "    1,\n",
              "    2,\n",
              "    2,\n",
              "    2,\n",
              "    1,\n",
              "    2,\n",
              "    1\n",
              "  ],\n",
              "  \"torch_dtype\": \"float32\",\n",
              "  \"transformers_version\": \"4.50.3\",\n",
              "  \"width_coefficient\": 2.0\n",
              "}"
            ]
          },
          "metadata": {},
          "execution_count": 7
        }
      ]
    },
    {
      "cell_type": "markdown",
      "source": [
        "Processing test data set to be used for predictions through data loader"
      ],
      "metadata": {
        "id": "Pbaa237nBaki"
      }
    },
    {
      "cell_type": "code",
      "source": [
        "test_labels = list(ds_test['label'])\n",
        "test_images = list(ds_test['image'])\n",
        "image_processor = AutoImageProcessor.from_pretrained(\"google/efficientnet-b7\")\n",
        "\n",
        "test_dataset = CustomDataset(test_images, test_labels, image_processor)\n",
        "test_data_loader = DataLoader(test_dataset, batch_size=32, shuffle=False, num_workers=0)\n",
        "\n",
        "\n",
        "\n"
      ],
      "metadata": {
        "id": "jXQGV8OXkb5o"
      },
      "execution_count": null,
      "outputs": []
    },
    {
      "cell_type": "markdown",
      "source": [
        "Making Predictions"
      ],
      "metadata": {
        "id": "meyp2CVgFRHw"
      }
    },
    {
      "cell_type": "code",
      "source": [
        "from sklearn.metrics import confusion_matrix, classification_report\n",
        "import torch\n",
        "\n",
        "test_preds = []\n",
        "test_labels = []\n",
        "\n",
        "model.eval()  # Ensure eval mode\n",
        "model.to(device)\n",
        "\n",
        "with torch.no_grad():\n",
        "    for batch_test in test_data_loader:\n",
        "        pixel_values_test = batch_test[\"pixel_values\"].to(device)\n",
        "        labels = batch_test[\"labels\"].to(device).float()\n",
        "\n",
        "        outputs = model(pixel_values=pixel_values_test)\n",
        "        logits = outputs.logits.squeeze(1)\n",
        "       # probs = torch.sigmoid(logits)\n",
        "        preds = (logits > 0.5).float()\n",
        "\n",
        "        test_preds.extend(preds.cpu().int().tolist())\n",
        "        test_labels.extend(labels.cpu().int().tolist())\n",
        "\n"
      ],
      "metadata": {
        "id": "5RWKFKb5EHs0",
        "colab": {
          "base_uri": "https://localhost:8080/"
        },
        "outputId": "7ec864e3-5fdd-441e-f7ac-927a896f5d36"
      },
      "execution_count": null,
      "outputs": [
        {
          "output_type": "stream",
          "name": "stderr",
          "text": [
            "/usr/local/lib/python3.11/dist-packages/transformers/image_processing_utils.py:42: UserWarning: The following named arguments are not valid for `EfficientNetImageProcessor.preprocess` and were ignored: 'padding'\n",
            "  return self.preprocess(images, **kwargs)\n"
          ]
        }
      ]
    },
    {
      "cell_type": "markdown",
      "source": [
        "Classification Results"
      ],
      "metadata": {
        "id": "IdhaczSIG_Cu"
      }
    },
    {
      "cell_type": "code",
      "source": [
        "from sklearn.metrics import confusion_matrix, classification_report\n",
        "\n",
        "test_preds = np.array(test_preds).astype(int).flatten()\n",
        "test_labels = np.array(test_labels).astype(int).flatten()\n",
        "\n",
        "# Confirm they are 1D arrays of 0s and 1s\n",
        "print(\"test_preds shape:\", test_preds.shape)\n",
        "print(\"test_labels shape:\", test_labels.shape)\n",
        "print(\"Sample preds:\", test_preds[:10])\n",
        "print(\"Sample labels:\", test_labels[:10])\n",
        "\n",
        "\n",
        "cm = confusion_matrix(test_labels, test_preds)\n",
        "print(\"Confusion Matrix:\", cm)\n",
        "\n",
        "print(\"\\nClassification Report:\\n\")\n",
        "print(classification_report(test_labels, test_preds, target_names=[\"Class 0\", \"Class 1\"]))\n",
        "\n",
        "TN, FP, FN, TP = cm.ravel()\n",
        "\n",
        "# Calculating accuracy, sensitivity, and specificity\n",
        "accuracy = (TP + TN) / (TP + TN + FP + FN)\n",
        "sensitivity = TP / (TP + FN)\n",
        "specificity = TN / (TN + FP)\n",
        "\n",
        "# Print the metrics\n",
        "print(f\"Accuracy: {accuracy:.4f}\")\n",
        "print(f\"Sensitivity: {sensitivity:.4f}\")\n",
        "print(f\"Specificity: {specificity:.4f}\")"
      ],
      "metadata": {
        "colab": {
          "base_uri": "https://localhost:8080/"
        },
        "id": "9DU1gvv4geCF",
        "outputId": "83088560-43c0-4912-ee60-7cc1aafb2182"
      },
      "execution_count": null,
      "outputs": [
        {
          "output_type": "stream",
          "name": "stdout",
          "text": [
            "test_preds shape: (1190,)\n",
            "test_labels shape: (1190,)\n",
            "Sample preds: [1 1 1 0 0 1 0 1 0 0]\n",
            "Sample labels: [0 1 1 0 0 1 0 1 0 0]\n",
            "Confusion Matrix: [[564  92]\n",
            " [155 379]]\n",
            "\n",
            "Classification Report:\n",
            "\n",
            "              precision    recall  f1-score   support\n",
            "\n",
            "     Class 0       0.78      0.86      0.82       656\n",
            "     Class 1       0.80      0.71      0.75       534\n",
            "\n",
            "    accuracy                           0.79      1190\n",
            "   macro avg       0.79      0.78      0.79      1190\n",
            "weighted avg       0.79      0.79      0.79      1190\n",
            "\n",
            "Accuracy: 0.7924\n",
            "Sensitivity: 0.7097\n",
            "Specificity: 0.8598\n"
          ]
        }
      ]
    },
    {
      "cell_type": "markdown",
      "source": [
        "So with no tuning EfficientNet performs poorly with a 79.24% accuracy and a 85.98%% Specificity."
      ],
      "metadata": {
        "id": "j7K5P2EMl619"
      }
    },
    {
      "cell_type": "markdown",
      "source": [
        "Now training on validation set and tracking training loss along with test set 1 loss\n",
        "Now increasing number of epochs and implementing early stopping"
      ],
      "metadata": {
        "id": "0lIJ4ce8-HHt"
      }
    },
    {
      "cell_type": "code",
      "source": [
        "\n",
        "model_early_stopping = model_base\n",
        "model_early_stopping = model_early_stopping.to(device)\n",
        "\n",
        "patience = 5\n",
        "patience_counter = 0\n",
        "best_val_loss = float('inf')\n",
        "num_epochs = 250\n",
        "min_accept_loss = 0.001\n",
        "model_early_stopping = model_early_stopping.to(device)\n",
        "\n",
        "#making dataframe to track epochs, train_loss, val_loss\n",
        "import pandas as pd\n",
        "loss_df = pd.DataFrame(columns=[\"epoch\", \"train_loss\", \"val_loss\"])\n",
        "\n",
        "\n",
        "for epoch in range(num_epochs):\n",
        "  # Set model to training mode\n",
        "  model_early_stopping.train()\n",
        "  running_loss_train = 0.0\n",
        "  for batch in tqdm(data_loader, desc=f\"Epoch {epoch+1}/{num_epochs}\", leave=False):\n",
        "    pixel_values_train =batch[\"pixel_values\"].to(device)\n",
        "\n",
        "    true_labels_train = batch[\"labels\"].to(device)\n",
        "    true_labels_train = true_labels_train.float()\n",
        "    inputs_train = {\"pixel_values\": pixel_values_train}\n",
        "\n",
        "    optimizer.zero_grad()\n",
        "    outputs_train = model_early_stopping(**inputs_train)\n",
        "    logits_train = outputs_train.logits.squeeze(1)\n",
        "    loss_train = loss_fn(logits_train, true_labels_train)\n",
        "    loss_train.backward()\n",
        "    optimizer.step()\n",
        "    running_loss_train += loss_train.item()\n",
        "  avg_loss_train = running_loss_train / len(data_loader)\n",
        "  print(f\"Epoch {epoch+1}, Training Loss: {avg_loss_train:.4f}\")\n",
        "\n",
        "# Set model to evaluation mode\n",
        "  model_early_stopping.eval()\n",
        "  running_loss_val = 0.0\n",
        "  with torch.no_grad():\n",
        "    for batch_val in tqdm(test_data_loader, desc=f\"Epoch {epoch+1}/{num_epochs}\", leave=False):\n",
        "      pixel_values_val =batch_val[\"pixel_values\"].to(device)\n",
        "      true_labels_val = batch_val[\"labels\"].to(device)\n",
        "      true_labels_val = true_labels_val.float()\n",
        "      inputs_val = {\"pixel_values\": pixel_values_val}\n",
        "      outputs_val = model_early_stopping(**inputs_val)\n",
        "      logits_val = outputs_val.logits.squeeze(1)\n",
        "      loss_val = loss_fn(logits_val, true_labels_val)\n",
        "      running_loss_val += loss_val.item()\n",
        "    avg_loss_val = running_loss_val / len(test_data_loader)\n",
        "    print(f\"Epoch {epoch+1}, Validation Loss: {avg_loss_val:.4f}\")\n",
        "    # Append loss info to DataFrame\n",
        "  loss_df = pd.concat([loss_df,pd.DataFrame.from_dict({\"epoch\": [epoch + 1],\n",
        "                                                     \"train_loss\": [avg_loss_train],\n",
        "                                                     \"val_loss\": [avg_loss_val]})],\n",
        "                                                        ignore_index=True)\n",
        "\n",
        "  if avg_loss_val < best_val_loss - min_accept_loss:\n",
        "    best_val_loss = avg_loss_val\n",
        "    patience_counter = 0\n",
        "  else:\n",
        "      patience_counter += 1\n",
        "      if patience_counter >= patience:\n",
        "        print(f\"Early stopping at epoch {epoch + 1}\")\n",
        "        break\n"
      ],
      "metadata": {
        "id": "7-GNuWvju3Za",
        "colab": {
          "base_uri": "https://localhost:8080/"
        },
        "outputId": "b0e8ff8d-3872-4f2c-f944-0a382d607a78"
      },
      "execution_count": null,
      "outputs": [
        {
          "output_type": "stream",
          "name": "stderr",
          "text": [
            "\rEpoch 1/250:   0%|          | 0/37 [00:00<?, ?it/s]/usr/local/lib/python3.11/dist-packages/transformers/image_processing_utils.py:42: UserWarning: The following named arguments are not valid for `EfficientNetImageProcessor.preprocess` and were ignored: 'padding'\n",
            "  return self.preprocess(images, **kwargs)\n"
          ]
        },
        {
          "output_type": "stream",
          "name": "stdout",
          "text": [
            "Epoch 1, Training Loss: 0.7393\n"
          ]
        },
        {
          "output_type": "stream",
          "name": "stderr",
          "text": [
            "<ipython-input-12-2bd89ef3a0bf>:53: FutureWarning: The behavior of DataFrame concatenation with empty or all-NA entries is deprecated. In a future version, this will no longer exclude empty or all-NA columns when determining the result dtypes. To retain the old behavior, exclude the relevant entries before the concat operation.\n",
            "  loss_df = pd.concat([loss_df,pd.DataFrame.from_dict({\"epoch\": [epoch + 1],\n"
          ]
        },
        {
          "output_type": "stream",
          "name": "stdout",
          "text": [
            "Epoch 1, Validation Loss: 0.7399\n"
          ]
        },
        {
          "output_type": "stream",
          "name": "stderr",
          "text": []
        },
        {
          "output_type": "stream",
          "name": "stdout",
          "text": [
            "Epoch 2, Training Loss: 0.7341\n"
          ]
        },
        {
          "output_type": "stream",
          "name": "stderr",
          "text": []
        },
        {
          "output_type": "stream",
          "name": "stdout",
          "text": [
            "Epoch 2, Validation Loss: 0.7360\n"
          ]
        },
        {
          "output_type": "stream",
          "name": "stderr",
          "text": []
        },
        {
          "output_type": "stream",
          "name": "stdout",
          "text": [
            "Epoch 3, Training Loss: 0.7258\n"
          ]
        },
        {
          "output_type": "stream",
          "name": "stderr",
          "text": []
        },
        {
          "output_type": "stream",
          "name": "stdout",
          "text": [
            "Epoch 3, Validation Loss: 0.7332\n"
          ]
        },
        {
          "output_type": "stream",
          "name": "stderr",
          "text": []
        },
        {
          "output_type": "stream",
          "name": "stdout",
          "text": [
            "Epoch 4, Training Loss: 0.7188\n"
          ]
        },
        {
          "output_type": "stream",
          "name": "stderr",
          "text": []
        },
        {
          "output_type": "stream",
          "name": "stdout",
          "text": [
            "Epoch 4, Validation Loss: 0.7275\n"
          ]
        },
        {
          "output_type": "stream",
          "name": "stderr",
          "text": []
        },
        {
          "output_type": "stream",
          "name": "stdout",
          "text": [
            "Epoch 5, Training Loss: 0.7133\n"
          ]
        },
        {
          "output_type": "stream",
          "name": "stderr",
          "text": []
        },
        {
          "output_type": "stream",
          "name": "stdout",
          "text": [
            "Epoch 5, Validation Loss: 0.7237\n"
          ]
        },
        {
          "output_type": "stream",
          "name": "stderr",
          "text": []
        },
        {
          "output_type": "stream",
          "name": "stdout",
          "text": [
            "Epoch 6, Training Loss: 0.7081\n"
          ]
        },
        {
          "output_type": "stream",
          "name": "stderr",
          "text": []
        },
        {
          "output_type": "stream",
          "name": "stdout",
          "text": [
            "Epoch 6, Validation Loss: 0.7220\n"
          ]
        },
        {
          "output_type": "stream",
          "name": "stderr",
          "text": []
        },
        {
          "output_type": "stream",
          "name": "stdout",
          "text": [
            "Epoch 7, Training Loss: 0.7012\n"
          ]
        },
        {
          "output_type": "stream",
          "name": "stderr",
          "text": []
        },
        {
          "output_type": "stream",
          "name": "stdout",
          "text": [
            "Epoch 7, Validation Loss: 0.7151\n"
          ]
        },
        {
          "output_type": "stream",
          "name": "stderr",
          "text": []
        },
        {
          "output_type": "stream",
          "name": "stdout",
          "text": [
            "Epoch 8, Training Loss: 0.6973\n"
          ]
        },
        {
          "output_type": "stream",
          "name": "stderr",
          "text": []
        },
        {
          "output_type": "stream",
          "name": "stdout",
          "text": [
            "Epoch 8, Validation Loss: 0.7152\n"
          ]
        },
        {
          "output_type": "stream",
          "name": "stderr",
          "text": []
        },
        {
          "output_type": "stream",
          "name": "stdout",
          "text": [
            "Epoch 9, Training Loss: 0.6917\n"
          ]
        },
        {
          "output_type": "stream",
          "name": "stderr",
          "text": []
        },
        {
          "output_type": "stream",
          "name": "stdout",
          "text": [
            "Epoch 9, Validation Loss: 0.7105\n"
          ]
        },
        {
          "output_type": "stream",
          "name": "stderr",
          "text": []
        },
        {
          "output_type": "stream",
          "name": "stdout",
          "text": [
            "Epoch 10, Training Loss: 0.6893\n"
          ]
        },
        {
          "output_type": "stream",
          "name": "stderr",
          "text": []
        },
        {
          "output_type": "stream",
          "name": "stdout",
          "text": [
            "Epoch 10, Validation Loss: 0.7004\n"
          ]
        },
        {
          "output_type": "stream",
          "name": "stderr",
          "text": []
        },
        {
          "output_type": "stream",
          "name": "stdout",
          "text": [
            "Epoch 11, Training Loss: 0.6848\n"
          ]
        },
        {
          "output_type": "stream",
          "name": "stderr",
          "text": []
        },
        {
          "output_type": "stream",
          "name": "stdout",
          "text": [
            "Epoch 11, Validation Loss: 0.7053\n"
          ]
        },
        {
          "output_type": "stream",
          "name": "stderr",
          "text": []
        },
        {
          "output_type": "stream",
          "name": "stdout",
          "text": [
            "Epoch 12, Training Loss: 0.6795\n"
          ]
        },
        {
          "output_type": "stream",
          "name": "stderr",
          "text": []
        },
        {
          "output_type": "stream",
          "name": "stdout",
          "text": [
            "Epoch 12, Validation Loss: 0.6962\n"
          ]
        },
        {
          "output_type": "stream",
          "name": "stderr",
          "text": []
        },
        {
          "output_type": "stream",
          "name": "stdout",
          "text": [
            "Epoch 13, Training Loss: 0.6781\n"
          ]
        },
        {
          "output_type": "stream",
          "name": "stderr",
          "text": []
        },
        {
          "output_type": "stream",
          "name": "stdout",
          "text": [
            "Epoch 13, Validation Loss: 0.7083\n"
          ]
        },
        {
          "output_type": "stream",
          "name": "stderr",
          "text": []
        },
        {
          "output_type": "stream",
          "name": "stdout",
          "text": [
            "Epoch 14, Training Loss: 0.6723\n"
          ]
        },
        {
          "output_type": "stream",
          "name": "stderr",
          "text": []
        },
        {
          "output_type": "stream",
          "name": "stdout",
          "text": [
            "Epoch 14, Validation Loss: 0.6971\n"
          ]
        },
        {
          "output_type": "stream",
          "name": "stderr",
          "text": []
        },
        {
          "output_type": "stream",
          "name": "stdout",
          "text": [
            "Epoch 15, Training Loss: 0.6706\n"
          ]
        },
        {
          "output_type": "stream",
          "name": "stderr",
          "text": []
        },
        {
          "output_type": "stream",
          "name": "stdout",
          "text": [
            "Epoch 15, Validation Loss: 0.6921\n"
          ]
        },
        {
          "output_type": "stream",
          "name": "stderr",
          "text": []
        },
        {
          "output_type": "stream",
          "name": "stdout",
          "text": [
            "Epoch 16, Training Loss: 0.6638\n"
          ]
        },
        {
          "output_type": "stream",
          "name": "stderr",
          "text": []
        },
        {
          "output_type": "stream",
          "name": "stdout",
          "text": [
            "Epoch 16, Validation Loss: 0.6813\n"
          ]
        },
        {
          "output_type": "stream",
          "name": "stderr",
          "text": []
        },
        {
          "output_type": "stream",
          "name": "stdout",
          "text": [
            "Epoch 17, Training Loss: 0.6635\n"
          ]
        },
        {
          "output_type": "stream",
          "name": "stderr",
          "text": []
        },
        {
          "output_type": "stream",
          "name": "stdout",
          "text": [
            "Epoch 17, Validation Loss: 0.6889\n"
          ]
        },
        {
          "output_type": "stream",
          "name": "stderr",
          "text": []
        },
        {
          "output_type": "stream",
          "name": "stdout",
          "text": [
            "Epoch 18, Training Loss: 0.6632\n"
          ]
        },
        {
          "output_type": "stream",
          "name": "stderr",
          "text": []
        },
        {
          "output_type": "stream",
          "name": "stdout",
          "text": [
            "Epoch 18, Validation Loss: 0.6887\n"
          ]
        },
        {
          "output_type": "stream",
          "name": "stderr",
          "text": []
        },
        {
          "output_type": "stream",
          "name": "stdout",
          "text": [
            "Epoch 19, Training Loss: 0.6596\n"
          ]
        },
        {
          "output_type": "stream",
          "name": "stderr",
          "text": []
        },
        {
          "output_type": "stream",
          "name": "stdout",
          "text": [
            "Epoch 19, Validation Loss: 0.6740\n"
          ]
        },
        {
          "output_type": "stream",
          "name": "stderr",
          "text": []
        },
        {
          "output_type": "stream",
          "name": "stdout",
          "text": [
            "Epoch 20, Training Loss: 0.6599\n"
          ]
        },
        {
          "output_type": "stream",
          "name": "stderr",
          "text": []
        },
        {
          "output_type": "stream",
          "name": "stdout",
          "text": [
            "Epoch 20, Validation Loss: 0.6685\n"
          ]
        },
        {
          "output_type": "stream",
          "name": "stderr",
          "text": []
        },
        {
          "output_type": "stream",
          "name": "stdout",
          "text": [
            "Epoch 21, Training Loss: 0.6531\n"
          ]
        },
        {
          "output_type": "stream",
          "name": "stderr",
          "text": []
        },
        {
          "output_type": "stream",
          "name": "stdout",
          "text": [
            "Epoch 21, Validation Loss: 0.6792\n"
          ]
        },
        {
          "output_type": "stream",
          "name": "stderr",
          "text": []
        },
        {
          "output_type": "stream",
          "name": "stdout",
          "text": [
            "Epoch 22, Training Loss: 0.6535\n"
          ]
        },
        {
          "output_type": "stream",
          "name": "stderr",
          "text": []
        },
        {
          "output_type": "stream",
          "name": "stdout",
          "text": [
            "Epoch 22, Validation Loss: 0.6825\n"
          ]
        },
        {
          "output_type": "stream",
          "name": "stderr",
          "text": []
        },
        {
          "output_type": "stream",
          "name": "stdout",
          "text": [
            "Epoch 23, Training Loss: 0.6523\n"
          ]
        },
        {
          "output_type": "stream",
          "name": "stderr",
          "text": []
        },
        {
          "output_type": "stream",
          "name": "stdout",
          "text": [
            "Epoch 23, Validation Loss: 0.6813\n"
          ]
        },
        {
          "output_type": "stream",
          "name": "stderr",
          "text": []
        },
        {
          "output_type": "stream",
          "name": "stdout",
          "text": [
            "Epoch 24, Training Loss: 0.6481\n"
          ]
        },
        {
          "output_type": "stream",
          "name": "stderr",
          "text": []
        },
        {
          "output_type": "stream",
          "name": "stdout",
          "text": [
            "Epoch 24, Validation Loss: 0.6648\n"
          ]
        },
        {
          "output_type": "stream",
          "name": "stderr",
          "text": []
        },
        {
          "output_type": "stream",
          "name": "stdout",
          "text": [
            "Epoch 25, Training Loss: 0.6468\n"
          ]
        },
        {
          "output_type": "stream",
          "name": "stderr",
          "text": []
        },
        {
          "output_type": "stream",
          "name": "stdout",
          "text": [
            "Epoch 25, Validation Loss: 0.6545\n"
          ]
        },
        {
          "output_type": "stream",
          "name": "stderr",
          "text": []
        },
        {
          "output_type": "stream",
          "name": "stdout",
          "text": [
            "Epoch 26, Training Loss: 0.6441\n"
          ]
        },
        {
          "output_type": "stream",
          "name": "stderr",
          "text": []
        },
        {
          "output_type": "stream",
          "name": "stdout",
          "text": [
            "Epoch 26, Validation Loss: 0.6575\n"
          ]
        },
        {
          "output_type": "stream",
          "name": "stderr",
          "text": []
        },
        {
          "output_type": "stream",
          "name": "stdout",
          "text": [
            "Epoch 27, Training Loss: 0.6440\n"
          ]
        },
        {
          "output_type": "stream",
          "name": "stderr",
          "text": []
        },
        {
          "output_type": "stream",
          "name": "stdout",
          "text": [
            "Epoch 27, Validation Loss: 0.6670\n"
          ]
        },
        {
          "output_type": "stream",
          "name": "stderr",
          "text": []
        },
        {
          "output_type": "stream",
          "name": "stdout",
          "text": [
            "Epoch 28, Training Loss: 0.6422\n"
          ]
        },
        {
          "output_type": "stream",
          "name": "stderr",
          "text": []
        },
        {
          "output_type": "stream",
          "name": "stdout",
          "text": [
            "Epoch 28, Validation Loss: 0.6611\n"
          ]
        },
        {
          "output_type": "stream",
          "name": "stderr",
          "text": []
        },
        {
          "output_type": "stream",
          "name": "stdout",
          "text": [
            "Epoch 29, Training Loss: 0.6407\n"
          ]
        },
        {
          "output_type": "stream",
          "name": "stderr",
          "text": []
        },
        {
          "output_type": "stream",
          "name": "stdout",
          "text": [
            "Epoch 29, Validation Loss: 0.6505\n"
          ]
        },
        {
          "output_type": "stream",
          "name": "stderr",
          "text": []
        },
        {
          "output_type": "stream",
          "name": "stdout",
          "text": [
            "Epoch 30, Training Loss: 0.6390\n"
          ]
        },
        {
          "output_type": "stream",
          "name": "stderr",
          "text": []
        },
        {
          "output_type": "stream",
          "name": "stdout",
          "text": [
            "Epoch 30, Validation Loss: 0.6513\n"
          ]
        },
        {
          "output_type": "stream",
          "name": "stderr",
          "text": []
        },
        {
          "output_type": "stream",
          "name": "stdout",
          "text": [
            "Epoch 31, Training Loss: 0.6363\n"
          ]
        },
        {
          "output_type": "stream",
          "name": "stderr",
          "text": []
        },
        {
          "output_type": "stream",
          "name": "stdout",
          "text": [
            "Epoch 31, Validation Loss: 0.6494\n"
          ]
        },
        {
          "output_type": "stream",
          "name": "stderr",
          "text": []
        },
        {
          "output_type": "stream",
          "name": "stdout",
          "text": [
            "Epoch 32, Training Loss: 0.6392\n"
          ]
        },
        {
          "output_type": "stream",
          "name": "stderr",
          "text": []
        },
        {
          "output_type": "stream",
          "name": "stdout",
          "text": [
            "Epoch 32, Validation Loss: 0.6775\n"
          ]
        },
        {
          "output_type": "stream",
          "name": "stderr",
          "text": []
        },
        {
          "output_type": "stream",
          "name": "stdout",
          "text": [
            "Epoch 33, Training Loss: 0.6354\n"
          ]
        },
        {
          "output_type": "stream",
          "name": "stderr",
          "text": []
        },
        {
          "output_type": "stream",
          "name": "stdout",
          "text": [
            "Epoch 33, Validation Loss: 0.6618\n"
          ]
        },
        {
          "output_type": "stream",
          "name": "stderr",
          "text": []
        },
        {
          "output_type": "stream",
          "name": "stdout",
          "text": [
            "Epoch 34, Training Loss: 0.6324\n"
          ]
        },
        {
          "output_type": "stream",
          "name": "stderr",
          "text": []
        },
        {
          "output_type": "stream",
          "name": "stdout",
          "text": [
            "Epoch 34, Validation Loss: 0.6456\n"
          ]
        },
        {
          "output_type": "stream",
          "name": "stderr",
          "text": []
        },
        {
          "output_type": "stream",
          "name": "stdout",
          "text": [
            "Epoch 35, Training Loss: 0.6322\n"
          ]
        },
        {
          "output_type": "stream",
          "name": "stderr",
          "text": []
        },
        {
          "output_type": "stream",
          "name": "stdout",
          "text": [
            "Epoch 35, Validation Loss: 0.6519\n"
          ]
        },
        {
          "output_type": "stream",
          "name": "stderr",
          "text": []
        },
        {
          "output_type": "stream",
          "name": "stdout",
          "text": [
            "Epoch 36, Training Loss: 0.6334\n"
          ]
        },
        {
          "output_type": "stream",
          "name": "stderr",
          "text": []
        },
        {
          "output_type": "stream",
          "name": "stdout",
          "text": [
            "Epoch 36, Validation Loss: 0.6505\n"
          ]
        },
        {
          "output_type": "stream",
          "name": "stderr",
          "text": []
        },
        {
          "output_type": "stream",
          "name": "stdout",
          "text": [
            "Epoch 37, Training Loss: 0.6323\n"
          ]
        },
        {
          "output_type": "stream",
          "name": "stderr",
          "text": []
        },
        {
          "output_type": "stream",
          "name": "stdout",
          "text": [
            "Epoch 37, Validation Loss: 0.6466\n"
          ]
        },
        {
          "output_type": "stream",
          "name": "stderr",
          "text": []
        },
        {
          "output_type": "stream",
          "name": "stdout",
          "text": [
            "Epoch 38, Training Loss: 0.6332\n"
          ]
        },
        {
          "output_type": "stream",
          "name": "stderr",
          "text": []
        },
        {
          "output_type": "stream",
          "name": "stdout",
          "text": [
            "Epoch 38, Validation Loss: 0.6458\n"
          ]
        },
        {
          "output_type": "stream",
          "name": "stderr",
          "text": []
        },
        {
          "output_type": "stream",
          "name": "stdout",
          "text": [
            "Epoch 39, Training Loss: 0.6255\n"
          ]
        },
        {
          "output_type": "stream",
          "name": "stderr",
          "text": [
            "                                                             "
          ]
        },
        {
          "output_type": "stream",
          "name": "stdout",
          "text": [
            "Epoch 39, Validation Loss: 0.6469\n",
            "Early stopping at epoch 39\n"
          ]
        },
        {
          "output_type": "stream",
          "name": "stderr",
          "text": [
            "\r"
          ]
        }
      ]
    },
    {
      "cell_type": "markdown",
      "source": [
        "Plotting Training vs Validation Loss"
      ],
      "metadata": {
        "id": "HDhZA9Fm5AbR"
      }
    },
    {
      "cell_type": "code",
      "source": [
        "import matplotlib.pyplot as plt\n",
        "\n",
        "plt.plot(loss_df[\"epoch\"], loss_df[\"train_loss\"], label=\"Train Loss\")\n",
        "plt.plot(loss_df[\"epoch\"], loss_df[\"val_loss\"], label=\"Validation Loss\")\n",
        "plt.xlabel(\"Epoch\")\n",
        "plt.ylabel(\"Logarithmic Loss\")\n",
        "plt.title(\"Training vs Validation Loss\")\n",
        "plt.legend()\n",
        "plt.grid(True)\n",
        "plt.show()"
      ],
      "metadata": {
        "colab": {
          "base_uri": "https://localhost:8080/",
          "height": 472
        },
        "id": "MqBPsKcb4_zX",
        "outputId": "c2f3a33e-d4ec-40ab-99bf-6845e7f4f12a"
      },
      "execution_count": null,
      "outputs": [
        {
          "output_type": "display_data",
          "data": {
            "text/plain": [
              "<Figure size 640x480 with 1 Axes>"
            ],
            "image/png": "[encoded data removed]"
          },
          "metadata": {}
        }
      ]
    },
    {
      "cell_type": "markdown",
      "source": [
        "Saving the model"
      ],
      "metadata": {
        "id": "q0Qnq8TSXq_j"
      }
    },
    {
      "cell_type": "code",
      "source": [
        "torch.save(model_early_stopping, \"efficientnet_full_model_es1.pth\")\n",
        "print(\"Model saved to efficientnet_full_model_es1.pth\")\n",
        "from google.colab import files\n",
        "files.download(\"efficientnet_full_model_es1.pth\")"
      ],
      "metadata": {
        "id": "bviS2HCb6J1m",
        "colab": {
          "base_uri": "https://localhost:8080/",
          "height": 35
        },
        "outputId": "192b8044-cf2c-4671-db04-c67c453a466b"
      },
      "execution_count": null,
      "outputs": [
        {
          "output_type": "stream",
          "name": "stdout",
          "text": [
            "Model saved to efficientnet_full_model_es1.pth\n"
          ]
        },
        {
          "output_type": "display_data",
          "data": {
            "text/plain": [
              "<IPython.core.display.Javascript object>"
            ],
            "application/javascript": [
              "\n",
              "    async function download(id, filename, size) {\n",
              "      if (!google.colab.kernel.accessAllowed) {\n",
              "        return;\n",
              "      }\n",
              "      const div = document.createElement('div');\n",
              "      const label = document.createElement('label');\n",
              "      label.textContent = `Downloading \"${filename}\": `;\n",
              "      div.appendChild(label);\n",
              "      const progress = document.createElement('progress');\n",
              "      progress.max = size;\n",
              "      div.appendChild(progress);\n",
              "      document.body.appendChild(div);\n",
              "\n",
              "      const buffers = [];\n",
              "      let downloaded = 0;\n",
              "\n",
              "      const channel = await google.colab.kernel.comms.open(id);\n",
              "      // Send a message to notify the kernel that we're ready.\n",
              "      channel.send({})\n",
              "\n",
              "      for await (const message of channel.messages) {\n",
              "        // Send a message to notify the kernel that we're ready.\n",
              "        channel.send({})\n",
              "        if (message.buffers) {\n",
              "          for (const buffer of message.buffers) {\n",
              "            buffers.push(buffer);\n",
              "            downloaded += buffer.byteLength;\n",
              "            progress.value = downloaded;\n",
              "          }\n",
              "        }\n",
              "      }\n",
              "      const blob = new Blob(buffers, {type: 'application/binary'});\n",
              "      const a = document.createElement('a');\n",
              "      a.href = window.URL.createObjectURL(blob);\n",
              "      a.download = filename;\n",
              "      div.appendChild(a);\n",
              "      a.click();\n",
              "      div.remove();\n",
              "    }\n",
              "  "
            ]
          },
          "metadata": {}
        },
        {
          "output_type": "display_data",
          "data": {
            "text/plain": [
              "<IPython.core.display.Javascript object>"
            ],
            "application/javascript": [
              "download(\"download_d9f7739c-3cb2-47ac-b666-de7290fc1242\", \"efficientnet_full_model_es1.pth\", 257044458)"
            ]
          },
          "metadata": {}
        }
      ]
    },
    {
      "cell_type": "markdown",
      "source": [
        "Putting 2nd test set in data loader"
      ],
      "metadata": {
        "id": "Y_xfAUjZcITF"
      }
    },
    {
      "cell_type": "code",
      "source": [
        "test2_labels = list(ds_test2['label'])\n",
        "test2_images = list(ds_test2['image'])\n",
        "\n",
        "test2_dataset = CustomDataset(test2_images, test2_labels, image_processor)\n",
        "test2_data_loader = DataLoader(test2_dataset, batch_size=32, shuffle=False, num_workers=0)\n"
      ],
      "metadata": {
        "id": "IkqFrZ6ycIyJ"
      },
      "execution_count": null,
      "outputs": []
    },
    {
      "cell_type": "markdown",
      "source": [
        "Making Predictions using early-stoppage model"
      ],
      "metadata": {
        "id": "DOdTQxOsGd5Z"
      }
    },
    {
      "cell_type": "code",
      "source": [
        "from sklearn.metrics import confusion_matrix, classification_report\n",
        "import torch\n",
        "\n",
        "test2_preds_es = []\n",
        "test2_labels_es = []\n",
        "\n",
        "model_early_stopping.eval()  # Ensure eval mode\n",
        "model_early_stopping.to(device)\n",
        "\n",
        "with torch.no_grad():\n",
        "    for batch_test2 in test2_data_loader:\n",
        "        pixel_values_test = batch_test2[\"pixel_values\"].to(device)\n",
        "        labels = batch_test2[\"labels\"].to(device).float()\n",
        "\n",
        "        outputs = model_early_stopping(pixel_values=pixel_values_test)\n",
        "        logits = outputs.logits.squeeze(1)\n",
        "       # probs = torch.sigmoid(logits)\n",
        "        preds = (logits > 0.5).float()\n",
        "\n",
        "        test2_preds_es.extend(preds.cpu().int().tolist())\n",
        "        test2_labels_es.extend(labels.cpu().int().tolist())"
      ],
      "metadata": {
        "colab": {
          "base_uri": "https://localhost:8080/"
        },
        "id": "a5dufH8wGdmI",
        "outputId": "4f796e72-66e9-4ce7-e4d7-b78e347bf3c4"
      },
      "execution_count": null,
      "outputs": [
        {
          "output_type": "stream",
          "name": "stderr",
          "text": [
            "/usr/local/lib/python3.11/dist-packages/transformers/image_processing_utils.py:42: UserWarning: The following named arguments are not valid for `EfficientNetImageProcessor.preprocess` and were ignored: 'padding'\n",
            "  return self.preprocess(images, **kwargs)\n"
          ]
        }
      ]
    },
    {
      "cell_type": "markdown",
      "source": [
        "Early Stopping Model Results"
      ],
      "metadata": {
        "id": "88SlvhS3GE-S"
      }
    },
    {
      "cell_type": "code",
      "source": [
        "from sklearn.metrics import confusion_matrix, classification_report\n",
        "\n",
        "test2_preds_es = np.array(test2_preds_es).astype(int).flatten()\n",
        "test2_labels_es = np.array(test2_labels_es).astype(int).flatten()\n",
        "\n",
        "# Confirm they are 1D arrays of 0s and 1s\n",
        "print(\"test_preds shape:\", test2_preds_es.shape)\n",
        "print(\"test_labels shape:\", test2_labels_es.shape)\n",
        "print(\"Sample preds:\", test2_preds_es[:10])\n",
        "print(\"Sample labels:\", test2_labels_es[:10])\n",
        "\n",
        "\n",
        "cm_es = confusion_matrix(test2_labels_es, test2_preds_es)\n",
        "print(\"Confusion Matrix:\", cm_es)\n",
        "\n",
        "print(\"\\nClassification Report:\\n\")\n",
        "print(classification_report(test2_labels_es, test2_preds_es, target_names=[\"Class 0\", \"Class 1\"]))\n",
        "\n",
        "TN, FP, FN, TP = cm_es.ravel()\n",
        "\n",
        "# Calculating accuracy, sensitivity, and specificity\n",
        "accuracy_es = (TP + TN) / (TP + TN + FP + FN)\n",
        "sensitivity_es = TP / (TP + FN)\n",
        "specificity_es = TN / (TN + FP)\n",
        "\n",
        "# Print the metrics\n",
        "print(f\"Accuracy: {accuracy_es:.4f}\")\n",
        "print(f\"Sensitivity: {sensitivity_es:.4f}\")\n",
        "print(f\"Specificity: {specificity_es:.4f}\")"
      ],
      "metadata": {
        "colab": {
          "base_uri": "https://localhost:8080/"
        },
        "id": "vZFyXfRVGEM_",
        "outputId": "808c2229-da91-47d1-f52b-12f4135aca56"
      },
      "execution_count": null,
      "outputs": [
        {
          "output_type": "stream",
          "name": "stdout",
          "text": [
            "test_preds shape: (1000,)\n",
            "test_labels shape: (1000,)\n",
            "Sample preds: [0 0 1 0 1 0 1 1 1 1]\n",
            "Sample labels: [0 0 1 0 0 0 1 1 1 1]\n",
            "Confusion Matrix: [[478  34]\n",
            " [162 326]]\n",
            "\n",
            "Classification Report:\n",
            "\n",
            "              precision    recall  f1-score   support\n",
            "\n",
            "     Class 0       0.75      0.93      0.83       512\n",
            "     Class 1       0.91      0.67      0.77       488\n",
            "\n",
            "    accuracy                           0.80      1000\n",
            "   macro avg       0.83      0.80      0.80      1000\n",
            "weighted avg       0.82      0.80      0.80      1000\n",
            "\n",
            "Accuracy: 0.8040\n",
            "Sensitivity: 0.6680\n",
            "Specificity: 0.9336\n"
          ]
        }
      ]
    },
    {
      "cell_type": "markdown",
      "source": [
        "While Overall Accuracy increased to 80.40% and Specificity increased to 93.36%, Sensitivity dipped to 66.80%. Specificity is the main metric we're concerned with as we want to be able to accuratley predict someone's skin lesion is not melanoma(cancerous) Now investigating adjusting Dropout to see if that can help our model further. Current model's base configuration is 0.5 dropout rate."
      ],
      "metadata": {
        "id": "KpCfoAjLJLKC"
      }
    },
    {
      "cell_type": "markdown",
      "source": [
        "Looping over different dropout rates(0.2,0.3,0.4) as base model utilizes 0.5 and background research revealed most CNN's perform the best in 0.2-0.5 range"
      ],
      "metadata": {
        "id": "oVwwAMwCPSjU"
      }
    },
    {
      "cell_type": "code",
      "source": [
        "from google.colab import files\n",
        "from sklearn.metrics import confusion_matrix\n",
        "from transformers import AutoImageProcessor, EfficientNetForImageClassification\n",
        "import torch.nn as nn\n",
        "from tqdm import tqdm\n",
        "from torch import nn, optim\n",
        "\n",
        "dropout_rates = [0.2, 0.3, 0.4]\n",
        "best_loss = float('inf')\n",
        "best_model = None\n",
        "best_dropout = None\n",
        "\n",
        "for rate in dropout_rates:\n",
        "  # Initializing a model (with random weights) from the efficientnet-b7 style configuration\n",
        "  model_base_dp = EfficientNetForImageClassification.from_pretrained(\"google/efficientnet-b7\")\n",
        "  model_base_dp = model_base_dp.to(device)\n",
        "  # Freeze all layers except the classifier\n",
        "  for param in model_base_dp.parameters():\n",
        "    param.requires_grad = False\n",
        "\n",
        "  #Using sigmoid activation for final layer as this dataset is binary classification\n",
        "  model_base_dp.classifier = nn.Sequential(\n",
        "    nn.Dropout(p=rate),\n",
        "    nn.Linear(2560, 1),  # 2560 is the size of the output from EfficientNet-B7\n",
        "    nn.Sigmoid()         # Sigmoid activation for binary classification\n",
        ")\n",
        "  model_base_dp.config.num_labels = 2  # Binary classification: 2 labels (0 and 1)\n",
        "  model_base_dp.config.id2label = {0: \"negative\", 1: \"positive\"}  # Custom labels for binary classification\n",
        "  #Defining loss function and optimizer\n",
        "  loss_fn = torch.nn.BCEWithLogitsLoss()\n",
        "  optimizer = optim.Adam(model_base_dp.parameters(), lr=1e-4)\n",
        "  num_epochs = 10\n",
        "  model_base_dp = model_base_dp.to(device)\n",
        "\n",
        "  for epoch in range(num_epochs):\n",
        "      model_base_dp.train()  # Set model to training mode\n",
        "      running_loss = 0.0\n",
        "      for batch in tqdm(data_loader, desc=f\"Epoch {epoch+1}/{num_epochs}\", leave=False):\n",
        "        pixel_values =batch[\"pixel_values\"].to(device)\n",
        "\n",
        "        true_labels = batch[\"labels\"].to(device)\n",
        "        true_labels = true_labels.float()\n",
        "        inputs = {\"pixel_values\": pixel_values}\n",
        "\n",
        "        optimizer.zero_grad()\n",
        "        outputs = model_base_dp(**inputs)\n",
        "        logits = outputs.logits.squeeze(1)\n",
        "        loss = loss_fn(logits, true_labels)\n",
        "        loss.backward()\n",
        "        optimizer.step()\n",
        "        running_loss += loss.item()\n",
        "      avg_loss = running_loss / len(data_loader)\n",
        "      print(f\"Epoch {epoch+1}/{num_epochs}, Loss: {avg_loss:.4f}\", f\"Dropout Rate: {rate}\")\n",
        "  # Save best model (lowest loss so far)\n",
        "  if avg_loss < best_loss:\n",
        "    best_loss = avg_loss\n",
        "    best_model = model_base_dp\n",
        "    best_dropout = rate\n",
        "    print(f\"New best model found at dropout {rate} (Loss: {avg_loss:.4f})\")\n",
        "\n",
        "if best_model is not None:\n",
        "    torch.save(best_model, \"efficientnet_full_model_dp2.pth\")\n",
        "    print(\"Model saved to efficientnet_full_model_dp2.pth\")\n",
        "    files.download(\"efficientnet_full_model_dp2.pth\")"
      ],
      "metadata": {
        "id": "R6yGZgugODBR",
        "colab": {
          "base_uri": "https://localhost:8080/",
          "height": 644
        },
        "outputId": "2a8b5cc9-b787-459a-9857-89371f7b2fb3"
      },
      "execution_count": null,
      "outputs": [
        {
          "output_type": "stream",
          "name": "stderr",
          "text": [
            "\rEpoch 1/10:   0%|          | 0/37 [00:00<?, ?it/s]/usr/local/lib/python3.11/dist-packages/transformers/image_processing_utils.py:42: UserWarning: The following named arguments are not valid for `EfficientNetImageProcessor.preprocess` and were ignored: 'padding'\n",
            "  return self.preprocess(images, **kwargs)\n"
          ]
        },
        {
          "output_type": "stream",
          "name": "stdout",
          "text": [
            "Epoch 1/10, Loss: 0.7238 Dropout Rate: 0.2\n"
          ]
        },
        {
          "output_type": "stream",
          "name": "stderr",
          "text": []
        },
        {
          "output_type": "stream",
          "name": "stdout",
          "text": [
            "Epoch 2/10, Loss: 0.7155 Dropout Rate: 0.2\n"
          ]
        },
        {
          "output_type": "stream",
          "name": "stderr",
          "text": []
        },
        {
          "output_type": "stream",
          "name": "stdout",
          "text": [
            "Epoch 3/10, Loss: 0.7095 Dropout Rate: 0.2\n"
          ]
        },
        {
          "output_type": "stream",
          "name": "stderr",
          "text": []
        },
        {
          "output_type": "stream",
          "name": "stdout",
          "text": [
            "Epoch 4/10, Loss: 0.7037 Dropout Rate: 0.2\n"
          ]
        },
        {
          "output_type": "stream",
          "name": "stderr",
          "text": []
        },
        {
          "output_type": "stream",
          "name": "stdout",
          "text": [
            "Epoch 5/10, Loss: 0.6981 Dropout Rate: 0.2\n"
          ]
        },
        {
          "output_type": "stream",
          "name": "stderr",
          "text": []
        },
        {
          "output_type": "stream",
          "name": "stdout",
          "text": [
            "Epoch 6/10, Loss: 0.6931 Dropout Rate: 0.2\n"
          ]
        },
        {
          "output_type": "stream",
          "name": "stderr",
          "text": []
        },
        {
          "output_type": "stream",
          "name": "stdout",
          "text": [
            "Epoch 7/10, Loss: 0.6872 Dropout Rate: 0.2\n"
          ]
        },
        {
          "output_type": "stream",
          "name": "stderr",
          "text": []
        },
        {
          "output_type": "stream",
          "name": "stdout",
          "text": [
            "Epoch 8/10, Loss: 0.6834 Dropout Rate: 0.2\n"
          ]
        },
        {
          "output_type": "stream",
          "name": "stderr",
          "text": []
        },
        {
          "output_type": "stream",
          "name": "stdout",
          "text": [
            "Epoch 9/10, Loss: 0.6801 Dropout Rate: 0.2\n"
          ]
        },
        {
          "output_type": "stream",
          "name": "stderr",
          "text": []
        },
        {
          "output_type": "stream",
          "name": "stdout",
          "text": [
            "Epoch 10/10, Loss: 0.6745 Dropout Rate: 0.2\n",
            "New best model found at dropout 0.2 (Loss: 0.6745)\n"
          ]
        },
        {
          "output_type": "stream",
          "name": "stderr",
          "text": []
        },
        {
          "output_type": "stream",
          "name": "stdout",
          "text": [
            "Epoch 1/10, Loss: 0.7205 Dropout Rate: 0.3\n"
          ]
        },
        {
          "output_type": "stream",
          "name": "stderr",
          "text": []
        },
        {
          "output_type": "stream",
          "name": "stdout",
          "text": [
            "Epoch 2/10, Loss: 0.7157 Dropout Rate: 0.3\n"
          ]
        },
        {
          "output_type": "stream",
          "name": "stderr",
          "text": []
        },
        {
          "output_type": "stream",
          "name": "stdout",
          "text": [
            "Epoch 3/10, Loss: 0.7115 Dropout Rate: 0.3\n"
          ]
        },
        {
          "output_type": "stream",
          "name": "stderr",
          "text": []
        },
        {
          "output_type": "stream",
          "name": "stdout",
          "text": [
            "Epoch 4/10, Loss: 0.7069 Dropout Rate: 0.3\n"
          ]
        },
        {
          "output_type": "stream",
          "name": "stderr",
          "text": []
        },
        {
          "output_type": "stream",
          "name": "stdout",
          "text": [
            "Epoch 5/10, Loss: 0.6997 Dropout Rate: 0.3\n"
          ]
        },
        {
          "output_type": "stream",
          "name": "stderr",
          "text": []
        },
        {
          "output_type": "stream",
          "name": "stdout",
          "text": [
            "Epoch 6/10, Loss: 0.6945 Dropout Rate: 0.3\n"
          ]
        },
        {
          "output_type": "stream",
          "name": "stderr",
          "text": []
        },
        {
          "output_type": "stream",
          "name": "stdout",
          "text": [
            "Epoch 7/10, Loss: 0.6910 Dropout Rate: 0.3\n"
          ]
        },
        {
          "output_type": "stream",
          "name": "stderr",
          "text": []
        },
        {
          "output_type": "stream",
          "name": "stdout",
          "text": [
            "Epoch 8/10, Loss: 0.6864 Dropout Rate: 0.3\n"
          ]
        },
        {
          "output_type": "stream",
          "name": "stderr",
          "text": []
        },
        {
          "output_type": "stream",
          "name": "stdout",
          "text": [
            "Epoch 9/10, Loss: 0.6824 Dropout Rate: 0.3\n"
          ]
        },
        {
          "output_type": "stream",
          "name": "stderr",
          "text": []
        },
        {
          "output_type": "stream",
          "name": "stdout",
          "text": [
            "Epoch 10/10, Loss: 0.6785 Dropout Rate: 0.3\n"
          ]
        },
        {
          "output_type": "stream",
          "name": "stderr",
          "text": []
        },
        {
          "output_type": "stream",
          "name": "stdout",
          "text": [
            "Epoch 1/10, Loss: 0.7212 Dropout Rate: 0.4\n"
          ]
        },
        {
          "output_type": "stream",
          "name": "stderr",
          "text": []
        },
        {
          "output_type": "stream",
          "name": "stdout",
          "text": [
            "Epoch 2/10, Loss: 0.7160 Dropout Rate: 0.4\n"
          ]
        },
        {
          "output_type": "stream",
          "name": "stderr",
          "text": []
        },
        {
          "output_type": "stream",
          "name": "stdout",
          "text": [
            "Epoch 3/10, Loss: 0.7102 Dropout Rate: 0.4\n"
          ]
        },
        {
          "output_type": "stream",
          "name": "stderr",
          "text": []
        },
        {
          "output_type": "stream",
          "name": "stdout",
          "text": [
            "Epoch 4/10, Loss: 0.7040 Dropout Rate: 0.4\n"
          ]
        },
        {
          "output_type": "stream",
          "name": "stderr",
          "text": []
        },
        {
          "output_type": "stream",
          "name": "stdout",
          "text": [
            "Epoch 5/10, Loss: 0.7004 Dropout Rate: 0.4\n"
          ]
        },
        {
          "output_type": "stream",
          "name": "stderr",
          "text": []
        },
        {
          "output_type": "stream",
          "name": "stdout",
          "text": [
            "Epoch 6/10, Loss: 0.6953 Dropout Rate: 0.4\n"
          ]
        },
        {
          "output_type": "stream",
          "name": "stderr",
          "text": []
        },
        {
          "output_type": "stream",
          "name": "stdout",
          "text": [
            "Epoch 7/10, Loss: 0.6900 Dropout Rate: 0.4\n"
          ]
        },
        {
          "output_type": "stream",
          "name": "stderr",
          "text": []
        },
        {
          "output_type": "stream",
          "name": "stdout",
          "text": [
            "Epoch 8/10, Loss: 0.6841 Dropout Rate: 0.4\n"
          ]
        },
        {
          "output_type": "stream",
          "name": "stderr",
          "text": []
        },
        {
          "output_type": "stream",
          "name": "stdout",
          "text": [
            "Epoch 9/10, Loss: 0.6833 Dropout Rate: 0.4\n"
          ]
        },
        {
          "output_type": "stream",
          "name": "stderr",
          "text": []
        },
        {
          "output_type": "stream",
          "name": "stdout",
          "text": [
            "Epoch 10/10, Loss: 0.6797 Dropout Rate: 0.4\n",
            "Model saved to efficientnet_full_model_dp.pth\n"
          ]
        },
        {
          "output_type": "display_data",
          "data": {
            "text/plain": [
              "<IPython.core.display.Javascript object>"
            ],
            "application/javascript": [
              "\n",
              "    async function download(id, filename, size) {\n",
              "      if (!google.colab.kernel.accessAllowed) {\n",
              "        return;\n",
              "      }\n",
              "      const div = document.createElement('div');\n",
              "      const label = document.createElement('label');\n",
              "      label.textContent = `Downloading \"${filename}\": `;\n",
              "      div.appendChild(label);\n",
              "      const progress = document.createElement('progress');\n",
              "      progress.max = size;\n",
              "      div.appendChild(progress);\n",
              "      document.body.appendChild(div);\n",
              "\n",
              "      const buffers = [];\n",
              "      let downloaded = 0;\n",
              "\n",
              "      const channel = await google.colab.kernel.comms.open(id);\n",
              "      // Send a message to notify the kernel that we're ready.\n",
              "      channel.send({})\n",
              "\n",
              "      for await (const message of channel.messages) {\n",
              "        // Send a message to notify the kernel that we're ready.\n",
              "        channel.send({})\n",
              "        if (message.buffers) {\n",
              "          for (const buffer of message.buffers) {\n",
              "            buffers.push(buffer);\n",
              "            downloaded += buffer.byteLength;\n",
              "            progress.value = downloaded;\n",
              "          }\n",
              "        }\n",
              "      }\n",
              "      const blob = new Blob(buffers, {type: 'application/binary'});\n",
              "      const a = document.createElement('a');\n",
              "      a.href = window.URL.createObjectURL(blob);\n",
              "      a.download = filename;\n",
              "      div.appendChild(a);\n",
              "      a.click();\n",
              "      div.remove();\n",
              "    }\n",
              "  "
            ]
          },
          "metadata": {}
        },
        {
          "output_type": "display_data",
          "data": {
            "text/plain": [
              "<IPython.core.display.Javascript object>"
            ],
            "application/javascript": [
              "download(\"download_f1782b50-a846-4e13-93bf-5a0fe52c0fcf\", \"efficientnet_full_model_dp.pth\", 257043446)"
            ]
          },
          "metadata": {}
        }
      ]
    },
    {
      "cell_type": "markdown",
      "source": [
        "Model with Dropout Rate of 0.2 performed the best over the first ten epochs. Now adjusting the Dropout Rate of model to  and using Early Stopping to find optimal model performance."
      ],
      "metadata": {
        "id": "B85eYLLNtM5O"
      }
    },
    {
      "cell_type": "code",
      "source": [
        "\n",
        "from torch import nn, optim\n",
        "# Initializing a model (with random weights) from the efficientnet-b7 style configuration\n",
        "model_early_stopping_2 = EfficientNetForImageClassification.from_pretrained(\"google/efficientnet-b7\")\n",
        "model_early_stopping_2 = model_early_stopping_2.to(device)\n",
        "# Freeze all layers except the classifier\n",
        "for param in model_early_stopping_2.parameters():\n",
        "  param.requires_grad = False\n",
        "\n",
        "#Using sigmoid activation for final layer as this dataset is binary classification\n",
        "model_early_stopping_2.classifier = nn.Sequential(\n",
        "    nn.Dropout(p=0.2),\n",
        "    nn.Linear(2560, 1),\n",
        "    nn.Sigmoid()\n",
        ")\n",
        "# Binary classification: 2 labels (0 and 1)\n",
        "model_early_stopping_2.config.num_labels = 2\n",
        "model_early_stopping_2.config.id2label = {0: \"negative\", 1: \"positive\"}\n",
        "\n",
        "model_early_stopping_2 = model_early_stopping_2.to(device)\n",
        "\n",
        "#Setting up For Loop Variables\n",
        "patience = 5\n",
        "patience_counter = 0\n",
        "best_val_loss = float('inf')\n",
        "num_epochs = 250\n",
        "min_accept_loss = 0.001\n",
        "model_early_stopping_2 = model_early_stopping_2.to(device)\n",
        "\n",
        "\n",
        "#making dataframe to track epochs, train_loss, val_loss\n",
        "import pandas as pd\n",
        "loss_df2 = pd.DataFrame(columns=[\"epoch\", \"train_loss\", \"val_loss\"])\n",
        "\n",
        "\n",
        "for epoch in range(num_epochs):\n",
        "  # Set model to training mode\n",
        "  model_early_stopping_2.train()\n",
        "  running_loss_train = 0.0\n",
        "  for batch in tqdm(data_loader, desc=f\"Epoch {epoch+1}/{num_epochs}\", leave=False):\n",
        "    pixel_values_train =batch[\"pixel_values\"].to(device)\n",
        "\n",
        "    true_labels_train = batch[\"labels\"].to(device)\n",
        "    true_labels_train = true_labels_train.float()\n",
        "    inputs_train = {\"pixel_values\": pixel_values_train}\n",
        "\n",
        "    optimizer.zero_grad()\n",
        "    outputs_train = model_early_stopping_2(**inputs_train)\n",
        "    logits_train = outputs_train.logits.squeeze(1)\n",
        "    loss_train = loss_fn(logits_train, true_labels_train)\n",
        "    loss_train.backward()\n",
        "    optimizer.step()\n",
        "    running_loss_train += loss_train.item()\n",
        "  avg_loss_train = running_loss_train / len(data_loader)\n",
        "  print(f\"Epoch {epoch+1}, Training Loss: {avg_loss_train:.4f}\")\n",
        "\n",
        "# Set model to evaluation mode\n",
        "  model_early_stopping_2.eval()\n",
        "  running_loss_val = 0.0\n",
        "  with torch.no_grad():\n",
        "    for batch_val in tqdm(test_data_loader, desc=f\"Epoch {epoch+1}/{num_epochs}\", leave=False):\n",
        "      pixel_values_val =batch_val[\"pixel_values\"].to(device)\n",
        "      true_labels_val = batch_val[\"labels\"].to(device)\n",
        "      true_labels_val = true_labels_val.float()\n",
        "      inputs_val = {\"pixel_values\": pixel_values_val}\n",
        "      outputs_val = model_early_stopping_2(**inputs_val)\n",
        "      logits_val = outputs_val.logits.squeeze(1)\n",
        "      loss_val = loss_fn(logits_val, true_labels_val)\n",
        "      running_loss_val += loss_val.item()\n",
        "    avg_loss_val = running_loss_val / len(test_data_loader)\n",
        "    print(f\"Epoch {epoch+1}, Validation Loss: {avg_loss_val:.4f}\")\n",
        "    # Append loss info to DataFrame\n",
        "  loss_df2 = pd.concat([loss_df2,pd.DataFrame.from_dict({\"epoch\": [epoch + 1],\n",
        "                                                     \"train_loss\": [avg_loss_train],\n",
        "                                                     \"val_loss\": [avg_loss_val]})],\n",
        "                                                        ignore_index=True)\n",
        "\n",
        "  if avg_loss_val < best_val_loss - min_accept_loss:\n",
        "    best_val_loss = avg_loss_val\n",
        "    patience_counter = 0\n",
        "  else:\n",
        "      patience_counter += 1\n",
        "      if patience_counter >= patience:\n",
        "        print(f\"Early stopping at epoch {epoch + 1}\")\n",
        "        break\n",
        "\n",
        "torch.save(model_early_stopping_2, \"efficientnet_full_model_es2.pth\")\n",
        "print(\"Model saved to efficientnet_full_model_es2.pth\")\n",
        "files.download(\"efficientnet_full_model_es2.pth\")\n"
      ],
      "metadata": {
        "colab": {
          "base_uri": "https://localhost:8080/",
          "height": 466
        },
        "id": "rARNFuMCl-eI",
        "outputId": "c43e6915-78f0-455c-b284-9bc91d68cb03"
      },
      "execution_count": null,
      "outputs": [
        {
          "output_type": "stream",
          "name": "stderr",
          "text": [
            "\rEpoch 1/250:   0%|          | 0/37 [00:00<?, ?it/s]/usr/local/lib/python3.11/dist-packages/transformers/image_processing_utils.py:42: UserWarning: The following named arguments are not valid for `EfficientNetImageProcessor.preprocess` and were ignored: 'padding'\n",
            "  return self.preprocess(images, **kwargs)\n"
          ]
        },
        {
          "output_type": "stream",
          "name": "stdout",
          "text": [
            "Epoch 1, Training Loss: 0.7273\n"
          ]
        },
        {
          "output_type": "stream",
          "name": "stderr",
          "text": [
            "<ipython-input-14-c44befbf251b>:72: FutureWarning: The behavior of DataFrame concatenation with empty or all-NA entries is deprecated. In a future version, this will no longer exclude empty or all-NA columns when determining the result dtypes. To retain the old behavior, exclude the relevant entries before the concat operation.\n",
            "  loss_df2 = pd.concat([loss_df2,pd.DataFrame.from_dict({\"epoch\": [epoch + 1],\n"
          ]
        },
        {
          "output_type": "stream",
          "name": "stdout",
          "text": [
            "Epoch 1, Validation Loss: 0.7415\n"
          ]
        },
        {
          "output_type": "stream",
          "name": "stderr",
          "text": []
        },
        {
          "output_type": "stream",
          "name": "stdout",
          "text": [
            "Epoch 2, Training Loss: 0.7281\n"
          ]
        },
        {
          "output_type": "stream",
          "name": "stderr",
          "text": []
        },
        {
          "output_type": "stream",
          "name": "stdout",
          "text": [
            "Epoch 2, Validation Loss: 0.7426\n"
          ]
        },
        {
          "output_type": "stream",
          "name": "stderr",
          "text": []
        },
        {
          "output_type": "stream",
          "name": "stdout",
          "text": [
            "Epoch 3, Training Loss: 0.7254\n"
          ]
        },
        {
          "output_type": "stream",
          "name": "stderr",
          "text": []
        },
        {
          "output_type": "stream",
          "name": "stdout",
          "text": [
            "Epoch 3, Validation Loss: 0.7405\n"
          ]
        },
        {
          "output_type": "stream",
          "name": "stderr",
          "text": []
        },
        {
          "output_type": "stream",
          "name": "stdout",
          "text": [
            "Epoch 4, Training Loss: 0.7258\n"
          ]
        },
        {
          "output_type": "stream",
          "name": "stderr",
          "text": []
        },
        {
          "output_type": "stream",
          "name": "stdout",
          "text": [
            "Epoch 4, Validation Loss: 0.7401\n"
          ]
        },
        {
          "output_type": "stream",
          "name": "stderr",
          "text": []
        },
        {
          "output_type": "stream",
          "name": "stdout",
          "text": [
            "Epoch 5, Training Loss: 0.7257\n"
          ]
        },
        {
          "output_type": "stream",
          "name": "stderr",
          "text": []
        },
        {
          "output_type": "stream",
          "name": "stdout",
          "text": [
            "Epoch 5, Validation Loss: 0.7412\n"
          ]
        },
        {
          "output_type": "stream",
          "name": "stderr",
          "text": []
        },
        {
          "output_type": "stream",
          "name": "stdout",
          "text": [
            "Epoch 6, Training Loss: 0.7278\n"
          ]
        },
        {
          "output_type": "stream",
          "name": "stderr",
          "text": []
        },
        {
          "output_type": "stream",
          "name": "stdout",
          "text": [
            "Epoch 6, Validation Loss: 0.7417\n"
          ]
        },
        {
          "output_type": "stream",
          "name": "stderr",
          "text": []
        },
        {
          "output_type": "stream",
          "name": "stdout",
          "text": [
            "Epoch 7, Training Loss: 0.7269\n"
          ]
        },
        {
          "output_type": "stream",
          "name": "stderr",
          "text": []
        },
        {
          "output_type": "stream",
          "name": "stdout",
          "text": [
            "Epoch 7, Validation Loss: 0.7405\n"
          ]
        },
        {
          "output_type": "stream",
          "name": "stderr",
          "text": []
        },
        {
          "output_type": "stream",
          "name": "stdout",
          "text": [
            "Epoch 8, Training Loss: 0.7260\n"
          ]
        },
        {
          "output_type": "stream",
          "name": "stderr",
          "text": []
        },
        {
          "output_type": "stream",
          "name": "stdout",
          "text": [
            "Epoch 8, Validation Loss: 0.7418\n"
          ]
        },
        {
          "output_type": "stream",
          "name": "stderr",
          "text": []
        },
        {
          "output_type": "stream",
          "name": "stdout",
          "text": [
            "Epoch 9, Training Loss: 0.7261\n"
          ]
        },
        {
          "output_type": "stream",
          "name": "stderr",
          "text": []
        },
        {
          "output_type": "stream",
          "name": "stdout",
          "text": [
            "Epoch 9, Validation Loss: 0.7410\n",
            "Early stopping at epoch 9\n",
            "Model saved to efficientnet_full_model_es2.pth\n"
          ]
        },
        {
          "output_type": "display_data",
          "data": {
            "text/plain": [
              "<IPython.core.display.Javascript object>"
            ],
            "application/javascript": [
              "\n",
              "    async function download(id, filename, size) {\n",
              "      if (!google.colab.kernel.accessAllowed) {\n",
              "        return;\n",
              "      }\n",
              "      const div = document.createElement('div');\n",
              "      const label = document.createElement('label');\n",
              "      label.textContent = `Downloading \"${filename}\": `;\n",
              "      div.appendChild(label);\n",
              "      const progress = document.createElement('progress');\n",
              "      progress.max = size;\n",
              "      div.appendChild(progress);\n",
              "      document.body.appendChild(div);\n",
              "\n",
              "      const buffers = [];\n",
              "      let downloaded = 0;\n",
              "\n",
              "      const channel = await google.colab.kernel.comms.open(id);\n",
              "      // Send a message to notify the kernel that we're ready.\n",
              "      channel.send({})\n",
              "\n",
              "      for await (const message of channel.messages) {\n",
              "        // Send a message to notify the kernel that we're ready.\n",
              "        channel.send({})\n",
              "        if (message.buffers) {\n",
              "          for (const buffer of message.buffers) {\n",
              "            buffers.push(buffer);\n",
              "            downloaded += buffer.byteLength;\n",
              "            progress.value = downloaded;\n",
              "          }\n",
              "        }\n",
              "      }\n",
              "      const blob = new Blob(buffers, {type: 'application/binary'});\n",
              "      const a = document.createElement('a');\n",
              "      a.href = window.URL.createObjectURL(blob);\n",
              "      a.download = filename;\n",
              "      div.appendChild(a);\n",
              "      a.click();\n",
              "      div.remove();\n",
              "    }\n",
              "  "
            ]
          },
          "metadata": {}
        },
        {
          "output_type": "display_data",
          "data": {
            "text/plain": [
              "<IPython.core.display.Javascript object>"
            ],
            "application/javascript": [
              "download(\"download_a7474141-5711-4a7b-bb7a-0fbd18fd8fe4\", \"efficientnet_full_model_es2.pth\", 257044650)"
            ]
          },
          "metadata": {}
        }
      ]
    },
    {
      "cell_type": "code",
      "source": [
        "import matplotlib.pyplot as plt\n",
        "\n",
        "plt.plot(loss_df2[\"epoch\"], loss_df2[\"train_loss\"], label=\"Train Loss\")\n",
        "plt.plot(loss_df2[\"epoch\"], loss_df2[\"val_loss\"], label=\"Validation Loss\")\n",
        "plt.xlabel(\"Epoch\")\n",
        "plt.ylabel(\"Logarithmic Loss\")\n",
        "plt.title(\"Training vs Validation Loss\")\n",
        "plt.legend()\n",
        "plt.grid(True)\n",
        "plt.show()"
      ],
      "metadata": {
        "colab": {
          "base_uri": "https://localhost:8080/",
          "height": 472
        },
        "id": "OAl_0mXE0bRp",
        "outputId": "664c7277-8bd8-4e2e-f060-1303e93952eb"
      },
      "execution_count": null,
      "outputs": [
        {
          "output_type": "display_data",
          "data": {
            "text/plain": [
              "<Figure size 640x480 with 1 Axes>"
            ],
            "image/png": "[encoded data removed]"
          },
          "metadata": {}
        }
      ]
    },
    {
      "cell_type": "markdown",
      "source": [
        "We can see that using the model with Dropout Rate of 0.2, early stoppage occurs at epoch 9 and the training loss along with validation loss both do not trend downward"
      ],
      "metadata": {
        "id": "Bd9o9LeZ8jYh"
      }
    },
    {
      "cell_type": "markdown",
      "source": [
        "Making Predictions with Early Stopping Model"
      ],
      "metadata": {
        "id": "UDrfpakrezLM"
      }
    },
    {
      "cell_type": "code",
      "source": [
        "from sklearn.metrics import confusion_matrix, classification_report\n",
        "import torch\n",
        "\n",
        "test_preds_es2 = []\n",
        "test_labels_es2 = []\n",
        "\n",
        "model_early_stopping_2.eval()  # Ensure eval mode\n",
        "model_early_stopping_2.to(device)\n",
        "\n",
        "with torch.no_grad():\n",
        "    for batch_test2 in test2_data_loader:\n",
        "        pixel_values_test = batch_test2[\"pixel_values\"].to(device)\n",
        "        labels = batch_test2[\"labels\"].to(device).float()\n",
        "\n",
        "        outputs = model_early_stopping_2(pixel_values=pixel_values_test)\n",
        "        logits = outputs.logits.squeeze(1)\n",
        "        preds = (logits > 0.5).float()\n",
        "\n",
        "        test_preds_es2.extend(preds.cpu().int().tolist())\n",
        "        test_labels_es2.extend(labels.cpu().int().tolist())\n",
        "\n",
        "test_preds_es2 = np.array(test_preds_es2).astype(int).flatten()\n",
        "test_labels_es2 = np.array(test_labels_es2).astype(int).flatten()\n",
        "\n",
        "# Confirm they are 1D arrays of 0s and 1s\n",
        "print(\"test_preds shape:\", test_preds_es2.shape)\n",
        "print(\"test_labels shape:\", test_labels_es2.shape)\n",
        "print(\"Sample preds:\", test_preds_es2[:10])\n",
        "print(\"Sample labels:\", test_labels_es2[:10])\n",
        "\n",
        "\n",
        "cm_es2 = confusion_matrix(test_labels_es2, test_preds_es2)\n",
        "print(\"Confusion Matrix:\", cm_es2)\n",
        "\n",
        "print(\"\\nClassification Report:\\n\")\n",
        "print(classification_report(test_labels_es2, test_preds_es2, target_names=[\"Class 0\", \"Class 1\"]))\n",
        "\n",
        "TN, FP, FN, TP = cm_es2.ravel()\n",
        "\n",
        "# Calculating accuracy, sensitivity, and specificity\n",
        "accuracy_es2 = (TP + TN) / (TP + TN + FP + FN)\n",
        "sensitivity_es2 = TP / (TP + FN)\n",
        "specificity_es2 = TN / (TN + FP)\n",
        "\n",
        "# Print the metrics\n",
        "print(f\"Accuracy: {accuracy_es2:.4f}\")\n",
        "print(f\"Sensitivity: {sensitivity_es2:.4f}\")\n",
        "print(f\"Specificity: {specificity_es2:.4f}\")"
      ],
      "metadata": {
        "id": "IO7Ut9sIp1WI",
        "colab": {
          "base_uri": "https://localhost:8080/"
        },
        "outputId": "6163e562-1c5b-4fac-c4cb-19159b1bafe7"
      },
      "execution_count": null,
      "outputs": [
        {
          "output_type": "stream",
          "name": "stderr",
          "text": [
            "/usr/local/lib/python3.11/dist-packages/transformers/image_processing_utils.py:42: UserWarning: The following named arguments are not valid for `EfficientNetImageProcessor.preprocess` and were ignored: 'padding'\n",
            "  return self.preprocess(images, **kwargs)\n"
          ]
        },
        {
          "output_type": "stream",
          "name": "stdout",
          "text": [
            "test_preds shape: (1000,)\n",
            "test_labels shape: (1000,)\n",
            "Sample preds: [1 0 0 1 0 1 0 1 1 1]\n",
            "Sample labels: [0 0 0 1 1 1 0 0 1 1]\n",
            "Confusion Matrix: [[221 314]\n",
            " [144 321]]\n",
            "\n",
            "Classification Report:\n",
            "\n",
            "              precision    recall  f1-score   support\n",
            "\n",
            "     Class 0       0.61      0.41      0.49       535\n",
            "     Class 1       0.51      0.69      0.58       465\n",
            "\n",
            "    accuracy                           0.54      1000\n",
            "   macro avg       0.56      0.55      0.54      1000\n",
            "weighted avg       0.56      0.54      0.53      1000\n",
            "\n",
            "Accuracy: 0.5420\n",
            "Sensitivity: 0.6903\n",
            "Specificity: 0.4131\n"
          ]
        }
      ]
    },
    {
      "cell_type": "markdown",
      "source": [
        "We can see that choosing what seemed to be the optimal dropout rate of 0.2 and training the model using early stoppage resulted in a much worse model with overall accuracy of 54.20% and a specificity of 41.31%. The baseline model implmeneted with early stoppage with dropout of 0.5 performed much better"
      ],
      "metadata": {
        "id": "DKCtqE986Mct"
      }
    },
    {
      "cell_type": "markdown",
      "source": [
        "**We observed using classical regularization methods such as Drop-out and Early-Stoppage our best model achieved an overall accuracy of: 80.40% and specificity of: 93.36% with Drop-out Rate of 0.5. Now we investigate the efficacy of using the Grey Wolf Optimizer to tune our hyperparameters and how the resulting model performs.**\n"
      ],
      "metadata": {
        "id": "fEqL0ef_0oFO"
      }
    },
    {
      "cell_type": "markdown",
      "source": [
        "Tuning the hyperparameters of our best CNN Model\n"
      ],
      "metadata": {
        "id": "hD-OIphZ2Rzj"
      }
    },
    {
      "cell_type": "markdown",
      "source": [
        "Import"
      ],
      "metadata": {
        "id": "OyyGLG3x_FCO"
      }
    },
    {
      "cell_type": "code",
      "source": [
        "%pip install mealpy\n",
        "from torchvision import datasets, transforms\n",
        "from torch.utils.data import DataLoader, Subset\n",
        "from torchvision.models import efficientnet_b0\n",
        "from mealpy.swarm_based.GWO import OriginalGWO\n",
        "import torch.nn as nn\n",
        "import torch.optim as optim\n",
        "from mealpy.utils.space import FloatVar, IntegerVar\n",
        "from mealpy.utils.problem import Problem\n",
        "\n"
      ],
      "metadata": {
        "colab": {
          "base_uri": "https://localhost:8080/"
        },
        "collapsed": true,
        "id": "4qU07CDM0mhu",
        "outputId": "9cce0dd7-41b7-48c7-bdf9-9115ae06bc0d"
      },
      "execution_count": null,
      "outputs": [
        {
          "output_type": "stream",
          "name": "stdout",
          "text": [
            "Collecting mealpy\n",
            "  Downloading mealpy-3.0.1-py3-none-any.whl.metadata (104 kB)\n",
            "\u001b[?25l     \u001b[90m━━━━━━━━━━━━━━━━━━━━━━━━━━━━━━━━━━━━━━━━\u001b[0m \u001b[32m0.0/104.9 kB\u001b[0m \u001b[31m?\u001b[0m eta \u001b[36m-:--:--\u001b[0m\r\u001b[2K     \u001b[90m━━━━━━━━━━━━━━━━━━━━━━━━━━━━━━━━━━━━━━━\u001b[0m \u001b[32m104.9/104.9 kB\u001b[0m \u001b[31m5.0 MB/s\u001b[0m eta \u001b[36m0:00:00\u001b[0m\n",
            "\u001b[?25hRequirement already satisfied: numpy>=1.17.5 in /usr/local/lib/python3.11/dist-packages (from mealpy) (2.0.2)\n",
            "Requirement already satisfied: matplotlib>=3.3.0 in /usr/local/lib/python3.11/dist-packages (from mealpy) (3.10.0)\n",
            "Requirement already satisfied: scipy>=1.7.1 in /usr/local/lib/python3.11/dist-packages (from mealpy) (1.14.1)\n",
            "Requirement already satisfied: pandas>=1.2.0 in /usr/local/lib/python3.11/dist-packages (from mealpy) (2.2.2)\n",
            "Collecting opfunu>=1.0.0 (from mealpy)\n",
            "  Downloading opfunu-1.0.4-py3-none-any.whl.metadata (10 kB)\n",
            "Requirement already satisfied: contourpy>=1.0.1 in /usr/local/lib/python3.11/dist-packages (from matplotlib>=3.3.0->mealpy) (1.3.1)\n",
            "Requirement already satisfied: cycler>=0.10 in /usr/local/lib/python3.11/dist-packages (from matplotlib>=3.3.0->mealpy) (0.12.1)\n",
            "Requirement already satisfied: fonttools>=4.22.0 in /usr/local/lib/python3.11/dist-packages (from matplotlib>=3.3.0->mealpy) (4.57.0)\n",
            "Requirement already satisfied: kiwisolver>=1.3.1 in /usr/local/lib/python3.11/dist-packages (from matplotlib>=3.3.0->mealpy) (1.4.8)\n",
            "Requirement already satisfied: packaging>=20.0 in /usr/local/lib/python3.11/dist-packages (from matplotlib>=3.3.0->mealpy) (24.2)\n",
            "Requirement already satisfied: pillow>=8 in /usr/local/lib/python3.11/dist-packages (from matplotlib>=3.3.0->mealpy) (11.1.0)\n",
            "Requirement already satisfied: pyparsing>=2.3.1 in /usr/local/lib/python3.11/dist-packages (from matplotlib>=3.3.0->mealpy) (3.2.3)\n",
            "Requirement already satisfied: python-dateutil>=2.7 in /usr/local/lib/python3.11/dist-packages (from matplotlib>=3.3.0->mealpy) (2.8.2)\n",
            "Requirement already satisfied: requests>=2.27.0 in /usr/local/lib/python3.11/dist-packages (from opfunu>=1.0.0->mealpy) (2.32.3)\n",
            "Requirement already satisfied: pytz>=2020.1 in /usr/local/lib/python3.11/dist-packages (from pandas>=1.2.0->mealpy) (2025.2)\n",
            "Requirement already satisfied: tzdata>=2022.7 in /usr/local/lib/python3.11/dist-packages (from pandas>=1.2.0->mealpy) (2025.2)\n",
            "Requirement already satisfied: six>=1.5 in /usr/local/lib/python3.11/dist-packages (from python-dateutil>=2.7->matplotlib>=3.3.0->mealpy) (1.17.0)\n",
            "Requirement already satisfied: charset-normalizer<4,>=2 in /usr/local/lib/python3.11/dist-packages (from requests>=2.27.0->opfunu>=1.0.0->mealpy) (3.4.1)\n",
            "Requirement already satisfied: idna<4,>=2.5 in /usr/local/lib/python3.11/dist-packages (from requests>=2.27.0->opfunu>=1.0.0->mealpy) (3.10)\n",
            "Requirement already satisfied: urllib3<3,>=1.21.1 in /usr/local/lib/python3.11/dist-packages (from requests>=2.27.0->opfunu>=1.0.0->mealpy) (2.3.0)\n",
            "Requirement already satisfied: certifi>=2017.4.17 in /usr/local/lib/python3.11/dist-packages (from requests>=2.27.0->opfunu>=1.0.0->mealpy) (2025.1.31)\n",
            "Downloading mealpy-3.0.1-py3-none-any.whl (386 kB)\n",
            "\u001b[2K   \u001b[90m━━━━━━━━━━━━━━━━━━━━━━━━━━━━━━━━━━━━━━━━\u001b[0m \u001b[32m386.3/386.3 kB\u001b[0m \u001b[31m18.4 MB/s\u001b[0m eta \u001b[36m0:00:00\u001b[0m\n",
            "\u001b[?25hDownloading opfunu-1.0.4-py3-none-any.whl (13.0 MB)\n",
            "\u001b[2K   \u001b[90m━━━━━━━━━━━━━━━━━━━━━━━━━━━━━━━━━━━━━━━━\u001b[0m \u001b[32m13.0/13.0 MB\u001b[0m \u001b[31m61.2 MB/s\u001b[0m eta \u001b[36m0:00:00\u001b[0m\n",
            "\u001b[?25hInstalling collected packages: opfunu, mealpy\n",
            "Successfully installed mealpy-3.0.1 opfunu-1.0.4\n"
          ]
        }
      ]
    },
    {
      "cell_type": "markdown",
      "source": [
        "Creating Custom Dataset Object for GWO algorithm(main change from before custom dataset object is that the labels cannot be strings and must be tensors)"
      ],
      "metadata": {
        "id": "FyM-Iiwl1W2j"
      }
    },
    {
      "cell_type": "code",
      "source": [
        "from torch.utils.data import Dataset\n",
        "import torch\n",
        "from PIL import Image\n",
        "\n",
        "class GWOCustomDataset(Dataset):\n",
        "    def __init__(self, images, labels, processor):\n",
        "        self.images = images\n",
        "        self.labels = labels\n",
        "        self.processor = processor\n",
        "\n",
        "    def __len__(self):\n",
        "        return len(self.images)\n",
        "\n",
        "    def __getitem__(self, idx):\n",
        "        image = self.images[idx]\n",
        "        label = self.labels[idx]\n",
        "\n",
        "        # If image is a path or a PIL.Image convert\n",
        "        if isinstance(image, str):\n",
        "            image = Image.open(image).convert(\"RGB\")\n",
        "\n",
        "        # Process the image using the processor\n",
        "        processed = self.processor(images=image, return_tensors=\"pt\")\n",
        "        pixel_values = processed[\"pixel_values\"].squeeze(0)  # remove batch dim\n",
        "\n",
        "        return pixel_values, torch.tensor(label, dtype=torch.float32)\n",
        "\n",
        "\n",
        "dataset_GWO = GWOCustomDataset(images, labels, image_processor)\n",
        "data_loader_GWO = DataLoader(dataset_GWO, batch_size=32, shuffle=True, num_workers=0)\n",
        "\n",
        "test_dataset_GWO = GWOCustomDataset(test_images, test_labels, image_processor)\n",
        "test_data_loader_GWO = DataLoader(test_dataset_GWO, batch_size=32, shuffle=False, num_workers=0)\n",
        "\n"
      ],
      "metadata": {
        "id": "0BHeFVKvnUwS"
      },
      "execution_count": null,
      "outputs": []
    },
    {
      "cell_type": "markdown",
      "source": [
        "Creating custom object similar to Problem object in older versions of mealpy which specifies the bounds of the tuning hyperparameters for learning rate, convulation filters, and batch size"
      ],
      "metadata": {
        "id": "IDFm0w-u2j03"
      }
    },
    {
      "cell_type": "code",
      "source": [
        "#Defining problem GWO is optimizing\n",
        "class CNNHyperparamProblem(Problem):\n",
        "    def __init__(self):\n",
        "        super().__init__(\n",
        "            bounds=[\n",
        "                FloatVar(0.00001, 0.01),     # learning rate\n",
        "                FloatVar(0.2, 0.5),          # dropout rate\n",
        "                IntegerVar(64, 512),        # fc neurons\n",
        "            ],\n",
        "            minmax=\"min\",\n",
        "            name=\"CNNHyperparamOptimization\",\n",
        "            log_to=None\n",
        "        )\n",
        "\n",
        "    def obj_func(self, solution):\n",
        "        return fitness_function(solution)"
      ],
      "metadata": {
        "id": "6D8siWVb2kJU"
      },
      "execution_count": null,
      "outputs": []
    },
    {
      "cell_type": "markdown",
      "source": [
        "Defining the fitness function for GWO algorithm: training the base deep learning model with the current solution's hyperparameters and returning the loss that GWO is minimizing"
      ],
      "metadata": {
        "id": "fAfkN-jh2ZzN"
      }
    },
    {
      "cell_type": "code",
      "source": [
        "# Load pretrained EfficientNet\n",
        "base_model_GWO = EfficientNetForImageClassification.from_pretrained(\"google/efficientnet-b7\")\n",
        "\n",
        "\n",
        "def fitness_function(agent):\n",
        "    lr = float(agent[0])\n",
        "    dropout_rate = float(agent[1])\n",
        "    fc_neurons = int(agent[2])\n",
        "\n",
        "    for param in base_model_GWO.parameters():\n",
        "      param.requires_grad = False\n",
        "\n",
        "    # Rebuild the classifier layer\n",
        "    base_model_GWO.classifier = nn.Sequential(\n",
        "    nn.Dropout(p=dropout_rate),\n",
        "    nn.Linear(2560, fc_neurons),\n",
        "    nn.ReLU(),\n",
        "    nn.Linear(fc_neurons, 1),\n",
        "    nn.Sigmoid())\n",
        "\n",
        "    device = torch.device(\"cuda\")\n",
        "    model = base_model_GWO.to(device)\n",
        "    optimizer = optim.Adam(model.parameters(), lr=lr)\n",
        "    criterion = nn.BCELoss()\n",
        "    num_epochs = 2\n",
        "\n",
        "    #Setting model to train mode\n",
        "    for epoch in range(2):\n",
        "      model.train()\n",
        "      running_loss_train = 0.0\n",
        "      for batch in tqdm(data_loader_GWO, desc=f\"Epoch {epoch+1}/{num_epochs}\", leave=False):\n",
        "            pixel_values_train, true_labels_train = batch\n",
        "            pixel_values_train = pixel_values_train.to(device)\n",
        "            true_labels_train = true_labels_train.to(device).float()\n",
        "\n",
        "            optimizer.zero_grad()\n",
        "            outputs_train = model(pixel_values_train)\n",
        "            logits_train = outputs_train.logits.squeeze(1)\n",
        "            loss_train = criterion(logits_train, true_labels_train)\n",
        "            loss_train.backward()\n",
        "            optimizer.step()\n",
        "            running_loss_train += loss_train.item()\n",
        "\n",
        "      avg_loss_train = running_loss_train / len(data_loader_GWO)\n",
        "\n",
        "      model.eval()\n",
        "      running_loss_val = 0.0\n",
        "      correct = 0\n",
        "      with torch.no_grad():\n",
        "          for batch_val in tqdm(test_data_loader_GWO, desc=f\"Epoch {epoch+1}/{num_epochs}\", leave=False):\n",
        "              pixel_values_val, true_labels_val = batch_val\n",
        "              pixel_values_val = pixel_values_val.to(device)\n",
        "              true_labels_val = true_labels_val.to(device).float()\n",
        "\n",
        "              outputs_val = model(pixel_values_val)\n",
        "              logits_val = outputs_val.logits.squeeze(1)\n",
        "              loss_val = criterion(logits_val, true_labels_val)\n",
        "              running_loss_val += loss_val.item()\n",
        "\n",
        "              preds = (logits_val > 0.5).float()\n",
        "              correct += preds.eq(true_labels_val).sum().item()\n",
        "\n",
        "      avg_loss_val = running_loss_val / len(test_data_loader_GWO)\n",
        "      accuracy = correct / len(test_dataset)\n",
        "      print(f\"Epoch {epoch+1}, Validation Loss: {avg_loss_val:.4f}, Accuracy: {accuracy:.4f}\")\n",
        "\n",
        "    return 1 - accuracy"
      ],
      "metadata": {
        "id": "8CigOT6c_PnH"
      },
      "execution_count": null,
      "outputs": []
    },
    {
      "cell_type": "markdown",
      "source": [
        "Utilizing GWO algorithm initializing solutions and updating the position of every solution iterativley to find best possible hyperparameters for model"
      ],
      "metadata": {
        "id": "bECQ6VvP4shn"
      }
    },
    {
      "cell_type": "code",
      "source": [
        "# Instantiate the problem\n",
        "problem = CNNHyperparamProblem()\n",
        "model = OriginalGWO(epoch=5, pop_size=5)\n",
        "best_agent = model.solve(problem)\n",
        "\n",
        "print(\"\\nBest Hyperparameters:\")\n",
        "print(\"Position (hyperparameters):\", best_agent.solution)\n",
        "print(\"Fitness (1 - accuracy):\", best_agent.target.fitness)\n",
        "\n",
        "best_position = best_agent.solution\n",
        "best_fit = best_agent.target.fitness\n",
        "\n",
        "print(\"\\nBest Hyperparameters (Formatted):\")\n",
        "print(f\"Learning Rate: {best_position[0]:.5f}\")\n",
        "print(f\"Dropout Rate: {best_position[1]:.4f}\")\n",
        "print(f\"Final Classifier Neurons: {int(best_position[2])}\")\n",
        "print(f\"Validation Accuracy: {1 - best_fit:.4f}\")\n"
      ],
      "metadata": {
        "id": "bFKlyGnPhLHo",
        "colab": {
          "base_uri": "https://localhost:8080/"
        },
        "outputId": "e9f31a1a-c5cc-496d-9dbd-6a996b4b0e8e"
      },
      "execution_count": null,
      "outputs": [
        {
          "metadata": {
            "tags": null
          },
          "name": "stderr",
          "output_type": "stream",
          "text": [
            ""
          ]
        },
        {
          "metadata": {
            "tags": null
          },
          "name": "stdout",
          "output_type": "stream",
          "text": [
            "Epoch 1, Validation Loss: 0.6135, Accuracy: 0.7647\n"
          ]
        },
        {
          "metadata": {
            "tags": null
          },
          "name": "stderr",
          "output_type": "stream",
          "text": [
            ""
          ]
        },
        {
          "metadata": {
            "tags": null
          },
          "name": "stdout",
          "output_type": "stream",
          "text": [
            "Epoch 2, Validation Loss: 0.5509, Accuracy: 0.7916\n"
          ]
        },
        {
          "metadata": {
            "tags": null
          },
          "name": "stderr",
          "output_type": "stream",
          "text": [
            ""
          ]
        },
        {
          "metadata": {
            "tags": null
          },
          "name": "stdout",
          "output_type": "stream",
          "text": [
            "Epoch 1, Validation Loss: 0.4473, Accuracy: 0.8042\n"
          ]
        },
        {
          "metadata": {
            "tags": null
          },
          "name": "stderr",
          "output_type": "stream",
          "text": [
            ""
          ]
        },
        {
          "metadata": {
            "tags": null
          },
          "name": "stdout",
          "output_type": "stream",
          "text": [
            "Epoch 2, Validation Loss: 0.4385, Accuracy: 0.8000\n"
          ]
        },
        {
          "metadata": {
            "tags": null
          },
          "name": "stderr",
          "output_type": "stream",
          "text": [
            ""
          ]
        },
        {
          "metadata": {
            "tags": null
          },
          "name": "stdout",
          "output_type": "stream",
          "text": [
            "Epoch 1, Validation Loss: 0.5172, Accuracy: 0.7882\n"
          ]
        },
        {
          "metadata": {
            "tags": null
          },
          "name": "stderr",
          "output_type": "stream",
          "text": [
            ""
          ]
        },
        {
          "metadata": {
            "tags": null
          },
          "name": "stdout",
          "output_type": "stream",
          "text": [
            "Epoch 2, Validation Loss: 0.4334, Accuracy: 0.8227\n"
          ]
        },
        {
          "metadata": {
            "tags": null
          },
          "name": "stderr",
          "output_type": "stream",
          "text": [
            ""
          ]
        },
        {
          "metadata": {
            "tags": null
          },
          "name": "stdout",
          "output_type": "stream",
          "text": [
            "Epoch 1, Validation Loss: 0.4036, Accuracy: 0.8168\n"
          ]
        },
        {
          "metadata": {
            "tags": null
          },
          "name": "stderr",
          "output_type": "stream",
          "text": [
            ""
          ]
        },
        {
          "metadata": {
            "tags": null
          },
          "name": "stdout",
          "output_type": "stream",
          "text": [
            "Epoch 2, Validation Loss: 0.3794, Accuracy: 0.8353\n"
          ]
        },
        {
          "metadata": {
            "tags": null
          },
          "name": "stderr",
          "output_type": "stream",
          "text": [
            ""
          ]
        },
        {
          "metadata": {
            "tags": null
          },
          "name": "stdout",
          "output_type": "stream",
          "text": [
            "Epoch 1, Validation Loss: 0.4182, Accuracy: 0.8218\n"
          ]
        },
        {
          "metadata": {
            "tags": null
          },
          "name": "stderr",
          "output_type": "stream",
          "text": [
            ""
          ]
        },
        {
          "metadata": {
            "tags": null
          },
          "name": "stdout",
          "output_type": "stream",
          "text": [
            "Epoch 2, Validation Loss: 0.3727, Accuracy: 0.8454\n"
          ]
        },
        {
          "metadata": {
            "tags": null
          },
          "name": "stderr",
          "output_type": "stream",
          "text": [
            ""
          ]
        },
        {
          "metadata": {
            "tags": null
          },
          "name": "stdout",
          "output_type": "stream",
          "text": [
            "Epoch 1, Validation Loss: 0.4091, Accuracy: 0.8218\n"
          ]
        },
        {
          "metadata": {
            "tags": null
          },
          "name": "stderr",
          "output_type": "stream",
          "text": [
            ""
          ]
        },
        {
          "metadata": {
            "tags": null
          },
          "name": "stdout",
          "output_type": "stream",
          "text": [
            "Epoch 2, Validation Loss: 0.3835, Accuracy: 0.8176\n"
          ]
        },
        {
          "metadata": {
            "tags": null
          },
          "name": "stderr",
          "output_type": "stream",
          "text": [
            ""
          ]
        },
        {
          "metadata": {
            "tags": null
          },
          "name": "stdout",
          "output_type": "stream",
          "text": [
            "Epoch 1, Validation Loss: 0.5564, Accuracy: 0.7479\n"
          ]
        },
        {
          "metadata": {
            "tags": null
          },
          "name": "stderr",
          "output_type": "stream",
          "text": [
            ""
          ]
        },
        {
          "metadata": {
            "tags": null
          },
          "name": "stdout",
          "output_type": "stream",
          "text": [
            "Epoch 2, Validation Loss: 0.3927, Accuracy: 0.8412\n"
          ]
        },
        {
          "metadata": {
            "tags": null
          },
          "name": "stderr",
          "output_type": "stream",
          "text": [
            ""
          ]
        },
        {
          "metadata": {
            "tags": null
          },
          "name": "stdout",
          "output_type": "stream",
          "text": [
            "Epoch 1, Validation Loss: 0.3992, Accuracy: 0.8252\n"
          ]
        },
        {
          "metadata": {
            "tags": null
          },
          "name": "stderr",
          "output_type": "stream",
          "text": [
            ""
          ]
        },
        {
          "metadata": {
            "tags": null
          },
          "name": "stdout",
          "output_type": "stream",
          "text": [
            "Epoch 2, Validation Loss: 0.4232, Accuracy: 0.8151\n"
          ]
        },
        {
          "metadata": {
            "tags": null
          },
          "name": "stderr",
          "output_type": "stream",
          "text": [
            ""
          ]
        },
        {
          "metadata": {
            "tags": null
          },
          "name": "stdout",
          "output_type": "stream",
          "text": [
            "Epoch 1, Validation Loss: 0.4157, Accuracy: 0.8202\n"
          ]
        },
        {
          "metadata": {
            "tags": null
          },
          "name": "stderr",
          "output_type": "stream",
          "text": [
            ""
          ]
        },
        {
          "metadata": {
            "tags": null
          },
          "name": "stdout",
          "output_type": "stream",
          "text": [
            "Epoch 2, Validation Loss: 0.5614, Accuracy: 0.7697\n"
          ]
        },
        {
          "metadata": {
            "tags": null
          },
          "name": "stderr",
          "output_type": "stream",
          "text": [
            ""
          ]
        },
        {
          "metadata": {
            "tags": null
          },
          "name": "stdout",
          "output_type": "stream",
          "text": [
            "Epoch 1, Validation Loss: 0.6843, Accuracy: 0.6966\n"
          ]
        },
        {
          "metadata": {
            "tags": null
          },
          "name": "stderr",
          "output_type": "stream",
          "text": [
            ""
          ]
        },
        {
          "metadata": {
            "tags": null
          },
          "name": "stdout",
          "output_type": "stream",
          "text": [
            "Epoch 2, Validation Loss: 0.4092, Accuracy: 0.8118\n"
          ]
        },
        {
          "metadata": {
            "tags": null
          },
          "name": "stderr",
          "output_type": "stream",
          "text": [
            ""
          ]
        },
        {
          "metadata": {
            "tags": null
          },
          "name": "stdout",
          "output_type": "stream",
          "text": [
            "Epoch 1, Validation Loss: 0.3910, Accuracy: 0.8269\n"
          ]
        },
        {
          "metadata": {
            "tags": null
          },
          "name": "stderr",
          "output_type": "stream",
          "text": [
            ""
          ]
        },
        {
          "metadata": {
            "tags": null
          },
          "name": "stdout",
          "output_type": "stream",
          "text": [
            "Epoch 2, Validation Loss: 0.4051, Accuracy: 0.8244\n"
          ]
        },
        {
          "metadata": {
            "tags": null
          },
          "name": "stderr",
          "output_type": "stream",
          "text": [
            ""
          ]
        },
        {
          "metadata": {
            "tags": null
          },
          "name": "stdout",
          "output_type": "stream",
          "text": [
            "Epoch 1, Validation Loss: 0.4097, Accuracy: 0.8151\n"
          ]
        },
        {
          "metadata": {
            "tags": null
          },
          "name": "stderr",
          "output_type": "stream",
          "text": [
            ""
          ]
        },
        {
          "metadata": {
            "tags": null
          },
          "name": "stdout",
          "output_type": "stream",
          "text": [
            "Epoch 2, Validation Loss: 0.3660, Accuracy: 0.8378\n"
          ]
        },
        {
          "metadata": {
            "tags": null
          },
          "name": "stderr",
          "output_type": "stream",
          "text": [
            ""
          ]
        },
        {
          "metadata": {
            "tags": null
          },
          "name": "stdout",
          "output_type": "stream",
          "text": [
            "Epoch 1, Validation Loss: 0.4325, Accuracy: 0.7916\n"
          ]
        },
        {
          "metadata": {
            "tags": null
          },
          "name": "stderr",
          "output_type": "stream",
          "text": [
            ""
          ]
        },
        {
          "metadata": {
            "tags": null
          },
          "name": "stdout",
          "output_type": "stream",
          "text": [
            "Epoch 2, Validation Loss: 0.3966, Accuracy: 0.8252\n"
          ]
        },
        {
          "output_type": "stream",
          "name": "stderr",
          "text": []
        },
        {
          "output_type": "stream",
          "name": "stdout",
          "text": [
            "Epoch 1, Validation Loss: 0.3975, Accuracy: 0.8269\n"
          ]
        },
        {
          "output_type": "stream",
          "name": "stderr",
          "text": []
        },
        {
          "output_type": "stream",
          "name": "stdout",
          "text": [
            "Epoch 2, Validation Loss: 0.3940, Accuracy: 0.8387\n"
          ]
        },
        {
          "output_type": "stream",
          "name": "stderr",
          "text": []
        },
        {
          "output_type": "stream",
          "name": "stdout",
          "text": [
            "Epoch 1, Validation Loss: 0.5434, Accuracy: 0.7655\n"
          ]
        },
        {
          "output_type": "stream",
          "name": "stderr",
          "text": []
        },
        {
          "output_type": "stream",
          "name": "stdout",
          "text": [
            "Epoch 2, Validation Loss: 0.4353, Accuracy: 0.8034\n"
          ]
        },
        {
          "output_type": "stream",
          "name": "stderr",
          "text": []
        },
        {
          "output_type": "stream",
          "name": "stdout",
          "text": [
            "Epoch 1, Validation Loss: 0.4539, Accuracy: 0.7874\n"
          ]
        },
        {
          "output_type": "stream",
          "name": "stderr",
          "text": []
        },
        {
          "output_type": "stream",
          "name": "stdout",
          "text": [
            "Epoch 2, Validation Loss: 0.3828, Accuracy: 0.8252\n"
          ]
        },
        {
          "output_type": "stream",
          "name": "stderr",
          "text": []
        },
        {
          "output_type": "stream",
          "name": "stdout",
          "text": [
            "Epoch 1, Validation Loss: 0.3828, Accuracy: 0.8319\n"
          ]
        },
        {
          "output_type": "stream",
          "name": "stderr",
          "text": []
        },
        {
          "output_type": "stream",
          "name": "stdout",
          "text": [
            "Epoch 2, Validation Loss: 0.5018, Accuracy: 0.7899\n"
          ]
        },
        {
          "output_type": "stream",
          "name": "stderr",
          "text": []
        },
        {
          "output_type": "stream",
          "name": "stdout",
          "text": [
            "Epoch 1, Validation Loss: 0.3895, Accuracy: 0.8227\n"
          ]
        },
        {
          "output_type": "stream",
          "name": "stderr",
          "text": []
        },
        {
          "output_type": "stream",
          "name": "stdout",
          "text": [
            "Epoch 2, Validation Loss: 0.5705, Accuracy: 0.7950\n"
          ]
        },
        {
          "output_type": "stream",
          "name": "stderr",
          "text": []
        },
        {
          "output_type": "stream",
          "name": "stdout",
          "text": [
            "Epoch 1, Validation Loss: 0.5059, Accuracy: 0.7521\n"
          ]
        },
        {
          "output_type": "stream",
          "name": "stderr",
          "text": []
        },
        {
          "output_type": "stream",
          "name": "stdout",
          "text": [
            "Epoch 2, Validation Loss: 0.5036, Accuracy: 0.7773\n"
          ]
        },
        {
          "output_type": "stream",
          "name": "stderr",
          "text": []
        },
        {
          "output_type": "stream",
          "name": "stdout",
          "text": [
            "Epoch 1, Validation Loss: 0.4130, Accuracy: 0.8076\n"
          ]
        },
        {
          "output_type": "stream",
          "name": "stderr",
          "text": []
        },
        {
          "output_type": "stream",
          "name": "stdout",
          "text": [
            "Epoch 2, Validation Loss: 0.4022, Accuracy: 0.8387\n"
          ]
        },
        {
          "output_type": "stream",
          "name": "stderr",
          "text": []
        },
        {
          "output_type": "stream",
          "name": "stdout",
          "text": [
            "Epoch 1, Validation Loss: 0.4222, Accuracy: 0.8168\n"
          ]
        },
        {
          "output_type": "stream",
          "name": "stderr",
          "text": []
        },
        {
          "output_type": "stream",
          "name": "stdout",
          "text": [
            "Epoch 2, Validation Loss: 0.3786, Accuracy: 0.8429\n"
          ]
        },
        {
          "output_type": "stream",
          "name": "stderr",
          "text": []
        },
        {
          "output_type": "stream",
          "name": "stdout",
          "text": [
            "Epoch 1, Validation Loss: 0.5188, Accuracy: 0.7605\n"
          ]
        },
        {
          "output_type": "stream",
          "name": "stderr",
          "text": []
        },
        {
          "output_type": "stream",
          "name": "stdout",
          "text": [
            "Epoch 2, Validation Loss: 0.3845, Accuracy: 0.8378\n"
          ]
        },
        {
          "output_type": "stream",
          "name": "stderr",
          "text": []
        },
        {
          "output_type": "stream",
          "name": "stdout",
          "text": [
            "Epoch 1, Validation Loss: 0.4602, Accuracy: 0.7756\n"
          ]
        },
        {
          "output_type": "stream",
          "name": "stderr",
          "text": []
        },
        {
          "output_type": "stream",
          "name": "stdout",
          "text": [
            "Epoch 2, Validation Loss: 0.4216, Accuracy: 0.8067\n"
          ]
        },
        {
          "output_type": "stream",
          "name": "stderr",
          "text": []
        },
        {
          "output_type": "stream",
          "name": "stdout",
          "text": [
            "Epoch 1, Validation Loss: 0.4030, Accuracy: 0.8294\n"
          ]
        },
        {
          "output_type": "stream",
          "name": "stderr",
          "text": []
        },
        {
          "output_type": "stream",
          "name": "stdout",
          "text": [
            "Epoch 2, Validation Loss: 0.3982, Accuracy: 0.8269\n"
          ]
        },
        {
          "output_type": "stream",
          "name": "stderr",
          "text": []
        },
        {
          "output_type": "stream",
          "name": "stdout",
          "text": [
            "Epoch 1, Validation Loss: 0.3920, Accuracy: 0.8218\n"
          ]
        },
        {
          "output_type": "stream",
          "name": "stderr",
          "text": []
        },
        {
          "output_type": "stream",
          "name": "stdout",
          "text": [
            "Epoch 2, Validation Loss: 0.4604, Accuracy: 0.8134\n"
          ]
        },
        {
          "output_type": "stream",
          "name": "stderr",
          "text": []
        },
        {
          "output_type": "stream",
          "name": "stdout",
          "text": [
            "Epoch 1, Validation Loss: 0.4370, Accuracy: 0.7992\n"
          ]
        },
        {
          "output_type": "stream",
          "name": "stderr",
          "text": []
        },
        {
          "output_type": "stream",
          "name": "stdout",
          "text": [
            "Epoch 2, Validation Loss: 0.4606, Accuracy: 0.8034\n"
          ]
        },
        {
          "output_type": "stream",
          "name": "stderr",
          "text": []
        },
        {
          "output_type": "stream",
          "name": "stdout",
          "text": [
            "Epoch 1, Validation Loss: 0.4514, Accuracy: 0.7857\n"
          ]
        },
        {
          "output_type": "stream",
          "name": "stderr",
          "text": []
        },
        {
          "output_type": "stream",
          "name": "stdout",
          "text": [
            "Epoch 2, Validation Loss: 0.3912, Accuracy: 0.8336\n"
          ]
        },
        {
          "output_type": "stream",
          "name": "stderr",
          "text": []
        },
        {
          "output_type": "stream",
          "name": "stdout",
          "text": [
            "Epoch 1, Validation Loss: 0.4337, Accuracy: 0.8092\n"
          ]
        },
        {
          "output_type": "stream",
          "name": "stderr",
          "text": []
        },
        {
          "output_type": "stream",
          "name": "stdout",
          "text": [
            "Epoch 2, Validation Loss: 0.3744, Accuracy: 0.8303\n"
          ]
        },
        {
          "output_type": "stream",
          "name": "stderr",
          "text": []
        },
        {
          "output_type": "stream",
          "name": "stdout",
          "text": [
            "Epoch 1, Validation Loss: 0.4078, Accuracy: 0.8101\n"
          ]
        },
        {
          "output_type": "stream",
          "name": "stderr",
          "text": []
        },
        {
          "output_type": "stream",
          "name": "stdout",
          "text": [
            "Epoch 2, Validation Loss: 0.4340, Accuracy: 0.8000\n"
          ]
        },
        {
          "output_type": "stream",
          "name": "stderr",
          "text": []
        },
        {
          "output_type": "stream",
          "name": "stdout",
          "text": [
            "Epoch 1, Validation Loss: 0.4856, Accuracy: 0.7815\n"
          ]
        },
        {
          "output_type": "stream",
          "name": "stderr",
          "text": []
        },
        {
          "output_type": "stream",
          "name": "stdout",
          "text": [
            "Epoch 2, Validation Loss: 0.3537, Accuracy: 0.8504\n"
          ]
        },
        {
          "output_type": "stream",
          "name": "stderr",
          "text": []
        },
        {
          "output_type": "stream",
          "name": "stdout",
          "text": [
            "Epoch 1, Validation Loss: 0.4124, Accuracy: 0.8042\n"
          ]
        },
        {
          "output_type": "stream",
          "name": "stderr",
          "text": [
            "                                                          "
          ]
        },
        {
          "output_type": "stream",
          "name": "stdout",
          "text": [
            "Epoch 2, Validation Loss: 0.3660, Accuracy: 0.8454\n",
            "\n",
            "Best Hyperparameters:\n",
            "Position (hyperparameters): [1.84397442e-03 3.15383906e-01 3.58471322e+02]\n",
            "Fitness (1 - accuracy): 0.14957983193277313\n",
            "\n",
            "Best Hyperparameters (Formatted):\n",
            "Learning Rate: 0.00184\n",
            "Dropout Rate: 0.3154\n",
            "Final Classifier Neurons: 358\n",
            "Validation Accuracy: 0.8504\n"
          ]
        },
        {
          "output_type": "stream",
          "name": "stderr",
          "text": [
            "\r"
          ]
        }
      ]
    },
    {
      "cell_type": "markdown",
      "source": [
        "Printing Formatted best Hyperparameters\n"
      ],
      "metadata": {
        "id": "B-Z3Fr_zqgf4"
      }
    },
    {
      "cell_type": "markdown",
      "source": [
        "Creating new model with the optimal hyperparameters obtained from the GWO algorithm"
      ],
      "metadata": {
        "id": "Hn117hBP6EEg"
      }
    },
    {
      "cell_type": "code",
      "source": [
        "dropout_rate = 0.3154\n",
        "fc_neurons = 358\n",
        "lr = 0.00184\n",
        "\n",
        "\n",
        "gwo_model = EfficientNetForImageClassification.from_pretrained(\"google/efficientnet-b7\")\n",
        "for param in gwo_model.parameters():\n",
        "    param.requires_grad = False\n",
        "\n",
        "# Custom GWO classifier\n",
        "gwo_model.classifier = nn.Sequential(\n",
        "    nn.Dropout(p=dropout_rate),\n",
        "    nn.Linear(2560, fc_neurons),\n",
        "    nn.ReLU(),\n",
        "    nn.Linear(fc_neurons, 1),\n",
        "    nn.Sigmoid()\n",
        ")\n",
        "\n",
        "device = torch.device(\"cuda\")\n",
        "gwo_model = gwo_model.to(device)\n",
        "\n",
        "optimizer = torch.optim.Adam(gwo_model.parameters(), lr=lr)\n",
        "\n",
        "from google.colab import files\n"
      ],
      "metadata": {
        "id": "hdHTSCoP433G"
      },
      "execution_count": null,
      "outputs": []
    },
    {
      "cell_type": "markdown",
      "source": [
        "Training GWO's tuned hyperparameters model and implementing early stoppage"
      ],
      "metadata": {
        "id": "APuaetv-8L-L"
      }
    },
    {
      "cell_type": "code",
      "source": [
        "#Setting up For Loop Variables\n",
        "patience = 5\n",
        "patience_counter = 0\n",
        "best_val_loss = float('inf')\n",
        "num_epochs = 250\n",
        "min_accept_loss = 0.001\n",
        "gwo_model = gwo_model.to(device)\n",
        "\n",
        "#making dataframe to track epochs, train_loss, val_loss\n",
        "import pandas as pd\n",
        "loss_df5 = pd.DataFrame(columns=[\"epoch\", \"train_loss\", \"val_loss\"])\n",
        "\n",
        "\n",
        "for epoch in range(num_epochs):\n",
        "  # Set model to training mode\n",
        "  gwo_model.train()\n",
        "  running_loss_train = 0.0\n",
        "  for batch in tqdm(test_data_loader, desc=f\"Epoch {epoch+1}/{num_epochs}\", leave=False):\n",
        "    pixel_values_train =batch[\"pixel_values\"].to(device)\n",
        "\n",
        "    true_labels_train = batch[\"labels\"].to(device)\n",
        "    true_labels_train = true_labels_train.float()\n",
        "    inputs_train = {\"pixel_values\": pixel_values_train}\n",
        "\n",
        "    optimizer.zero_grad()\n",
        "    outputs_train = gwo_model(**inputs_train)\n",
        "    logits_train = outputs_train.logits.squeeze(1)\n",
        "    loss_train = loss_fn(logits_train, true_labels_train)\n",
        "    loss_train.backward()\n",
        "    optimizer.step()\n",
        "    running_loss_train += loss_train.item()\n",
        "  avg_loss_train = running_loss_train / len(test_data_loader)\n",
        "  print(f\"Epoch {epoch+1}, Training Loss: {avg_loss_train:.4f}\")\n",
        "\n",
        "# Set model to evaluation mode\n",
        "  gwo_model.eval()\n",
        "  running_loss_val = 0.0\n",
        "  with torch.no_grad():\n",
        "    for batch_val in tqdm(test2_data_loader, desc=f\"Epoch {epoch+1}/{num_epochs}\", leave=False):\n",
        "      pixel_values_val =batch_val[\"pixel_values\"].to(device)\n",
        "      true_labels_val = batch_val[\"labels\"].to(device)\n",
        "      true_labels_val = true_labels_val.float()\n",
        "      inputs_val = {\"pixel_values\": pixel_values_val}\n",
        "      outputs_val = gwo_model(**inputs_val)\n",
        "      logits_val = outputs_val.logits.squeeze(1)\n",
        "      loss_val = loss_fn(logits_val, true_labels_val)\n",
        "      running_loss_val += loss_val.item()\n",
        "    avg_loss_val = running_loss_val / len(test2_data_loader)\n",
        "    print(f\"Epoch {epoch+1}, Validation Loss: {avg_loss_val:.4f}\")\n",
        "    # Append loss info to DataFrame\n",
        "  loss_df5 = pd.concat([loss_df5,pd.DataFrame.from_dict({\"epoch\": [epoch + 1],\n",
        "                                                     \"train_loss\": [avg_loss_train],\n",
        "                                                     \"val_loss\": [avg_loss_val]})],\n",
        "                                                        ignore_index=True)\n",
        "\n",
        "  if avg_loss_val < best_val_loss - min_accept_loss:\n",
        "    best_val_loss = avg_loss_val\n",
        "    patience_counter = 0\n",
        "  else:\n",
        "      patience_counter += 1\n",
        "      if patience_counter >= patience:\n",
        "        print(f\"Early stopping at epoch {epoch + 1}\")\n",
        "        break\n",
        "\n",
        "torch.save(gwo_model, \"efficientnet_gwo_model.pth\")\n",
        "print(\"Model saved to efficientnet_gwo_model.pth\")\n",
        "files.download(\"efficientnet_gwo_model.pth\")"
      ],
      "metadata": {
        "id": "L6HcRoa17LaU",
        "colab": {
          "base_uri": "https://localhost:8080/",
          "height": 680
        },
        "outputId": "0691c2d6-305f-4f5e-ae75-f29688f99725"
      },
      "execution_count": null,
      "outputs": [
        {
          "output_type": "stream",
          "name": "stderr",
          "text": [
            "\rEpoch 1/250:   0%|          | 0/38 [00:00<?, ?it/s]/usr/local/lib/python3.11/dist-packages/transformers/image_processing_utils.py:42: UserWarning: The following named arguments are not valid for `EfficientNetImageProcessor.preprocess` and were ignored: 'padding'\n",
            "  return self.preprocess(images, **kwargs)\n"
          ]
        },
        {
          "output_type": "stream",
          "name": "stdout",
          "text": [
            "Epoch 1, Training Loss: 0.6318\n"
          ]
        },
        {
          "output_type": "stream",
          "name": "stderr",
          "text": [
            "<ipython-input-16-a4b2882b6b89>:51: FutureWarning: The behavior of DataFrame concatenation with empty or all-NA entries is deprecated. In a future version, this will no longer exclude empty or all-NA columns when determining the result dtypes. To retain the old behavior, exclude the relevant entries before the concat operation.\n",
            "  loss_df5 = pd.concat([loss_df5,pd.DataFrame.from_dict({\"epoch\": [epoch + 1],\n"
          ]
        },
        {
          "output_type": "stream",
          "name": "stdout",
          "text": [
            "Epoch 1, Validation Loss: 0.6142\n"
          ]
        },
        {
          "output_type": "stream",
          "name": "stderr",
          "text": []
        },
        {
          "output_type": "stream",
          "name": "stdout",
          "text": [
            "Epoch 2, Training Loss: 0.5903\n"
          ]
        },
        {
          "output_type": "stream",
          "name": "stderr",
          "text": []
        },
        {
          "output_type": "stream",
          "name": "stdout",
          "text": [
            "Epoch 2, Validation Loss: 0.6065\n"
          ]
        },
        {
          "output_type": "stream",
          "name": "stderr",
          "text": []
        },
        {
          "output_type": "stream",
          "name": "stdout",
          "text": [
            "Epoch 3, Training Loss: 0.5848\n"
          ]
        },
        {
          "output_type": "stream",
          "name": "stderr",
          "text": []
        },
        {
          "output_type": "stream",
          "name": "stdout",
          "text": [
            "Epoch 3, Validation Loss: 0.6051\n"
          ]
        },
        {
          "output_type": "stream",
          "name": "stderr",
          "text": []
        },
        {
          "output_type": "stream",
          "name": "stdout",
          "text": [
            "Epoch 4, Training Loss: 0.5756\n"
          ]
        },
        {
          "output_type": "stream",
          "name": "stderr",
          "text": []
        },
        {
          "output_type": "stream",
          "name": "stdout",
          "text": [
            "Epoch 4, Validation Loss: 0.6000\n"
          ]
        },
        {
          "output_type": "stream",
          "name": "stderr",
          "text": []
        },
        {
          "output_type": "stream",
          "name": "stdout",
          "text": [
            "Epoch 5, Training Loss: 0.5698\n"
          ]
        },
        {
          "output_type": "stream",
          "name": "stderr",
          "text": []
        },
        {
          "output_type": "stream",
          "name": "stdout",
          "text": [
            "Epoch 5, Validation Loss: 0.5943\n"
          ]
        },
        {
          "output_type": "stream",
          "name": "stderr",
          "text": []
        },
        {
          "output_type": "stream",
          "name": "stdout",
          "text": [
            "Epoch 6, Training Loss: 0.5722\n"
          ]
        },
        {
          "output_type": "stream",
          "name": "stderr",
          "text": []
        },
        {
          "output_type": "stream",
          "name": "stdout",
          "text": [
            "Epoch 6, Validation Loss: 0.5918\n"
          ]
        },
        {
          "output_type": "stream",
          "name": "stderr",
          "text": []
        },
        {
          "output_type": "stream",
          "name": "stdout",
          "text": [
            "Epoch 7, Training Loss: 0.5690\n"
          ]
        },
        {
          "output_type": "stream",
          "name": "stderr",
          "text": []
        },
        {
          "output_type": "stream",
          "name": "stdout",
          "text": [
            "Epoch 7, Validation Loss: 0.5967\n"
          ]
        },
        {
          "output_type": "stream",
          "name": "stderr",
          "text": []
        },
        {
          "output_type": "stream",
          "name": "stdout",
          "text": [
            "Epoch 8, Training Loss: 0.5652\n"
          ]
        },
        {
          "output_type": "stream",
          "name": "stderr",
          "text": []
        },
        {
          "output_type": "stream",
          "name": "stdout",
          "text": [
            "Epoch 8, Validation Loss: 0.5962\n"
          ]
        },
        {
          "output_type": "stream",
          "name": "stderr",
          "text": []
        },
        {
          "output_type": "stream",
          "name": "stdout",
          "text": [
            "Epoch 9, Training Loss: 0.5590\n"
          ]
        },
        {
          "output_type": "stream",
          "name": "stderr",
          "text": []
        },
        {
          "output_type": "stream",
          "name": "stdout",
          "text": [
            "Epoch 9, Validation Loss: 0.5911\n"
          ]
        },
        {
          "output_type": "stream",
          "name": "stderr",
          "text": []
        },
        {
          "output_type": "stream",
          "name": "stdout",
          "text": [
            "Epoch 10, Training Loss: 0.5623\n"
          ]
        },
        {
          "output_type": "stream",
          "name": "stderr",
          "text": []
        },
        {
          "output_type": "stream",
          "name": "stdout",
          "text": [
            "Epoch 10, Validation Loss: 0.5880\n"
          ]
        },
        {
          "output_type": "stream",
          "name": "stderr",
          "text": []
        },
        {
          "output_type": "stream",
          "name": "stdout",
          "text": [
            "Epoch 11, Training Loss: 0.5559\n"
          ]
        },
        {
          "output_type": "stream",
          "name": "stderr",
          "text": []
        },
        {
          "output_type": "stream",
          "name": "stdout",
          "text": [
            "Epoch 11, Validation Loss: 0.5877\n"
          ]
        },
        {
          "output_type": "stream",
          "name": "stderr",
          "text": []
        },
        {
          "output_type": "stream",
          "name": "stdout",
          "text": [
            "Epoch 12, Training Loss: 0.5564\n"
          ]
        },
        {
          "output_type": "stream",
          "name": "stderr",
          "text": []
        },
        {
          "output_type": "stream",
          "name": "stdout",
          "text": [
            "Epoch 12, Validation Loss: 0.5878\n"
          ]
        },
        {
          "output_type": "stream",
          "name": "stderr",
          "text": []
        },
        {
          "output_type": "stream",
          "name": "stdout",
          "text": [
            "Epoch 13, Training Loss: 0.5571\n"
          ]
        },
        {
          "output_type": "stream",
          "name": "stderr",
          "text": []
        },
        {
          "output_type": "stream",
          "name": "stdout",
          "text": [
            "Epoch 13, Validation Loss: 0.5929\n"
          ]
        },
        {
          "output_type": "stream",
          "name": "stderr",
          "text": []
        },
        {
          "output_type": "stream",
          "name": "stdout",
          "text": [
            "Epoch 14, Training Loss: 0.5520\n"
          ]
        },
        {
          "output_type": "stream",
          "name": "stderr",
          "text": []
        },
        {
          "output_type": "stream",
          "name": "stdout",
          "text": [
            "Epoch 14, Validation Loss: 0.5922\n"
          ]
        },
        {
          "output_type": "stream",
          "name": "stderr",
          "text": []
        },
        {
          "output_type": "stream",
          "name": "stdout",
          "text": [
            "Epoch 15, Training Loss: 0.5512\n"
          ]
        },
        {
          "output_type": "stream",
          "name": "stderr",
          "text": []
        },
        {
          "output_type": "stream",
          "name": "stdout",
          "text": [
            "Epoch 15, Validation Loss: 0.5912\n",
            "Early stopping at epoch 15\n",
            "Model saved to efficientnet_gwo_model.pth\n"
          ]
        },
        {
          "output_type": "display_data",
          "data": {
            "text/plain": [
              "<IPython.core.display.Javascript object>"
            ],
            "application/javascript": [
              "\n",
              "    async function download(id, filename, size) {\n",
              "      if (!google.colab.kernel.accessAllowed) {\n",
              "        return;\n",
              "      }\n",
              "      const div = document.createElement('div');\n",
              "      const label = document.createElement('label');\n",
              "      label.textContent = `Downloading \"${filename}\": `;\n",
              "      div.appendChild(label);\n",
              "      const progress = document.createElement('progress');\n",
              "      progress.max = size;\n",
              "      div.appendChild(progress);\n",
              "      document.body.appendChild(div);\n",
              "\n",
              "      const buffers = [];\n",
              "      let downloaded = 0;\n",
              "\n",
              "      const channel = await google.colab.kernel.comms.open(id);\n",
              "      // Send a message to notify the kernel that we're ready.\n",
              "      channel.send({})\n",
              "\n",
              "      for await (const message of channel.messages) {\n",
              "        // Send a message to notify the kernel that we're ready.\n",
              "        channel.send({})\n",
              "        if (message.buffers) {\n",
              "          for (const buffer of message.buffers) {\n",
              "            buffers.push(buffer);\n",
              "            downloaded += buffer.byteLength;\n",
              "            progress.value = downloaded;\n",
              "          }\n",
              "        }\n",
              "      }\n",
              "      const blob = new Blob(buffers, {type: 'application/binary'});\n",
              "      const a = document.createElement('a');\n",
              "      a.href = window.URL.createObjectURL(blob);\n",
              "      a.download = filename;\n",
              "      div.appendChild(a);\n",
              "      a.click();\n",
              "      div.remove();\n",
              "    }\n",
              "  "
            ]
          },
          "metadata": {}
        },
        {
          "output_type": "display_data",
          "data": {
            "text/plain": [
              "<IPython.core.display.Javascript object>"
            ],
            "application/javascript": [
              "download(\"download_9bbf6a12-ff41-4011-be0c-49b9af437dcb\", \"efficientnet_gwo_model.pth\", 260764930)"
            ]
          },
          "metadata": {}
        }
      ]
    },
    {
      "cell_type": "markdown",
      "source": [
        "Plotting Training Loss vs. Validation Loss"
      ],
      "metadata": {
        "id": "iQdCtRNQ-ohe"
      }
    },
    {
      "cell_type": "code",
      "source": [
        "import matplotlib.pyplot as plt\n",
        "\n",
        "plt.plot(loss_df5[\"epoch\"], loss_df5[\"train_loss\"], label=\"Train Loss\")\n",
        "plt.plot(loss_df5[\"epoch\"], loss_df5[\"val_loss\"], label=\"Validation Loss\")\n",
        "plt.xlabel(\"Epoch\")\n",
        "plt.ylabel(\"Logarithmic Loss\")\n",
        "plt.title(\"Training vs Validation Loss\")\n",
        "plt.legend()\n",
        "plt.grid(True)\n",
        "plt.show()"
      ],
      "metadata": {
        "id": "e1QpStvu-qQY",
        "colab": {
          "base_uri": "https://localhost:8080/",
          "height": 472
        },
        "outputId": "2603c336-30c7-4682-eb10-395c9742ae75"
      },
      "execution_count": null,
      "outputs": [
        {
          "output_type": "display_data",
          "data": {
            "text/plain": [
              "<Figure size 640x480 with 1 Axes>"
            ],
            "image/png": "[encoded data removed]"
          },
          "metadata": {}
        }
      ]
    },
    {
      "cell_type": "markdown",
      "source": [
        "Making Predictions to evaluate performance"
      ],
      "metadata": {
        "id": "Oh5cFgx3_EIt"
      }
    },
    {
      "cell_type": "code",
      "source": [
        "from sklearn.metrics import confusion_matrix, classification_report\n",
        "import torch\n",
        "\n",
        "test_preds_gwo_es = []\n",
        "test_labels_gwo_es = []\n",
        "\n",
        "gwo_model.eval()  # Ensure eval mode\n",
        "gwo_model.to(device)\n",
        "\n",
        "with torch.no_grad():\n",
        "    for batch_test2 in test2_data_loader:\n",
        "        pixel_values_test = batch_test2[\"pixel_values\"].to(device)\n",
        "        labels = batch_test2[\"labels\"].to(device).float()\n",
        "\n",
        "        outputs = gwo_model(pixel_values=pixel_values_test)\n",
        "        logits = outputs.logits.squeeze(1)\n",
        "        preds = (logits > 0.5).float()\n",
        "\n",
        "        test_preds_gwo_es.extend(preds.cpu().int().tolist())\n",
        "        test_labels_gwo_es.extend(labels.cpu().int().tolist())\n",
        "\n",
        "test_preds_gwo_es = np.array(test_preds_gwo_es).astype(int).flatten()\n",
        "test_labels_gwo_es = np.array(test_labels_gwo_es).astype(int).flatten()\n",
        "\n",
        "# Confirm they are 1D arrays of 0s and 1s\n",
        "print(\"test_preds shape:\", test_preds_gwo_es.shape)\n",
        "print(\"test_labels shape:\", test_labels_gwo_es.shape)\n",
        "print(\"Sample preds:\", test_preds_gwo_es[:10])\n",
        "print(\"Sample labels:\", test_labels_gwo_es[:10])\n",
        "\n",
        "\n",
        "cm_gwo_es = confusion_matrix(test_labels_gwo_es, test_preds_gwo_es)\n",
        "print(\"Confusion Matrix:\", cm_gwo_es)\n",
        "\n",
        "print(\"\\nClassification Report:\\n\")\n",
        "print(classification_report(test_labels_gwo_es, test_preds_gwo_es, target_names=[\"Class 0\", \"Class 1\"]))\n",
        "\n",
        "TN, FP, FN, TP = cm_gwo_es.ravel()\n",
        "\n",
        "# Calculating accuracy, sensitivity, and specificity\n",
        "accuracy_gwo_es = (TP + TN) / (TP + TN + FP + FN)\n",
        "sensitivity_gwo_es = TP / (TP + FN)\n",
        "specificity_gwo_es = TN / (TN + FP)\n",
        "\n",
        "# Print the metrics\n",
        "print(f\"Accuracy: {accuracy_gwo_es:.4f}\")\n",
        "print(f\"Sensitivity: {sensitivity_gwo_es:.4f}\")\n",
        "print(f\"Specificity: {specificity_gwo_es:.4f}\")"
      ],
      "metadata": {
        "id": "wUQWc-Ze_Esz",
        "colab": {
          "base_uri": "https://localhost:8080/"
        },
        "outputId": "bb950968-2a8d-48fa-cc2d-c2ab03f0b8be"
      },
      "execution_count": null,
      "outputs": [
        {
          "output_type": "stream",
          "name": "stdout",
          "text": [
            "test_preds shape: (1000,)\n",
            "test_labels shape: (1000,)\n",
            "Sample preds: [0 1 1 1 1 0 0 1 0 0]\n",
            "Sample labels: [0 1 1 1 1 1 0 0 1 0]\n",
            "Confusion Matrix: [[470  60]\n",
            " [102 368]]\n",
            "\n",
            "Classification Report:\n",
            "\n",
            "              precision    recall  f1-score   support\n",
            "\n",
            "     Class 0       0.82      0.89      0.85       530\n",
            "     Class 1       0.86      0.78      0.82       470\n",
            "\n",
            "    accuracy                           0.84      1000\n",
            "   macro avg       0.84      0.83      0.84      1000\n",
            "weighted avg       0.84      0.84      0.84      1000\n",
            "\n",
            "Accuracy: 0.8380\n",
            "Sensitivity: 0.7830\n",
            "Specificity: 0.8868\n"
          ]
        }
      ]
    },
    {
      "cell_type": "markdown",
      "source": [
        "Based on the performance of the model made from GWO algorithm's optimal hyperparameters evaluated with early stoppage we can conclude that the best performing model of all evaluated was the early stopping model made with the Grey Wolf Optimizer's tuned hyperparameters as this model had the highest overall accuracy of 83.80% and the highest specificity of 88.68%."
      ],
      "metadata": {
        "id": "IoiNKxr-Fl6t"
      }
    },
    {
      "cell_type": "markdown",
      "source": [
        "**Now Evaluating Best Performing Model on whole training set using early stoppage**"
      ],
      "metadata": {
        "id": "o8m1Qvq7Gukl"
      }
    },
    {
      "cell_type": "markdown",
      "source": [
        "Preparing Training data to be trained on by creating data loader"
      ],
      "metadata": {
        "id": "iuOQpJvUVR_n"
      }
    },
    {
      "cell_type": "code",
      "source": [
        "train_labels = list(ds_train['label'])\n",
        "train_images = list(ds_train['image'])\n",
        "\n",
        "train_dataset = CustomDataset(train_images, train_labels, image_processor)\n",
        "train_data_loader = DataLoader(train_dataset, batch_size=48, shuffle=False, num_workers=0)\n",
        "\n",
        "\n",
        "test3_labels = list(ds_test3['label'])\n",
        "test3_images = list(ds_test3['image'])\n",
        "\n",
        "test3_dataset = CustomDataset(test3_images, test3_labels, image_processor)\n",
        "test3_data_loader = DataLoader(test3_dataset, batch_size=48, shuffle=False, num_workers=0)"
      ],
      "metadata": {
        "id": "CtyL39crVRup"
      },
      "execution_count": null,
      "outputs": []
    },
    {
      "cell_type": "markdown",
      "source": [
        "Implementing Early Stoppage Model with Grey Wolf Optimizer's tuned hyperparameters."
      ],
      "metadata": {
        "id": "lEkydaQeWLOU"
      }
    },
    {
      "cell_type": "code",
      "source": [
        "dropout_rate = 0.3154\n",
        "fc_neurons = 358\n",
        "lr = 0.00184\n",
        "\n",
        "\n",
        "model = EfficientNetForImageClassification.from_pretrained(\"google/efficientnet-b7\")\n",
        "for param in model.parameters():\n",
        "    param.requires_grad = False\n",
        "\n",
        "# Custom GWO classifier\n",
        "model.classifier = nn.Sequential(\n",
        "    nn.Dropout(p=dropout_rate),\n",
        "    nn.Linear(2560, fc_neurons),\n",
        "    nn.ReLU(),\n",
        "    nn.Linear(fc_neurons, 1),\n",
        "    nn.Sigmoid()\n",
        ")\n",
        "\n",
        "device = torch.device(\"cuda\")\n",
        "model = model.to(device)\n",
        "\n",
        "optimizer = torch.optim.Adam(model.parameters(), lr=lr)\n",
        "loss_fn = torch.nn.BCEWithLogitsLoss()\n",
        "from google.colab import files"
      ],
      "metadata": {
        "id": "mM61Lqx9-9CK"
      },
      "execution_count": null,
      "outputs": []
    },
    {
      "cell_type": "code",
      "source": [
        "from torch.cuda.amp import autocast, GradScaler\n",
        "scaler = GradScaler()\n",
        "\n",
        "best_performing_model = model\n",
        "best_performing_model = best_performing_model.to(device)\n",
        "\n",
        "#Setting up For Loop Variables\n",
        "patience = 5\n",
        "patience_counter = 0\n",
        "best_val_loss = float('inf')\n",
        "num_epochs = 250\n",
        "min_accept_loss = 0.001\n",
        "best_performing_model = best_performing_model.to(device)\n",
        "\n",
        "#making dataframe to track epochs, train_loss, val_loss\n",
        "import pandas as pd\n",
        "loss_df4 = pd.DataFrame(columns=[\"epoch\", \"train_loss\", \"val_loss\"])\n",
        "\n",
        "\n",
        "for epoch in range(num_epochs):\n",
        "  # Set model to training mode\n",
        "  best_performing_model.train()\n",
        "  running_loss_train = 0.0\n",
        "  for batch in tqdm(train_data_loader, desc=f\"Epoch {epoch+1}/{num_epochs}\", leave=False):\n",
        "    pixel_values_train =batch[\"pixel_values\"].to(device)\n",
        "\n",
        "    true_labels_train = batch[\"labels\"].to(device)\n",
        "    true_labels_train = true_labels_train.float()\n",
        "    inputs_train = {\"pixel_values\": pixel_values_train}\n",
        "\n",
        "    optimizer.zero_grad()\n",
        "    with autocast():\n",
        "\n",
        "      outputs_train = best_performing_model(**inputs_train)\n",
        "      logits_train = outputs_train.logits.squeeze(1)\n",
        "      loss_train = loss_fn(logits_train, true_labels_train)\n",
        "\n",
        "    scaler.scale(loss_train).backward()\n",
        "    scaler.step(optimizer)\n",
        "    scaler.update()\n",
        "    #loss_train.backward()\n",
        "    #optimizer.step()\n",
        "    running_loss_train += loss_train.item()\n",
        "  avg_loss_train = running_loss_train / len(train_data_loader)\n",
        "  print(f\"Epoch {epoch+1}, Training Loss: {avg_loss_train:.4f}\")\n",
        "\n",
        "# Set model to evaluation mode\n",
        "  best_performing_model.eval()\n",
        "  running_loss_val = 0.0\n",
        "  with torch.no_grad():\n",
        "    for batch_val in tqdm(test3_data_loader, desc=f\"Epoch {epoch+1}/{num_epochs}\", leave=False):\n",
        "      pixel_values_val =batch_val[\"pixel_values\"].to(device)\n",
        "      true_labels_val = batch_val[\"labels\"].to(device)\n",
        "      true_labels_val = true_labels_val.float()\n",
        "      inputs_val = {\"pixel_values\": pixel_values_val}\n",
        "\n",
        "      with autocast():\n",
        "        outputs_val = best_performing_model(**inputs_val)\n",
        "        logits_val = outputs_val.logits.squeeze(1)\n",
        "        loss_val = loss_fn(logits_val, true_labels_val)\n",
        "      running_loss_val += loss_val.item()\n",
        "    avg_loss_val = running_loss_val / len(test3_data_loader)\n",
        "    print(f\"Epoch {epoch+1}, Validation Loss: {avg_loss_val:.4f}\")\n",
        "    # Append loss info to DataFrame\n",
        "  loss_df4 = pd.concat([loss_df4,pd.DataFrame.from_dict({\"epoch\": [epoch + 1],\n",
        "                                                     \"train_loss\": [avg_loss_train],\n",
        "                                                     \"val_loss\": [avg_loss_val]})],\n",
        "                                                        ignore_index=True)\n",
        "\n",
        "  if avg_loss_val < best_val_loss - min_accept_loss:\n",
        "    best_val_loss = avg_loss_val\n",
        "    patience_counter = 0\n",
        "  else:\n",
        "      patience_counter += 1\n",
        "      if patience_counter >= patience:\n",
        "        print(f\"Early stopping at epoch {epoch + 1}\")\n",
        "        break\n",
        "\n",
        "torch.save(best_performing_model, \"efficientnet_best_performing_model.pth\")\n",
        "print(\"Model saved to efficientnet_best_performing_model.pth\")\n",
        "files.download(\"efficientnet_best_performing_model.pth\")"
      ],
      "metadata": {
        "id": "x76ghSYEG46a",
        "colab": {
          "base_uri": "https://localhost:8080/",
          "height": 1000
        },
        "outputId": "056a7297-746c-4ba4-8489-aadc98643ba9"
      },
      "execution_count": 10,
      "outputs": [
        {
          "metadata": {
            "tags": null
          },
          "name": "stderr",
          "output_type": "stream",
          "text": [
            "<ipython-input-10-40b157a9d736>:2: FutureWarning: `torch.cuda.amp.GradScaler(args...)` is deprecated. Please use `torch.amp.GradScaler('cuda', args...)` instead.\n",
            "  scaler = GradScaler()\n",
            "Epoch 1/250:   0%|          | 0/157 [00:00<?, ?it/s]/usr/local/lib/python3.11/dist-packages/transformers/image_processing_utils.py:42: UserWarning: The following named arguments are not valid for `EfficientNetImageProcessor.preprocess` and were ignored: 'padding'\n",
            "  return self.preprocess(images, **kwargs)\n",
            "<ipython-input-10-40b157a9d736>:32: FutureWarning: `torch.cuda.amp.autocast(args...)` is deprecated. Please use `torch.amp.autocast('cuda', args...)` instead.\n",
            "  with autocast():\n"
          ]
        },
        {
          "metadata": {
            "tags": null
          },
          "name": "stdout",
          "output_type": "stream",
          "text": [
            "Epoch 1, Training Loss: 0.5948\n"
          ]
        },
        {
          "metadata": {
            "tags": null
          },
          "name": "stderr",
          "output_type": "stream",
          "text": [
            "Epoch 1/250:   0%|          | 0/21 [00:00<?, ?it/s]<ipython-input-10-40b157a9d736>:57: FutureWarning: `torch.cuda.amp.autocast(args...)` is deprecated. Please use `torch.amp.autocast('cuda', args...)` instead.\n",
            "  with autocast():\n",
            "<ipython-input-10-40b157a9d736>:65: FutureWarning: The behavior of DataFrame concatenation with empty or all-NA entries is deprecated. In a future version, this will no longer exclude empty or all-NA columns when determining the result dtypes. To retain the old behavior, exclude the relevant entries before the concat operation.\n",
            "  loss_df4 = pd.concat([loss_df4,pd.DataFrame.from_dict({\"epoch\": [epoch + 1],\n"
          ]
        },
        {
          "metadata": {
            "tags": null
          },
          "name": "stdout",
          "output_type": "stream",
          "text": [
            "Epoch 1, Validation Loss: 0.5889\n"
          ]
        },
        {
          "metadata": {
            "tags": null
          },
          "name": "stderr",
          "output_type": "stream",
          "text": [
            ""
          ]
        },
        {
          "metadata": {
            "tags": null
          },
          "name": "stdout",
          "output_type": "stream",
          "text": [
            "Epoch 2, Training Loss: 0.5788\n"
          ]
        },
        {
          "metadata": {
            "tags": null
          },
          "name": "stderr",
          "output_type": "stream",
          "text": [
            ""
          ]
        },
        {
          "metadata": {
            "tags": null
          },
          "name": "stdout",
          "output_type": "stream",
          "text": [
            "Epoch 2, Validation Loss: 0.5849\n"
          ]
        },
        {
          "metadata": {
            "tags": null
          },
          "name": "stderr",
          "output_type": "stream",
          "text": [
            ""
          ]
        },
        {
          "metadata": {
            "tags": null
          },
          "name": "stdout",
          "output_type": "stream",
          "text": [
            "Epoch 3, Training Loss: 0.5772\n"
          ]
        },
        {
          "metadata": {
            "tags": null
          },
          "name": "stderr",
          "output_type": "stream",
          "text": [
            ""
          ]
        },
        {
          "metadata": {
            "tags": null
          },
          "name": "stdout",
          "output_type": "stream",
          "text": [
            "Epoch 3, Validation Loss: 0.5857\n"
          ]
        },
        {
          "metadata": {
            "tags": null
          },
          "name": "stderr",
          "output_type": "stream",
          "text": [
            ""
          ]
        },
        {
          "metadata": {
            "tags": null
          },
          "name": "stdout",
          "output_type": "stream",
          "text": [
            "Epoch 4, Training Loss: 0.5744\n"
          ]
        },
        {
          "metadata": {
            "tags": null
          },
          "name": "stderr",
          "output_type": "stream",
          "text": [
            ""
          ]
        },
        {
          "metadata": {
            "tags": null
          },
          "name": "stdout",
          "output_type": "stream",
          "text": [
            "Epoch 4, Validation Loss: 0.5830\n"
          ]
        },
        {
          "metadata": {
            "tags": null
          },
          "name": "stderr",
          "output_type": "stream",
          "text": [
            ""
          ]
        },
        {
          "metadata": {
            "tags": null
          },
          "name": "stdout",
          "output_type": "stream",
          "text": [
            "Epoch 5, Training Loss: 0.5704\n"
          ]
        },
        {
          "metadata": {
            "tags": null
          },
          "name": "stderr",
          "output_type": "stream",
          "text": [
            ""
          ]
        },
        {
          "metadata": {
            "tags": null
          },
          "name": "stdout",
          "output_type": "stream",
          "text": [
            "Epoch 5, Validation Loss: 0.5831\n"
          ]
        },
        {
          "metadata": {
            "tags": null
          },
          "name": "stderr",
          "output_type": "stream",
          "text": [
            ""
          ]
        },
        {
          "metadata": {
            "tags": null
          },
          "name": "stdout",
          "output_type": "stream",
          "text": [
            "Epoch 6, Training Loss: 0.5686\n"
          ]
        },
        {
          "metadata": {
            "tags": null
          },
          "name": "stderr",
          "output_type": "stream",
          "text": [
            ""
          ]
        },
        {
          "metadata": {
            "tags": null
          },
          "name": "stdout",
          "output_type": "stream",
          "text": [
            "Epoch 6, Validation Loss: 0.5810\n"
          ]
        },
        {
          "metadata": {
            "tags": null
          },
          "name": "stderr",
          "output_type": "stream",
          "text": [
            ""
          ]
        },
        {
          "metadata": {
            "tags": null
          },
          "name": "stdout",
          "output_type": "stream",
          "text": [
            "Epoch 7, Training Loss: 0.5641\n"
          ]
        },
        {
          "metadata": {
            "tags": null
          },
          "name": "stderr",
          "output_type": "stream",
          "text": [
            ""
          ]
        },
        {
          "metadata": {
            "tags": null
          },
          "name": "stdout",
          "output_type": "stream",
          "text": [
            "Epoch 7, Validation Loss: 0.5812\n"
          ]
        },
        {
          "metadata": {
            "tags": null
          },
          "name": "stderr",
          "output_type": "stream",
          "text": [
            ""
          ]
        },
        {
          "metadata": {
            "tags": null
          },
          "name": "stdout",
          "output_type": "stream",
          "text": [
            "Epoch 8, Training Loss: 0.5635\n"
          ]
        },
        {
          "metadata": {
            "tags": null
          },
          "name": "stderr",
          "output_type": "stream",
          "text": [
            ""
          ]
        },
        {
          "metadata": {
            "tags": null
          },
          "name": "stdout",
          "output_type": "stream",
          "text": [
            "Epoch 8, Validation Loss: 0.5838\n"
          ]
        },
        {
          "metadata": {
            "tags": null
          },
          "name": "stderr",
          "output_type": "stream",
          "text": [
            ""
          ]
        },
        {
          "metadata": {
            "tags": null
          },
          "name": "stdout",
          "output_type": "stream",
          "text": [
            "Epoch 9, Training Loss: 0.5629\n"
          ]
        },
        {
          "metadata": {
            "tags": null
          },
          "name": "stderr",
          "output_type": "stream",
          "text": [
            ""
          ]
        },
        {
          "metadata": {
            "tags": null
          },
          "name": "stdout",
          "output_type": "stream",
          "text": [
            "Epoch 9, Validation Loss: 0.5869\n"
          ]
        },
        {
          "metadata": {
            "tags": null
          },
          "name": "stderr",
          "output_type": "stream",
          "text": [
            ""
          ]
        },
        {
          "metadata": {
            "tags": null
          },
          "name": "stdout",
          "output_type": "stream",
          "text": [
            "Epoch 10, Training Loss: 0.5618\n"
          ]
        },
        {
          "metadata": {
            "tags": null
          },
          "name": "stderr",
          "output_type": "stream",
          "text": [
            ""
          ]
        },
        {
          "metadata": {
            "tags": null
          },
          "name": "stdout",
          "output_type": "stream",
          "text": [
            "Epoch 10, Validation Loss: 0.5818\n"
          ]
        },
        {
          "output_type": "stream",
          "name": "stderr",
          "text": []
        },
        {
          "output_type": "stream",
          "name": "stdout",
          "text": [
            "Epoch 11, Training Loss: 0.5606\n"
          ]
        },
        {
          "output_type": "stream",
          "name": "stderr",
          "text": []
        },
        {
          "output_type": "stream",
          "name": "stdout",
          "text": [
            "Epoch 11, Validation Loss: 0.5797\n"
          ]
        },
        {
          "output_type": "stream",
          "name": "stderr",
          "text": []
        },
        {
          "output_type": "stream",
          "name": "stdout",
          "text": [
            "Epoch 12, Training Loss: 0.5590\n"
          ]
        },
        {
          "output_type": "stream",
          "name": "stderr",
          "text": []
        },
        {
          "output_type": "stream",
          "name": "stdout",
          "text": [
            "Epoch 12, Validation Loss: 0.5791\n"
          ]
        },
        {
          "output_type": "stream",
          "name": "stderr",
          "text": []
        },
        {
          "output_type": "stream",
          "name": "stdout",
          "text": [
            "Epoch 13, Training Loss: 0.5564\n"
          ]
        },
        {
          "output_type": "stream",
          "name": "stderr",
          "text": []
        },
        {
          "output_type": "stream",
          "name": "stdout",
          "text": [
            "Epoch 13, Validation Loss: 0.5808\n"
          ]
        },
        {
          "output_type": "stream",
          "name": "stderr",
          "text": []
        },
        {
          "output_type": "stream",
          "name": "stdout",
          "text": [
            "Epoch 14, Training Loss: 0.5573\n"
          ]
        },
        {
          "output_type": "stream",
          "name": "stderr",
          "text": []
        },
        {
          "output_type": "stream",
          "name": "stdout",
          "text": [
            "Epoch 14, Validation Loss: 0.5802\n"
          ]
        },
        {
          "output_type": "stream",
          "name": "stderr",
          "text": []
        },
        {
          "output_type": "stream",
          "name": "stdout",
          "text": [
            "Epoch 15, Training Loss: 0.5547\n"
          ]
        },
        {
          "output_type": "stream",
          "name": "stderr",
          "text": []
        },
        {
          "output_type": "stream",
          "name": "stdout",
          "text": [
            "Epoch 15, Validation Loss: 0.5754\n"
          ]
        },
        {
          "output_type": "stream",
          "name": "stderr",
          "text": []
        },
        {
          "output_type": "stream",
          "name": "stdout",
          "text": [
            "Epoch 16, Training Loss: 0.5532\n"
          ]
        },
        {
          "output_type": "stream",
          "name": "stderr",
          "text": []
        },
        {
          "output_type": "stream",
          "name": "stdout",
          "text": [
            "Epoch 16, Validation Loss: 0.5755\n"
          ]
        },
        {
          "output_type": "stream",
          "name": "stderr",
          "text": []
        },
        {
          "output_type": "stream",
          "name": "stdout",
          "text": [
            "Epoch 17, Training Loss: 0.5520\n"
          ]
        },
        {
          "output_type": "stream",
          "name": "stderr",
          "text": []
        },
        {
          "output_type": "stream",
          "name": "stdout",
          "text": [
            "Epoch 17, Validation Loss: 0.5734\n"
          ]
        },
        {
          "output_type": "stream",
          "name": "stderr",
          "text": []
        },
        {
          "output_type": "stream",
          "name": "stdout",
          "text": [
            "Epoch 18, Training Loss: 0.5506\n"
          ]
        },
        {
          "output_type": "stream",
          "name": "stderr",
          "text": []
        },
        {
          "output_type": "stream",
          "name": "stdout",
          "text": [
            "Epoch 18, Validation Loss: 0.5765\n"
          ]
        },
        {
          "output_type": "stream",
          "name": "stderr",
          "text": []
        },
        {
          "output_type": "stream",
          "name": "stdout",
          "text": [
            "Epoch 19, Training Loss: 0.5511\n"
          ]
        },
        {
          "output_type": "stream",
          "name": "stderr",
          "text": []
        },
        {
          "output_type": "stream",
          "name": "stdout",
          "text": [
            "Epoch 19, Validation Loss: 0.5805\n"
          ]
        },
        {
          "output_type": "stream",
          "name": "stderr",
          "text": []
        },
        {
          "output_type": "stream",
          "name": "stdout",
          "text": [
            "Epoch 20, Training Loss: 0.5503\n"
          ]
        },
        {
          "output_type": "stream",
          "name": "stderr",
          "text": []
        },
        {
          "output_type": "stream",
          "name": "stdout",
          "text": [
            "Epoch 20, Validation Loss: 0.5796\n"
          ]
        },
        {
          "output_type": "stream",
          "name": "stderr",
          "text": []
        },
        {
          "output_type": "stream",
          "name": "stdout",
          "text": [
            "Epoch 21, Training Loss: 0.5483\n"
          ]
        },
        {
          "output_type": "stream",
          "name": "stderr",
          "text": []
        },
        {
          "output_type": "stream",
          "name": "stdout",
          "text": [
            "Epoch 21, Validation Loss: 0.5802\n"
          ]
        },
        {
          "output_type": "stream",
          "name": "stderr",
          "text": []
        },
        {
          "output_type": "stream",
          "name": "stdout",
          "text": [
            "Epoch 22, Training Loss: 0.5493\n"
          ]
        },
        {
          "output_type": "stream",
          "name": "stderr",
          "text": []
        },
        {
          "output_type": "stream",
          "name": "stdout",
          "text": [
            "Epoch 22, Validation Loss: 0.5797\n",
            "Early stopping at epoch 22\n",
            "Model saved to efficientnet_best_performing_model.pth\n"
          ]
        },
        {
          "output_type": "display_data",
          "data": {
            "text/plain": [
              "<IPython.core.display.Javascript object>"
            ],
            "application/javascript": [
              "\n",
              "    async function download(id, filename, size) {\n",
              "      if (!google.colab.kernel.accessAllowed) {\n",
              "        return;\n",
              "      }\n",
              "      const div = document.createElement('div');\n",
              "      const label = document.createElement('label');\n",
              "      label.textContent = `Downloading \"${filename}\": `;\n",
              "      div.appendChild(label);\n",
              "      const progress = document.createElement('progress');\n",
              "      progress.max = size;\n",
              "      div.appendChild(progress);\n",
              "      document.body.appendChild(div);\n",
              "\n",
              "      const buffers = [];\n",
              "      let downloaded = 0;\n",
              "\n",
              "      const channel = await google.colab.kernel.comms.open(id);\n",
              "      // Send a message to notify the kernel that we're ready.\n",
              "      channel.send({})\n",
              "\n",
              "      for await (const message of channel.messages) {\n",
              "        // Send a message to notify the kernel that we're ready.\n",
              "        channel.send({})\n",
              "        if (message.buffers) {\n",
              "          for (const buffer of message.buffers) {\n",
              "            buffers.push(buffer);\n",
              "            downloaded += buffer.byteLength;\n",
              "            progress.value = downloaded;\n",
              "          }\n",
              "        }\n",
              "      }\n",
              "      const blob = new Blob(buffers, {type: 'application/binary'});\n",
              "      const a = document.createElement('a');\n",
              "      a.href = window.URL.createObjectURL(blob);\n",
              "      a.download = filename;\n",
              "      div.appendChild(a);\n",
              "      a.click();\n",
              "      div.remove();\n",
              "    }\n",
              "  "
            ]
          },
          "metadata": {}
        },
        {
          "output_type": "display_data",
          "data": {
            "text/plain": [
              "<IPython.core.display.Javascript object>"
            ],
            "application/javascript": [
              "download(\"download_1bea9dbd-b470-4c92-b4b5-bbf75e569f79\", \"efficientnet_best_performing_model.pth\", 260779466)"
            ]
          },
          "metadata": {}
        }
      ]
    },
    {
      "cell_type": "markdown",
      "source": [
        "Plotting Training Loss vs. Validation Loss"
      ],
      "metadata": {
        "id": "noqNb1GzPxxc"
      }
    },
    {
      "cell_type": "code",
      "source": [
        "import matplotlib.pyplot as plt\n",
        "\n",
        "plt.plot(loss_df4[\"epoch\"], loss_df4[\"train_loss\"], label=\"Train Loss\")\n",
        "plt.plot(loss_df4[\"epoch\"], loss_df4[\"val_loss\"], label=\"Validation Loss\")\n",
        "plt.xlabel(\"Epoch\")\n",
        "plt.ylabel(\"Logarithmic Loss\")\n",
        "plt.title(\"Training vs Validation Loss\")\n",
        "plt.legend()\n",
        "plt.grid(True)\n",
        "plt.show()"
      ],
      "metadata": {
        "id": "KBQB_XCRPyaP",
        "colab": {
          "base_uri": "https://localhost:8080/",
          "height": 472
        },
        "outputId": "c91e6bb9-8289-4ce1-89bc-49c58a6ddc1d"
      },
      "execution_count": 11,
      "outputs": [
        {
          "output_type": "display_data",
          "data": {
            "text/plain": [
              "<Figure size 640x480 with 1 Axes>"
            ],
            "image/png": "[encoded data removed]"
          },
          "metadata": {}
        }
      ]
    },
    {
      "cell_type": "markdown",
      "source": [
        "Making Predictions to Evaluate Final Model"
      ],
      "metadata": {
        "id": "yLYmIkulaQMN"
      }
    },
    {
      "cell_type": "code",
      "source": [
        "from sklearn.metrics import confusion_matrix, classification_report\n",
        "import torch\n",
        "\n",
        "test_preds_bfm_es = []\n",
        "test_labels_bfm_es = []\n",
        "\n",
        "best_performing_model.eval()  # Ensure eval mode\n",
        "best_performing_model.to(device)\n",
        "\n",
        "with torch.no_grad():\n",
        "    for batch_test2 in test2_data_loader:\n",
        "        pixel_values_test = batch_test2[\"pixel_values\"].to(device)\n",
        "        labels = batch_test2[\"labels\"].to(device).float()\n",
        "\n",
        "        outputs = best_performing_model(pixel_values=pixel_values_test)\n",
        "        logits = outputs.logits.squeeze(1)\n",
        "        preds = (logits > 0.5).float()\n",
        "\n",
        "        test_preds_bfm_es.extend(preds.cpu().int().tolist())\n",
        "        test_labels_bfm_es.extend(labels.cpu().int().tolist())\n",
        "\n",
        "test_preds_bfm_es = np.array(test_preds_bfm_es).astype(int).flatten()\n",
        "test_labels_bfm_es= np.array(test_labels_bfm_es).astype(int).flatten()\n",
        "\n",
        "# Confirm they are 1D arrays of 0s and 1s\n",
        "print(\"test_preds shape:\", test_preds_bfm_es.shape)\n",
        "print(\"test_labels shape:\", test_labels_bfm_es.shape)\n",
        "print(\"Sample preds:\", test_preds_bfm_es[:10])\n",
        "print(\"Sample labels:\", test_labels_bfm_es[:10])\n",
        "\n",
        "\n",
        "cm_bfm_es = confusion_matrix(test_labels_bfm_es, test_preds_bfm_es)\n",
        "print(\"Confusion Matrix:\", cm_bfm_es)\n",
        "\n",
        "print(\"\\nClassification Report:\\n\")\n",
        "print(classification_report(test_labels_bfm_es, test_preds_bfm_es, target_names=[\"Class 0\", \"Class 1\"]))\n",
        "\n",
        "TN, FP, FN, TP = cm_bfm_es.ravel()\n",
        "\n",
        "# Calculating accuracy, sensitivity, and specificity\n",
        "accuracy_bfm_es = (TP + TN) / (TP + TN + FP + FN)\n",
        "sensitivity_bfm_es = TP / (TP + FN)\n",
        "specificity_bfm_es= TN / (TN + FP)\n",
        "\n",
        "# Print the metrics\n",
        "print(f\"Accuracy: {accuracy_bfm_es:.4f}\")\n",
        "print(f\"Sensitivity: {sensitivity_bfm_es:.4f}\")\n",
        "print(f\"Specificity: {specificity_bfm_es:.4f}\")"
      ],
      "metadata": {
        "id": "I8cGDGvsaQjr",
        "colab": {
          "base_uri": "https://localhost:8080/"
        },
        "outputId": "b07166e8-4203-41e4-b3b8-e2205e6025b8"
      },
      "execution_count": 12,
      "outputs": [
        {
          "output_type": "stream",
          "name": "stdout",
          "text": [
            "test_preds shape: (1000,)\n",
            "test_labels shape: (1000,)\n",
            "Sample preds: [1 0 0 0 0 0 1 0 1 0]\n",
            "Sample labels: [1 0 0 0 0 0 1 0 1 0]\n",
            "Confusion Matrix: [[469  33]\n",
            " [108 390]]\n",
            "\n",
            "Classification Report:\n",
            "\n",
            "              precision    recall  f1-score   support\n",
            "\n",
            "     Class 0       0.81      0.93      0.87       502\n",
            "     Class 1       0.92      0.78      0.85       498\n",
            "\n",
            "    accuracy                           0.86      1000\n",
            "   macro avg       0.87      0.86      0.86      1000\n",
            "weighted avg       0.87      0.86      0.86      1000\n",
            "\n",
            "Accuracy: 0.8590\n",
            "Sensitivity: 0.7831\n",
            "Specificity: 0.9343\n"
          ]
        }
      ]
    },
    {
      "cell_type": "markdown",
      "source": [
        "The final model trained over all the training data and evaluated on a held out unseen test dataset using the tuned hyperparameters from the Grey Wolf Optimizer produced the best model with an overall accuracy of 85.90% and a specificity of 93.43%.\n"
      ],
      "metadata": {
        "id": "0sO9aDyG9uRQ"
      }
    }
  ]
}